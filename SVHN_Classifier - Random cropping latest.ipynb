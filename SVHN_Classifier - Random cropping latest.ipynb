{
  "nbformat": 4,
  "nbformat_minor": 0,
  "metadata": {
    "colab": {
      "name": "SVHN Classifier.ipynb",
      "version": "0.3.2",
      "provenance": [],
      "collapsed_sections": []
    },
    "kernelspec": {
      "name": "python3",
      "display_name": "Python 3"
    },
    "accelerator": "GPU"
  },
  "cells": [
    {
      "cell_type": "code",
      "metadata": {
        "id": "4QVFj1jjuS4i",
        "colab_type": "code",
        "outputId": "6519cbd2-23ef-435f-a272-45f7462eab28",
        "colab": {
          "base_uri": "https://localhost:8080/",
          "height": 277
        }
      },
      "source": [
        "# Execute this code block to install dependencies when running on colab\n",
        "try:\n",
        "    import torch\n",
        "except:\n",
        "    from os.path import exists\n",
        "    from wheel.pep425tags import get_abbr_impl, get_impl_ver, get_abi_tag\n",
        "    platform = '{}{}-{}'.format(get_abbr_impl(), get_impl_ver(), get_abi_tag())\n",
        "    cuda_output = !ldconfig -p|grep cudart.so|sed -e 's/.*\\.\\([0-9]*\\)\\.\\([0-9]*\\)$/cu\\1\\2/'\n",
        "    accelerator = cuda_output[0] if exists('/dev/nvidia0') else 'cpu'\n",
        "\n",
        "    !pip install -q http://download.pytorch.org/whl/{accelerator}/torch-1.0.0-{platform}-linux_x86_64.whl torchvision\n",
        "\n",
        "try: \n",
        "    import torchbearer\n",
        "except:\n",
        "    !pip install torchbearer"
      ],
      "execution_count": 1,
      "outputs": [
        {
          "output_type": "stream",
          "text": [
            "Collecting torchbearer\n",
            "\u001b[?25l  Downloading https://files.pythonhosted.org/packages/5a/62/79c45d98e22e87b44c9b354d1b050526de80ac8a4da777126b7c86c2bb3e/torchbearer-0.3.0.tar.gz (84kB)\n",
            "\u001b[K     |████████████████████████████████| 92kB 24.0MB/s \n",
            "\u001b[?25hRequirement already satisfied: torch>=0.4 in /usr/local/lib/python3.6/dist-packages (from torchbearer) (1.1.0)\n",
            "Requirement already satisfied: torchvision in /usr/local/lib/python3.6/dist-packages (from torchbearer) (0.2.2.post3)\n",
            "Requirement already satisfied: tqdm in /usr/local/lib/python3.6/dist-packages (from torchbearer) (4.28.1)\n",
            "Requirement already satisfied: numpy in /usr/local/lib/python3.6/dist-packages (from torch>=0.4->torchbearer) (1.16.3)\n",
            "Requirement already satisfied: pillow>=4.1.1 in /usr/local/lib/python3.6/dist-packages (from torchvision->torchbearer) (4.3.0)\n",
            "Requirement already satisfied: six in /usr/local/lib/python3.6/dist-packages (from torchvision->torchbearer) (1.12.0)\n",
            "Requirement already satisfied: olefile in /usr/local/lib/python3.6/dist-packages (from pillow>=4.1.1->torchvision->torchbearer) (0.46)\n",
            "Building wheels for collected packages: torchbearer\n",
            "  Building wheel for torchbearer (setup.py) ... \u001b[?25l\u001b[?25hdone\n",
            "  Stored in directory: /root/.cache/pip/wheels/6c/cb/69/466aef9cee879fb8f645bd602e34d45e754fb3dee2cb1a877a\n",
            "Successfully built torchbearer\n",
            "Installing collected packages: torchbearer\n",
            "Successfully installed torchbearer-0.3.0\n"
          ],
          "name": "stdout"
        }
      ]
    },
    {
      "cell_type": "code",
      "metadata": {
        "id": "ZzO4fi6FufIb",
        "colab_type": "code",
        "colab": {}
      },
      "source": [
        "# automatically reload external modules if they change\n",
        "%load_ext autoreload\n",
        "%autoreload 2\n",
        "\n",
        "import torch\n",
        "import torch.nn.functional as F\n",
        "import torchvision.transforms as transforms\n",
        "import torchbearer\n",
        "from torch import nn\n",
        "from torch import optim\n",
        "from torchvision.datasets import MNIST\n",
        "from torchvision.datasets import SVHN\n",
        "from torchbearer import Trial\n",
        "import matplotlib.pyplot as plt\n",
        "from torch.utils.data import DataLoader, Dataset\n",
        "import torchvision\n",
        "from torchvision import transforms\n",
        "\n",
        "%matplotlib inline"
      ],
      "execution_count": 0,
      "outputs": []
    },
    {
      "cell_type": "code",
      "metadata": {
        "id": "5U3Z5bKzuhai",
        "colab_type": "code",
        "colab": {}
      },
      "source": [
        "# fix random seed for reproducibility\n",
        "seed = 7\n",
        "torch.manual_seed(seed)\n",
        "torch.backends.cudnn.deterministic = True"
      ],
      "execution_count": 0,
      "outputs": []
    },
    {
      "cell_type": "markdown",
      "metadata": {
        "id": "jy59LXhgGgcC",
        "colab_type": "text"
      },
      "source": [
        "Loading the SVHN dataset in which there are just individual digit info. This dataset is provided by torchvision. But it is not the main dataset that we have to use. I just import it and define the loaders for later. We can run our CNN to test indv digit accuracy"
      ]
    },
    {
      "cell_type": "code",
      "metadata": {
        "id": "ZjlzMBGYujLv",
        "colab_type": "code",
        "outputId": "c8473514-b6aa-496f-abba-8b8faa2cd3f8",
        "colab": {
          "base_uri": "https://localhost:8080/",
          "height": 1122
        }
      },
      "source": [
        "# convert each image to tensor format\n",
        "transform = transforms.Compose([\n",
        "    transforms.ToTensor()  # convert to tensor\n",
        "])\n",
        "\n",
        "# load data\n",
        "trainset = SVHN(root='.', split='train', transform=transform, download=True)\n",
        "\n",
        "testset = SVHN(root=\".\", split='test', transform=transform, download=True)\n",
        "\n",
        "# create data loaders\n",
        "trainloader = DataLoader(trainset, batch_size=128, shuffle=True)\n",
        "testloader = DataLoader(testset, batch_size=128, shuffle=True)"
      ],
      "execution_count": 0,
      "outputs": [
        {
          "output_type": "stream",
          "text": [
            "\r0it [00:00, ?it/s]"
          ],
          "name": "stderr"
        },
        {
          "output_type": "stream",
          "text": [
            "Downloading http://ufldl.stanford.edu/housenumbers/train_32x32.mat to ./train_32x32.mat\n"
          ],
          "name": "stdout"
        },
        {
          "output_type": "stream",
          "text": [
            "100%|█████████▉| 181706752/182040794 [00:57<00:00, 4556572.63it/s]\n",
            "0it [00:00, ?it/s]\u001b[A"
          ],
          "name": "stderr"
        },
        {
          "output_type": "stream",
          "text": [
            "Downloading http://ufldl.stanford.edu/housenumbers/test_32x32.mat to ./test_32x32.mat\n"
          ],
          "name": "stdout"
        },
        {
          "output_type": "stream",
          "text": [
            "\n",
            "  0%|          | 0/64275384 [00:00<?, ?it/s]\u001b[A\n",
            "  0%|          | 16384/64275384 [00:00<09:16, 115473.57it/s]\u001b[A\n",
            "  0%|          | 32768/64275384 [00:00<09:16, 115342.98it/s]\u001b[A\n",
            "  0%|          | 57344/64275384 [00:00<08:21, 128058.64it/s]\u001b[A\n",
            "  0%|          | 81920/64275384 [00:00<07:42, 138774.14it/s]\u001b[A\n",
            "  0%|          | 122880/64275384 [00:01<06:30, 164274.36it/s]\u001b[A\n",
            "  0%|          | 172032/64275384 [00:01<05:28, 194897.25it/s]\u001b[A\n",
            "  0%|          | 229376/64275384 [00:01<04:37, 230593.93it/s]\u001b[A\n",
            "  0%|          | 294912/64275384 [00:01<03:55, 271174.21it/s]\u001b[A\n",
            "  1%|          | 352256/64275384 [00:01<03:32, 300619.18it/s]\u001b[A\n",
            "  1%|          | 425984/64275384 [00:01<03:05, 343907.84it/s]\u001b[A\n",
            "  1%|          | 507904/64275384 [00:01<02:43, 391077.71it/s]\u001b[A\n",
            "  1%|          | 614400/64275384 [00:02<02:19, 456222.89it/s]\u001b[A\n",
            "  1%|          | 745472/64275384 [00:02<01:58, 537576.11it/s]\u001b[A\n",
            "  1%|▏         | 884736/64275384 [00:02<01:42, 621314.05it/s]\u001b[A\n",
            "  2%|▏         | 1048576/64275384 [00:02<01:27, 720563.07it/s]\u001b[A\n",
            "  2%|▏         | 1212416/64275384 [00:02<01:17, 811561.79it/s]\u001b[A\n",
            "  2%|▏         | 1400832/64275384 [00:02<01:08, 917959.45it/s]\u001b[A\n",
            "  3%|▎         | 1613824/64275384 [00:02<01:00, 1038214.99it/s]\u001b[A\n",
            "  3%|▎         | 1884160/64275384 [00:02<00:51, 1201206.18it/s]\u001b[A\n",
            "  3%|▎         | 2187264/64275384 [00:03<00:44, 1381922.86it/s]\u001b[A\n",
            "  4%|▍         | 2523136/64275384 [00:03<00:39, 1578042.34it/s]\u001b[A\n",
            "  5%|▍         | 2924544/64275384 [00:03<00:33, 1817739.01it/s]\u001b[A\n",
            "  5%|▌         | 3383296/64275384 [00:03<00:29, 2091188.39it/s]\u001b[A\n",
            "  6%|▌         | 3842048/64275384 [00:03<00:25, 2336601.94it/s]\u001b[A\n",
            "  7%|▋         | 4423680/64275384 [00:03<00:22, 2680617.25it/s]\u001b[A\n",
            "  8%|▊         | 5021696/64275384 [00:03<00:19, 3005928.00it/s]\u001b[A\n",
            "  9%|▉         | 5652480/64275384 [00:04<00:17, 3326204.23it/s]\u001b[A\n",
            " 10%|▉         | 6316032/64275384 [00:04<00:15, 3638028.93it/s]\u001b[A\n",
            " 11%|█         | 7012352/64275384 [00:04<00:14, 3940294.07it/s]\u001b[A\n",
            " 12%|█▏        | 7733248/64275384 [00:04<00:13, 4219838.30it/s]\u001b[A\n",
            " 13%|█▎        | 8495104/64275384 [00:04<00:12, 4505658.94it/s]\u001b[A\n",
            " 14%|█▍        | 9297920/64275384 [00:04<00:11, 4795144.57it/s]\u001b[A\n",
            " 16%|█▌        | 10125312/64275384 [00:04<00:10, 5059868.01it/s]\u001b[A\n",
            " 17%|█▋        | 10993664/64275384 [00:05<00:09, 5331312.65it/s]\u001b[A\n",
            " 19%|█▊        | 11911168/64275384 [00:05<00:09, 5621202.16it/s]\u001b[A\n",
            " 20%|██        | 12869632/64275384 [00:05<00:08, 5911216.44it/s]\u001b[A\n",
            " 22%|██▏       | 13877248/64275384 [00:05<00:08, 6216841.23it/s]\u001b[A\n",
            " 23%|██▎       | 14942208/64275384 [00:05<00:07, 6548462.46it/s]\u001b[A\n",
            " 25%|██▍       | 16048128/64275384 [00:05<00:07, 6872482.58it/s]\u001b[A\n",
            " 27%|██▋       | 17219584/64275384 [00:05<00:06, 7229280.98it/s]\u001b[A\n",
            " 29%|██▊       | 18440192/64275384 [00:06<00:06, 7582272.46it/s]\u001b[A\n",
            " 31%|███       | 19726336/64275384 [00:06<00:05, 7856521.19it/s]\u001b[A\n",
            " 33%|███▎      | 21069824/64275384 [00:06<00:05, 8386944.48it/s]\u001b[A\n",
            " 35%|███▍      | 22413312/64275384 [00:06<00:04, 8678062.35it/s]\u001b[A\n",
            " 37%|███▋      | 23830528/64275384 [00:06<00:04, 8966132.46it/s]\u001b[A\n",
            " 39%|███▉      | 25321472/64275384 [00:06<00:04, 9369910.38it/s]\u001b[A\n",
            " 42%|████▏     | 26877952/64275384 [00:06<00:03, 9789189.79it/s]\u001b[A\n",
            " 44%|████▍     | 28508160/64275384 [00:07<00:03, 10235072.31it/s]\u001b[A\n",
            " 47%|████▋     | 30220288/64275384 [00:07<00:03, 10712031.86it/s]\u001b[A\n",
            " 50%|████▉     | 32022528/64275384 [00:07<00:02, 11057213.85it/s]\u001b[A\n",
            " 53%|█████▎    | 33906688/64275384 [00:07<00:02, 11627056.49it/s]\u001b[A\n",
            " 56%|█████▌    | 35889152/64275384 [00:07<00:02, 12224329.78it/s]\u001b[A\n",
            " 59%|█████▉    | 37961728/64275384 [00:07<00:02, 12834495.32it/s]\u001b[A\n",
            " 62%|██████▏   | 40067072/64275384 [00:08<00:01, 13356879.46it/s]\u001b[A\n",
            " 66%|██████▌   | 42278912/64275384 [00:08<00:01, 13938667.09it/s]\u001b[A\n",
            " 69%|██████▉   | 44597248/64275384 [00:08<00:01, 14563850.81it/s]\u001b[A\n",
            " 73%|███████▎  | 47013888/64275384 [00:08<00:01, 15205163.13it/s]\u001b[A\n",
            " 77%|███████▋  | 49487872/64275384 [00:08<00:00, 15795290.23it/s]\u001b[A\n",
            " 81%|████████  | 52084736/64275384 [00:08<00:00, 16454200.25it/s]\u001b[A\n",
            " 85%|████████▌ | 54804480/64275384 [00:08<00:00, 17169278.70it/s]\u001b[A\n",
            " 90%|████████▉ | 57655296/64275384 [00:08<00:00, 17935819.71it/s]\u001b[A\n",
            " 94%|█████████▍| 60579840/64275384 [00:09<00:00, 18646101.34it/s]\u001b[A\n",
            " 99%|█████████▉| 63619072/64275384 [00:09<00:00, 19370951.06it/s]\u001b[A"
          ],
          "name": "stderr"
        }
      ]
    },
    {
      "cell_type": "code",
      "metadata": {
        "id": "LDlmlE_9wfU1",
        "colab_type": "code",
        "outputId": "11dc05d9-0317-464e-fbca-f3085b118c45",
        "colab": {
          "base_uri": "https://localhost:8080/",
          "height": 118
        }
      },
      "source": [
        "# per-digit dataset\n",
        "\n",
        "for i, data in enumerate(trainloader):\n",
        "  print (i, data[0].shape, data[1])\n",
        "  break"
      ],
      "execution_count": 0,
      "outputs": [
        {
          "output_type": "stream",
          "text": [
            "0 torch.Size([128, 3, 32, 32]) tensor([2, 1, 3, 2, 1, 2, 2, 4, 9, 4, 4, 3, 2, 2, 2, 4, 5, 6, 4, 0, 2, 5, 8, 7,\n",
            "        5, 2, 7, 6, 0, 4, 4, 3, 2, 9, 4, 9, 1, 3, 1, 8, 5, 1, 3, 7, 5, 7, 1, 1,\n",
            "        6, 1, 4, 2, 8, 4, 0, 6, 7, 7, 8, 1, 9, 2, 5, 0, 8, 8, 8, 3, 1, 3, 4, 1,\n",
            "        2, 4, 6, 1, 6, 5, 0, 2, 1, 2, 4, 1, 9, 7, 6, 5, 4, 3, 9, 0, 1, 5, 2, 4,\n",
            "        2, 1, 7, 1, 5, 1, 9, 2, 5, 4, 0, 6, 4, 2, 0, 0, 9, 3, 0, 7, 5, 8, 2, 3,\n",
            "        4, 6, 2, 2, 2, 1, 3, 6])\n"
          ],
          "name": "stdout"
        }
      ]
    },
    {
      "cell_type": "code",
      "metadata": {
        "id": "MK6o0tAav90F",
        "colab_type": "code",
        "colab": {}
      },
      "source": [
        "# These are all the modules we'll be using later.\n",
        "from __future__ import print_function\n",
        "import numpy as np\n",
        "\n",
        "from six.moves import cPickle as pickle\n",
        "from six.moves import range\n",
        "\n",
        "import os\n",
        "import sys\n",
        "import tarfile\n",
        "from IPython.display import display, Image\n",
        "\n",
        "import h5py\n",
        "\n",
        "import matplotlib.pyplot as plt\n",
        "\n",
        "from PIL import Image\n",
        "import random"
      ],
      "execution_count": 0,
      "outputs": []
    },
    {
      "cell_type": "code",
      "metadata": {
        "id": "kbrn89t5zRrI",
        "colab_type": "code",
        "colab": {}
      },
      "source": [
        "from collections import Counter\n",
        "%matplotlib inline\n",
        "from urllib.request import urlretrieve"
      ],
      "execution_count": 0,
      "outputs": []
    },
    {
      "cell_type": "markdown",
      "metadata": {
        "id": "QQMU59igIDWZ",
        "colab_type": "text"
      },
      "source": [
        "This block of code just downloads the relevant files and extracts them to the local directory. Dont need to understand deeply"
      ]
    },
    {
      "cell_type": "code",
      "metadata": {
        "id": "Q6iL5m4E0GoG",
        "colab_type": "code",
        "outputId": "6b0e70b9-23ae-4ddc-dcd3-8fa1ecbb41d5",
        "colab": {
          "base_uri": "https://localhost:8080/",
          "height": 147
        }
      },
      "source": [
        "url = 'http://ufldl.stanford.edu/housenumbers/'\n",
        "last_percent_reported = None\n",
        "\n",
        "def download_progress_hook(count, blockSize, totalSize):\n",
        "    \"\"\"A hook to report the progress of a download. This is mostly intended for users with\n",
        "    slow internet connections. Reports every 1% change in download progress.\n",
        "    \"\"\"\n",
        "    global last_percent_reported\n",
        "    percent = int(count * blockSize * 100 / totalSize)\n",
        "\n",
        "    if last_percent_reported != percent:\n",
        "        if percent % 5 == 0:\n",
        "            sys.stdout.write(\"%s%%\" % percent)\n",
        "            sys.stdout.flush()\n",
        "        else:\n",
        "            sys.stdout.write(\".\")\n",
        "            sys.stdout.flush()\n",
        "\n",
        "        last_percent_reported = percent\n",
        "\n",
        "def maybe_download(filename, expected_bytes, force=False):\n",
        "    \"\"\"Download a file if not present, and make sure it's the right size.\"\"\"\n",
        "    if force or not os.path.exists(filename):\n",
        "        print('Attempting to download:', filename) \n",
        "        filename, _ = urlretrieve(url + filename, filename, reporthook=download_progress_hook)\n",
        "        print('\\nDownload Complete!')\n",
        "    statinfo = os.stat(filename)\n",
        "    if statinfo.st_size == expected_bytes:\n",
        "        print('Found and verified', filename)\n",
        "    else:\n",
        "        raise Exception(\n",
        "          'Failed to verify ' + filename + '. Can you get to it with a browser?')\n",
        "    return filename\n",
        "\n",
        "train_filename = maybe_download('train.tar.gz', 404141560 )\n",
        "test_filename = maybe_download('test.tar.gz', 276555967 )"
      ],
      "execution_count": 6,
      "outputs": [
        {
          "output_type": "stream",
          "text": [
            "Attempting to download: train.tar.gz\n",
            "0%....5%....10%....15%....20%....25%....30%....35%....40%....45%....50%....55%....60%....65%....70%....75%....80%....85%....90%....95%....100%\n",
            "Download Complete!\n",
            "Found and verified train.tar.gz\n",
            "Attempting to download: test.tar.gz\n",
            "0%....5%....10%....15%....20%....25%....30%....35%....40%....45%....50%....55%....60%....65%....70%....75%....80%....85%....90%....95%....100%\n",
            "Download Complete!\n",
            "Found and verified test.tar.gz\n"
          ],
          "name": "stdout"
        }
      ]
    },
    {
      "cell_type": "markdown",
      "metadata": {
        "id": "nDT23xNABnlr",
        "colab_type": "text"
      },
      "source": [
        "### Extract the data"
      ]
    },
    {
      "cell_type": "code",
      "metadata": {
        "id": "gLxycbVy1p_V",
        "colab_type": "code",
        "outputId": "a494256d-507c-417d-b6e6-399fb26b084d",
        "colab": {
          "base_uri": "https://localhost:8080/",
          "height": 50
        }
      },
      "source": [
        "# places the extracted files in /train and /test\n",
        "\n",
        "num_classes = 10\n",
        "np.random.seed(133)\n",
        "\n",
        "train_filename = 'train.tar.gz'\n",
        "test_filename = 'test.tar.gz'\n",
        "# extra_filename = 'extra.tar.gz'\n",
        "\n",
        "def maybe_extract(filename, force=False):\n",
        "    root = os.path.splitext(os.path.splitext(filename)[0])[0]  # remove .tar.gz\n",
        "    if os.path.isdir(root) and not force:\n",
        "        # You may override by setting force=True.\n",
        "        print('%s already present - Skipping extraction of %s.' % (root, filename))\n",
        "    else:\n",
        "        print('Extracting data for %s. This may take a while. Please wait.' % root)\n",
        "        tar = tarfile.open(filename)\n",
        "        sys.stdout.flush()\n",
        "        tar.extractall()\n",
        "        tar.close()\n",
        "    if not os.path.exists(root+'/digitStruct.mat'):\n",
        "        print(\"digitStruct.mat is missing\")\n",
        "    return root + '/digitStruct.mat'\n",
        "  \n",
        "  \n",
        "train_folders = maybe_extract(train_filename)\n",
        "test_folders = maybe_extract(test_filename)"
      ],
      "execution_count": 7,
      "outputs": [
        {
          "output_type": "stream",
          "text": [
            "Extracting data for train. This may take a while. Please wait.\n",
            "Extracting data for test. This may take a while. Please wait.\n"
          ],
          "name": "stdout"
        }
      ]
    },
    {
      "cell_type": "markdown",
      "metadata": {
        "id": "AoshH2lZBraL",
        "colab_type": "text"
      },
      "source": [
        "### Read the dataset"
      ]
    },
    {
      "cell_type": "code",
      "metadata": {
        "id": "i2OHcG5114ua",
        "colab_type": "code",
        "outputId": "5d2306c8-6b15-4219-e0f2-0c38bb03f444",
        "colab": {
          "base_uri": "https://localhost:8080/",
          "height": 33
        }
      },
      "source": [
        "print(train_folders)\n"
      ],
      "execution_count": 8,
      "outputs": [
        {
          "output_type": "stream",
          "text": [
            "train/digitStruct.mat\n"
          ],
          "name": "stdout"
        }
      ]
    },
    {
      "cell_type": "code",
      "metadata": {
        "id": "e30yb3MpFPaZ",
        "colab_type": "code",
        "outputId": "2119b30c-8152-478d-f576-ca477899fecd",
        "colab": {
          "base_uri": "https://localhost:8080/",
          "height": 33
        }
      },
      "source": [
        "train_dataset = h5py.File(train_folders, \"r\")\n",
        "\n",
        "print (list(train_dataset.keys()))"
      ],
      "execution_count": 9,
      "outputs": [
        {
          "output_type": "stream",
          "text": [
            "['#refs#', 'digitStruct']\n"
          ],
          "name": "stdout"
        }
      ]
    },
    {
      "cell_type": "code",
      "metadata": {
        "id": "6GTBrTvVGF_n",
        "colab_type": "code",
        "outputId": "eab46e62-ee06-4401-bccd-a238b4432bdf",
        "colab": {
          "base_uri": "https://localhost:8080/",
          "height": 50
        }
      },
      "source": [
        "list(train_dataset['digitStruct'].items())"
      ],
      "execution_count": 0,
      "outputs": [
        {
          "output_type": "execute_result",
          "data": {
            "text/plain": [
              "[('bbox', <HDF5 dataset \"bbox\": shape (33402, 1), type \"|O\">),\n",
              " ('name', <HDF5 dataset \"name\": shape (33402, 1), type \"|O\">)]"
            ]
          },
          "metadata": {
            "tags": []
          },
          "execution_count": 12
        }
      ]
    },
    {
      "cell_type": "markdown",
      "metadata": {
        "id": "d8XtP2ZZHX76",
        "colab_type": "text"
      },
      "source": [
        "Basically this means that there are 33402 file names and each of these files has a corr bbox struct which contains info about the images\n",
        "\n"
      ]
    },
    {
      "cell_type": "code",
      "metadata": {
        "id": "Z8vx04dPG8yI",
        "colab_type": "code",
        "outputId": "2dcbbae7-2fd4-4990-d77c-3718b2f64e6b",
        "colab": {
          "base_uri": "https://localhost:8080/",
          "height": 34
        }
      },
      "source": [
        "list(train_dataset['digitStruct'].items())[0][1][0][0]"
      ],
      "execution_count": 0,
      "outputs": [
        {
          "output_type": "execute_result",
          "data": {
            "text/plain": [
              "<HDF5 object reference>"
            ]
          },
          "metadata": {
            "tags": []
          },
          "execution_count": 13
        }
      ]
    },
    {
      "cell_type": "markdown",
      "metadata": {
        "id": "N4wEXK9IKuNH",
        "colab_type": "text"
      },
      "source": [
        "This code block basically transorms all the .mat stuff into python dicts and obj. Basically it does everything Hannah explained"
      ]
    },
    {
      "cell_type": "code",
      "metadata": {
        "id": "ls3qaworIdP0",
        "colab_type": "code",
        "colab": {}
      },
      "source": [
        "# The DigitStructFile is just a wrapper around the h5py data.  It basically references \n",
        "#    inf:              The input h5 matlab file\n",
        "#    digitStructName   The h5 ref to all the file names\n",
        "#    digitStructBbox   The h5 ref to all struc data\n",
        "class DigitStructFile:\n",
        "    def __init__(self, inf):\n",
        "        self.inf = h5py.File(inf, 'r')\n",
        "        self.digitStructName = self.inf['digitStruct']['name']\n",
        "        self.digitStructBbox = self.inf['digitStruct']['bbox']\n",
        "\n",
        "# getName returns the 'name' string for for the n(th) digitStruct. \n",
        "    def getName(self,n):\n",
        "        return ''.join([chr(c[0]) for c in self.inf[self.digitStructName[n][0]].value])\n",
        "\n",
        "# bboxHelper handles the coding difference when there is exactly one bbox or an array of bbox. \n",
        "    def bboxHelper(self,attr):\n",
        "        if (len(attr) > 1):\n",
        "            attr = [self.inf[attr.value[j].item()].value[0][0] for j in range(len(attr))]\n",
        "        else:\n",
        "            attr = [attr.value[0][0]]\n",
        "        return attr\n",
        "\n",
        "# getBbox returns a dict of data for the n(th) bbox. \n",
        "    def getBbox(self,n):\n",
        "        bbox = {}\n",
        "        bb = self.digitStructBbox[n].item()\n",
        "        bbox['height'] = self.bboxHelper(self.inf[bb][\"height\"])\n",
        "        bbox['label'] = self.bboxHelper(self.inf[bb][\"label\"])\n",
        "        bbox['left'] = self.bboxHelper(self.inf[bb][\"left\"])\n",
        "        bbox['top'] = self.bboxHelper(self.inf[bb][\"top\"])\n",
        "        bbox['width'] = self.bboxHelper(self.inf[bb][\"width\"])\n",
        "        return bbox\n",
        "\n",
        "    def getDigitStructure(self,n):\n",
        "        s = self.getBbox(n)\n",
        "        s['name']=self.getName(n)\n",
        "        return s\n",
        "\n",
        "# getAllDigitStructure returns all the digitStruct from the input file.     \n",
        "    def getAllDigitStructure(self):\n",
        "        return [self.getDigitStructure(i) for i in range(len(self.digitStructName))]\n",
        "\n",
        "# Return a restructured version of the dataset (one structure by boxed digit).\n",
        "#\n",
        "#   Return a list of such dicts :\n",
        "#      'filename' : filename of the samples\n",
        "#      'boxes' : list of such dicts (one by digit) :\n",
        "#          'label' : 1 to 9 corresponding digits. 10 for digit '0' in image.\n",
        "#          'left', 'top' : position of bounding box\n",
        "#          'width', 'height' : dimension of bounding box\n",
        "#\n",
        "# Note: We may turn this to a generator, if memory issues arise.\n",
        "    def getAllDigitStructure_ByDigit(self):\n",
        "        pictDat = self.getAllDigitStructure()\n",
        "        result = []\n",
        "        structCnt = 1\n",
        "        for i in range(len(pictDat)):\n",
        "            item = { 'filename' : pictDat[i][\"name\"] }\n",
        "            figures = []\n",
        "            for j in range(len(pictDat[i]['height'])):\n",
        "                figure = {}\n",
        "                figure['height'] = pictDat[i]['height'][j]\n",
        "                figure['label']  = pictDat[i]['label'][j]\n",
        "                figure['left']   = pictDat[i]['left'][j]\n",
        "                figure['top']    = pictDat[i]['top'][j]\n",
        "                figure['width']  = pictDat[i]['width'][j]\n",
        "                figures.append(figure)\n",
        "            structCnt = structCnt + 1\n",
        "            item['boxes'] = figures\n",
        "            result.append(item)\n",
        "        return result"
      ],
      "execution_count": 0,
      "outputs": []
    },
    {
      "cell_type": "code",
      "metadata": {
        "id": "hNTfHx-UIfi9",
        "colab_type": "code",
        "colab": {}
      },
      "source": [
        "train = DigitStructFile(train_folders)\n",
        "train_data = train.getAllDigitStructure_ByDigit()\n",
        "\n",
        "\n",
        "test = DigitStructFile(test_folders)\n",
        "test_data = test.getAllDigitStructure_ByDigit()"
      ],
      "execution_count": 0,
      "outputs": []
    },
    {
      "cell_type": "code",
      "metadata": {
        "id": "uOMZkG7oI0_j",
        "colab_type": "code",
        "colab": {
          "base_uri": "https://localhost:8080/",
          "height": 98
        },
        "outputId": "4fa639d6-4439-471a-ac01-b7907a018cd7"
      },
      "source": [
        "print (\"Len of train data:\", len(train_data))\n",
        "print (\"Len of test data:\", len(test_data))\n",
        "\n",
        "\n",
        "print (train_data[0])\n",
        "\n",
        "print (train_data[1])\n",
        "\n",
        "print (test_data[13])"
      ],
      "execution_count": 12,
      "outputs": [
        {
          "output_type": "stream",
          "text": [
            "Len of train data: 33402\n",
            "Len of test data: 13068\n",
            "{'filename': '1.png', 'boxes': [{'height': 219.0, 'label': 1.0, 'left': 246.0, 'top': 77.0, 'width': 81.0}, {'height': 219.0, 'label': 9.0, 'left': 323.0, 'top': 81.0, 'width': 96.0}]}\n",
            "{'filename': '2.png', 'boxes': [{'height': 32.0, 'label': 2.0, 'left': 77.0, 'top': 29.0, 'width': 23.0}, {'height': 32.0, 'label': 3.0, 'left': 98.0, 'top': 25.0, 'width': 26.0}]}\n",
            "{'filename': '14.png', 'boxes': [{'height': 24.0, 'label': 2.0, 'left': 64.0, 'top': 27.0, 'width': 13.0}, {'height': 24.0, 'label': 5.0, 'left': 80.0, 'top': 23.0, 'width': 13.0}]}\n"
          ],
          "name": "stdout"
        }
      ]
    },
    {
      "cell_type": "markdown",
      "metadata": {
        "id": "yOhnvWLdLN42",
        "colab_type": "text"
      },
      "source": [
        "Basically `train` contains info about file_name the bounding boxes and the labels of the images. But where are the indv pixel values\n",
        "\n",
        "Structure:\n",
        "\n",
        "```\n",
        "{'filename': '1.png',\n",
        "'boxes', [..label of each indv digit and its bounding box coords ]\n",
        "```"
      ]
    },
    {
      "cell_type": "code",
      "metadata": {
        "id": "COX6kWQ0LacO",
        "colab_type": "code",
        "colab": {}
      },
      "source": [
        "# save digitStruct information into a pickle\n",
        "pickle_file = 'multi_bbox_info.pickle'\n",
        "\n",
        "try:\n",
        "    f = open(pickle_file, 'wb')\n",
        "    save = {\n",
        "    'train_data': train_data,\n",
        "    'test_data': test_data,\n",
        "    }\n",
        "    pickle.dump(save, f, pickle.HIGHEST_PROTOCOL)\n",
        "    f.close()\n",
        "except Exception as e:\n",
        "    print('Unable to save data to', pickle_file, ':', e)\n",
        "    raise"
      ],
      "execution_count": 0,
      "outputs": []
    },
    {
      "cell_type": "code",
      "metadata": {
        "id": "BZuV-YYAMd4t",
        "colab_type": "code",
        "colab": {
          "base_uri": "https://localhost:8080/",
          "height": 98
        },
        "outputId": "e0ee68c5-2891-4dc1-a2b1-84b6bfcee5c0"
      },
      "source": [
        "pickle_file = 'multi_bbox_info.pickle'\n",
        "\n",
        "with open(pickle_file, 'rb') as f:\n",
        "    save = pickle.load(f)\n",
        "    train_data = save['train_data']\n",
        "    test_data = save['test_data']\n",
        "    del save\n",
        "    print('Training set', len(train_data))\n",
        "    print('Test set', len(test_data))\n",
        "    print (train_data[0])\n",
        "\n",
        "    print (train_data[1])\n",
        "\n",
        "    print (test_data[13])"
      ],
      "execution_count": 14,
      "outputs": [
        {
          "output_type": "stream",
          "text": [
            "Training set 33402\n",
            "Test set 13068\n",
            "{'filename': '1.png', 'boxes': [{'height': 219.0, 'label': 1.0, 'left': 246.0, 'top': 77.0, 'width': 81.0}, {'height': 219.0, 'label': 9.0, 'left': 323.0, 'top': 81.0, 'width': 96.0}]}\n",
            "{'filename': '2.png', 'boxes': [{'height': 32.0, 'label': 2.0, 'left': 77.0, 'top': 29.0, 'width': 23.0}, {'height': 32.0, 'label': 3.0, 'left': 98.0, 'top': 25.0, 'width': 26.0}]}\n",
            "{'filename': '14.png', 'boxes': [{'height': 24.0, 'label': 2.0, 'left': 64.0, 'top': 27.0, 'width': 13.0}, {'height': 24.0, 'label': 5.0, 'left': 80.0, 'top': 23.0, 'width': 13.0}]}\n"
          ],
          "name": "stdout"
        }
      ]
    },
    {
      "cell_type": "markdown",
      "metadata": {
        "id": "moVcNovEMtgt",
        "colab_type": "text"
      },
      "source": [
        "### Generate dataset\n",
        "\n",
        "crop images and save them to numpy ndarray"
      ]
    },
    {
      "cell_type": "code",
      "metadata": {
        "id": "2BvdDGEGRb5Z",
        "colab_type": "code",
        "outputId": "d9156c9e-1036-4a2c-f7fd-f726a7740ecd",
        "colab": {
          "base_uri": "https://localhost:8080/",
          "height": 180
        }
      },
      "source": [
        "np.ones(shape=(10, 6), dtype='int')*10"
      ],
      "execution_count": 0,
      "outputs": [
        {
          "output_type": "execute_result",
          "data": {
            "text/plain": [
              "array([[10, 10, 10, 10, 10, 10],\n",
              "       [10, 10, 10, 10, 10, 10],\n",
              "       [10, 10, 10, 10, 10, 10],\n",
              "       [10, 10, 10, 10, 10, 10],\n",
              "       [10, 10, 10, 10, 10, 10],\n",
              "       [10, 10, 10, 10, 10, 10],\n",
              "       [10, 10, 10, 10, 10, 10],\n",
              "       [10, 10, 10, 10, 10, 10],\n",
              "       [10, 10, 10, 10, 10, 10],\n",
              "       [10, 10, 10, 10, 10, 10]])"
            ]
          },
          "metadata": {
            "tags": []
          },
          "execution_count": 14
        }
      ]
    },
    {
      "cell_type": "code",
      "metadata": {
        "id": "0nuwNM-8MoNo",
        "colab_type": "code",
        "colab": {}
      },
      "source": [
        "class Dataset:\n",
        "  \"\"\"crop images and save them to numpy ndarray\"\"\"\n",
        "  \n",
        "  # digitStruct is train_data\n",
        "  \n",
        "  def __init__(self, digitStruct, folder):\n",
        "    self.digitStruct = digitStruct\n",
        "    self.folder = folder\n",
        "    \n",
        "  def setDataset(self):\n",
        "    # set the data (images) as proper \n",
        "    # len(self.digitStruct) is 33402\n",
        "    # basically initializing dataset as 33402x64x64\n",
        "    self.dataset = np.ndarray(shape=(len(self.digitStruct), 54, 54), dtype='float32')\n",
        "    \n",
        "    #set the labels\n",
        "    \n",
        "    # 1 length + 5 labels, 10 represents none\n",
        "    \n",
        "    self.labels = np.ones(shape=(len(self.digitStruct), 6), dtype='int')*10\n",
        "    \n",
        "  def getDataset(self):\n",
        "    # initialize the data structures\n",
        "    self.setDataset()\n",
        "    \n",
        "    # for each train file\n",
        "    for i in range(len(self.digitStruct)):\n",
        "      # get file_name for the img\n",
        "      fin = os.path.join(self.folder, self.digitStruct[i]['filename'])\n",
        "      \n",
        "      # open the file\n",
        "      im = Image.open(fin)\n",
        "      \n",
        "      # get the 'boxes'  key\n",
        "      \n",
        "      boxes = self.digitStruct[i]['boxes']\n",
        "      \n",
        "      # check for >5 digits\n",
        "      if len(boxes) > 5:\n",
        "        print(fin, \"has more than 5 digits\")\n",
        "      else:\n",
        "        # first index of labels contains number of digits and that is the len of 'boxes'\n",
        "        self.labels[i, 0] = len(boxes)\n",
        "        # set the labels for each digit in this file\n",
        "        self.labels[i, 1: len(boxes)+1] = [int(box['label']) for box in boxes]\n",
        "        \n",
        "      # set the L,T,W,H params foreach digit in this file\n",
        "      left = [box['left'] for box in boxes]\n",
        "      top = [box['top'] for box in boxes]\n",
        "      height = [box['height'] for box in boxes]\n",
        "      width = [box['width'] for box in boxes]\n",
        "      \n",
        "      \n",
        "      # get the new expanded bounding boxes over the ENTIRE MULTI DIGIT IMAGE\n",
        "      box = self.im_box(im, left, top, height, width)\n",
        "      \n",
        "      size = (64,64)\n",
        "      \n",
        "      # crop acc to the new bounding box and resize to the desired shape for training the CNN\n",
        "      region = im.crop(box).resize(size)\n",
        "      # normalize the 64x64 img\n",
        "      region = self.normalization(region)\n",
        "      \n",
        "      rand_x = random.randrange(10)\n",
        "      rand_y = random.randrange(10)\n",
        "      region = region[rand_x:rand_x+54,rand_y:rand_y+54]\n",
        "      \n",
        "      \n",
        "      # replace the original img with this pre-processed 64x64 img\n",
        "      \n",
        "      self.dataset[i, :, :] = region[:,:]\n",
        "      \n",
        "    print('dataset:',self.dataset.shape)\n",
        "    print('labels:',self.labels.shape)\n",
        "    return self.dataset, self.labels\n",
        "      \n",
        "      \n",
        "      \n",
        "      \n",
        "  def im_box(self, im, left, top, height, width):\n",
        "    \n",
        "    im_left = min(left) # get leftmost line\n",
        "    im_top = min(top) # topmost line\n",
        "    \n",
        "    im_height = max(top) + max(height) - im_top # max(ht) + ( max(top) - min(top) )\n",
        "    im_width = max(left) + max(width) - im_left # max(width) + (max(left) - min(left))\n",
        "    \n",
        "    # basically im_height is the ht of tallest digit + some margin\n",
        "    # basically im_width is the width of widest digit + some margin\n",
        "    \n",
        "    # can experiment with 0.05\n",
        "    im_top = im_top - im_height*0.05 # bit higher than topmost line\n",
        "    im_left = im_left - im_width*0.05 # bit more towards the left(wider) than leftmost line  \n",
        "    \n",
        "    # width, height = im.size\n",
        "    \n",
        "    im_bottom = min(im.size[1], im_top + im_height*1.05) # can experiment with 1.05\n",
        "    \n",
        "    # from the topmost line go down to ht and a bit more\n",
        "    # get the min out of that or the image ht\n",
        "    \n",
        "    im_right = min(im.size[0], im_left + im_width*1.05)\n",
        "    \n",
        "    # from the leftmost line go right to width and a bit more\n",
        "    # get the min out of that or the image width\n",
        "    \n",
        "    # (im_left, im_top, im_right, im_bottom) are the coords of the \n",
        "    # new expanded bounding boxes over the ENTIRE MULTI DIGIT IMAGE\n",
        "    \n",
        "    return (im_left, im_top, im_right, im_bottom)\n",
        "    \n",
        "  def normalization(self, img):\n",
        "    im = self.rgb2gray(img) # RGB to greyscale\n",
        "    mean = np.mean(im, dtype='float32')\n",
        "    std = np.std(im, dtype='float32', ddof=1)\n",
        "    return (im - mean) / std  \n",
        "  \n",
        "  def rgb2gray(self, img):\n",
        "    # L = R * 299/1000 + G * 587/1000 + B * 114/1000\n",
        "    return np.dot(np.array(img), [0.299, 0.587, 0.114])\n",
        "        \n",
        "      \n",
        "      "
      ],
      "execution_count": 0,
      "outputs": []
    },
    {
      "cell_type": "markdown",
      "metadata": {
        "id": "aSuB4z5EsD2x",
        "colab_type": "text"
      },
      "source": [
        "### train dataset"
      ]
    },
    {
      "cell_type": "code",
      "metadata": {
        "id": "2dpjR_F7sFCR",
        "colab_type": "code",
        "colab": {
          "base_uri": "https://localhost:8080/",
          "height": 66
        },
        "outputId": "664fd1c1-32a1-4bdc-a7a2-320117643101"
      },
      "source": [
        "train_dataset = Dataset(train_data, 'train')\n",
        "\n",
        "train_dataset, train_labels = train_dataset.getDataset()"
      ],
      "execution_count": 16,
      "outputs": [
        {
          "output_type": "stream",
          "text": [
            "train/29930.png has more than 5 digits\n",
            "dataset: (33402, 54, 54)\n",
            "labels: (33402, 6)\n"
          ],
          "name": "stdout"
        }
      ]
    },
    {
      "cell_type": "code",
      "metadata": {
        "id": "dnB1cAFwsnXQ",
        "colab_type": "code",
        "outputId": "bf898986-bbce-4ad5-c2d6-b69115420933",
        "colab": {
          "base_uri": "https://localhost:8080/",
          "height": 82
        }
      },
      "source": [
        "print (\"Len of train set:\", len(train_dataset))\n",
        "print(train_dataset[0].shape)\n",
        "print (train_labels[0])\n",
        "print (train_labels[0].shape)"
      ],
      "execution_count": 17,
      "outputs": [
        {
          "output_type": "stream",
          "text": [
            "Len of train set: 33402\n",
            "(54, 54)\n",
            "[ 2  1  9 10 10 10]\n",
            "(6,)\n"
          ],
          "name": "stdout"
        }
      ]
    },
    {
      "cell_type": "code",
      "metadata": {
        "id": "t7XFGKMzDgba",
        "colab_type": "code",
        "outputId": "db003328-91dc-47d5-bd02-15709bdb4127",
        "colab": {
          "base_uri": "https://localhost:8080/",
          "height": 33
        }
      },
      "source": [
        "print (train_labels[29929])"
      ],
      "execution_count": 18,
      "outputs": [
        {
          "output_type": "stream",
          "text": [
            "[10 10 10 10 10 10]\n"
          ],
          "name": "stdout"
        }
      ]
    },
    {
      "cell_type": "code",
      "metadata": {
        "id": "nyP7cC_tCF_5",
        "colab_type": "code",
        "outputId": "77c87de3-6d99-4e61-b169-2a836fe3bfa6",
        "colab": {
          "base_uri": "https://localhost:8080/",
          "height": 270
        }
      },
      "source": [
        "plt.imshow(train_dataset[29929,:,:], cmap='gray');"
      ],
      "execution_count": 19,
      "outputs": [
        {
          "output_type": "display_data",
          "data": {
            "image/png": "[encoded data removed]",
            "text/plain": [
              "<Figure size 432x288 with 1 Axes>"
            ]
          },
          "metadata": {
            "tags": []
          }
        }
      ]
    },
    {
      "cell_type": "markdown",
      "metadata": {
        "id": "2NuGS2-yDp_z",
        "colab_type": "text"
      },
      "source": [
        "Delete this image"
      ]
    },
    {
      "cell_type": "code",
      "metadata": {
        "id": "CI5prbdSDrtS",
        "colab_type": "code",
        "colab": {}
      },
      "source": [
        "train_dataset = np.delete(train_dataset, 29929, axis=0)\n",
        "train_labels = np.delete(train_labels, 29929, axis=0)"
      ],
      "execution_count": 0,
      "outputs": []
    },
    {
      "cell_type": "code",
      "metadata": {
        "id": "0NX0KHdiDsdE",
        "colab_type": "code",
        "outputId": "31de8cb4-1532-4558-eb1f-c1f1a8de73da",
        "colab": {
          "base_uri": "https://localhost:8080/",
          "height": 50
        }
      },
      "source": [
        "print(train_dataset.shape)\n",
        "print(train_labels.shape)\n"
      ],
      "execution_count": 0,
      "outputs": [
        {
          "output_type": "stream",
          "text": [
            "(33401, 54, 54)\n",
            "(33401, 6)\n"
          ],
          "name": "stdout"
        }
      ]
    },
    {
      "cell_type": "markdown",
      "metadata": {
        "id": "2GdHKFI2DwEU",
        "colab_type": "text"
      },
      "source": [
        "### Test data"
      ]
    },
    {
      "cell_type": "code",
      "metadata": {
        "id": "5EyiH_GvDxBk",
        "colab_type": "code",
        "outputId": "8e34ab71-0628-4a73-d1b7-405468099bc9",
        "colab": {
          "base_uri": "https://localhost:8080/",
          "height": 50
        }
      },
      "source": [
        "test_dataset = Dataset(test_data, 'test')\n",
        "test_dataset, test_labels = test_dataset.getDataset()"
      ],
      "execution_count": 21,
      "outputs": [
        {
          "output_type": "stream",
          "text": [
            "dataset: (13068, 54, 54)\n",
            "labels: (13068, 6)\n"
          ],
          "name": "stdout"
        }
      ]
    },
    {
      "cell_type": "markdown",
      "metadata": {
        "id": "ilo4kQmPET40",
        "colab_type": "text"
      },
      "source": [
        "### Creating a validation dataset"
      ]
    },
    {
      "cell_type": "code",
      "metadata": {
        "id": "a9W3Yp34E5qr",
        "colab_type": "code",
        "outputId": "5bbe6a1b-7684-4a09-a328-4d3ddcf118da",
        "colab": {
          "base_uri": "https://localhost:8080/",
          "height": 33
        }
      },
      "source": [
        "np.random.seed(1234)\n",
        "np.random.permutation(10)"
      ],
      "execution_count": 23,
      "outputs": [
        {
          "output_type": "execute_result",
          "data": {
            "text/plain": [
              "array([7, 2, 9, 1, 0, 8, 4, 5, 6, 3])"
            ]
          },
          "metadata": {
            "tags": []
          },
          "execution_count": 23
        }
      ]
    },
    {
      "cell_type": "markdown",
      "metadata": {
        "id": "yNtbCdwrGSRN",
        "colab_type": "text"
      },
      "source": [
        "#### Shuffle the dataset"
      ]
    },
    {
      "cell_type": "code",
      "metadata": {
        "id": "A9OobTmUDxbm",
        "colab_type": "code",
        "outputId": "a662a090-f40d-42e7-9ff2-a7ec721b62a6",
        "colab": {
          "base_uri": "https://localhost:8080/",
          "height": 50
        }
      },
      "source": [
        "def randomize(dataset, labels):\n",
        "  np.random.seed(1234)\n",
        "  permutation = np.random.permutation(labels.shape[0])\n",
        "  shuffled_dataset = dataset[permutation,:,:]\n",
        "  shuffled_labels = labels[permutation]\n",
        "  return shuffled_dataset, shuffled_labels\n",
        "\n",
        "train_dataset, train_labels = randomize(train_dataset, train_labels)\n",
        "test_dataset, test_labels = randomize(test_dataset, test_labels)\n",
        "\n",
        "print (train_dataset.shape, train_labels.shape)\n",
        "print (test_dataset.shape, test_labels.shape)"
      ],
      "execution_count": 24,
      "outputs": [
        {
          "output_type": "stream",
          "text": [
            "(33401, 54, 54) (33401, 6)\n",
            "(13068, 54, 54) (13068, 6)\n"
          ],
          "name": "stdout"
        }
      ]
    },
    {
      "cell_type": "code",
      "metadata": {
        "id": "IThKIYQ0GYYi",
        "colab_type": "code",
        "outputId": "6521ba1d-1750-4765-9098-33253e9cdd2e",
        "colab": {
          "base_uri": "https://localhost:8080/",
          "height": 66
        }
      },
      "source": [
        "train_portion = 6000\n",
        "valid_dataset = train_dataset[:train_portion,:,:]\n",
        "valid_labels = train_labels[:train_portion]\n",
        "train_dataset = train_dataset[train_portion:,:,:]\n",
        "train_labels = train_labels[train_portion:]\n",
        "                             \n",
        "print(train_dataset.shape, train_labels.shape)\n",
        "print(test_dataset.shape, test_labels.shape)\n",
        "print(valid_dataset.shape, valid_labels.shape)"
      ],
      "execution_count": 25,
      "outputs": [
        {
          "output_type": "stream",
          "text": [
            "(27401, 54, 54) (27401, 6)\n",
            "(13068, 54, 54) (13068, 6)\n",
            "(6000, 54, 54) (6000, 6)\n"
          ],
          "name": "stdout"
        }
      ]
    },
    {
      "cell_type": "code",
      "metadata": {
        "id": "I2JrauBbGauK",
        "colab_type": "code",
        "outputId": "48ab5de5-ccf0-42fc-d12d-74e2c79077a6",
        "colab": {
          "base_uri": "https://localhost:8080/",
          "height": 307
        }
      },
      "source": [
        "def disp_sample_dataset(dataset, label):\n",
        "    items = random.sample(range(dataset.shape[0]), 8)\n",
        "    for i, item in enumerate(items):\n",
        "        plt.subplot(2, 4, i+1)\n",
        "        plt.axis('off')\n",
        "        plt.title(label[i][1:5])\n",
        "        plt.imshow(dataset[i,:,:], cmap='gray')\n",
        "disp_sample_dataset(train_dataset, train_labels)\n"
      ],
      "execution_count": 26,
      "outputs": [
        {
          "output_type": "stream",
          "text": [
            "/usr/local/lib/python3.6/dist-packages/matplotlib/text.py:1191: FutureWarning: elementwise comparison failed; returning scalar instead, but in the future will perform elementwise comparison\n",
            "  if s != self._text:\n"
          ],
          "name": "stderr"
        },
        {
          "output_type": "display_data",
          "data": {
            "image/png": "[encoded data removed]",
            "text/plain": [
              "<Figure size 432x288 with 8 Axes>"
            ]
          },
          "metadata": {
            "tags": []
          }
        }
      ]
    },
    {
      "cell_type": "code",
      "metadata": {
        "id": "QtK9lE4tKnvi",
        "colab_type": "code",
        "outputId": "fb179112-be66-476f-c588-55cffe6adf23",
        "colab": {
          "base_uri": "https://localhost:8080/",
          "height": 307
        }
      },
      "source": [
        "disp_sample_dataset(test_dataset, test_labels)\n"
      ],
      "execution_count": 27,
      "outputs": [
        {
          "output_type": "stream",
          "text": [
            "/usr/local/lib/python3.6/dist-packages/matplotlib/text.py:1191: FutureWarning: elementwise comparison failed; returning scalar instead, but in the future will perform elementwise comparison\n",
            "  if s != self._text:\n"
          ],
          "name": "stderr"
        },
        {
          "output_type": "display_data",
          "data": {
            "image/png": "[encoded data removed]",
            "text/plain": [
              "<Figure size 432x288 with 8 Axes>"
            ]
          },
          "metadata": {
            "tags": []
          }
        }
      ]
    },
    {
      "cell_type": "code",
      "metadata": {
        "id": "7EwSVeNhKrN7",
        "colab_type": "code",
        "outputId": "d470609a-bb67-4779-b6d5-4cd598e8e522",
        "colab": {
          "base_uri": "https://localhost:8080/",
          "height": 307
        }
      },
      "source": [
        "disp_sample_dataset(valid_dataset, valid_labels)\n"
      ],
      "execution_count": 28,
      "outputs": [
        {
          "output_type": "stream",
          "text": [
            "/usr/local/lib/python3.6/dist-packages/matplotlib/text.py:1191: FutureWarning: elementwise comparison failed; returning scalar instead, but in the future will perform elementwise comparison\n",
            "  if s != self._text:\n"
          ],
          "name": "stderr"
        },
        {
          "output_type": "display_data",
          "data": {
            "image/png": "[encoded data removed]",
            "text/plain": [
              "<Figure size 432x288 with 8 Axes>"
            ]
          },
          "metadata": {
            "tags": []
          }
        }
      ]
    },
    {
      "cell_type": "markdown",
      "metadata": {
        "id": "nvS_e84lKveq",
        "colab_type": "text"
      },
      "source": [
        "### Save dataset"
      ]
    },
    {
      "cell_type": "code",
      "metadata": {
        "id": "bYz-8smkKwrL",
        "colab_type": "code",
        "outputId": "f44cd69f-371e-496e-84a7-bdec78a0413e",
        "colab": {
          "base_uri": "https://localhost:8080/",
          "height": 33
        }
      },
      "source": [
        "pickle_file = 'SVHN_multi_crop.pickle'\n",
        "\n",
        "try:\n",
        "    f = open(pickle_file, 'wb')\n",
        "    save = {\n",
        "    'train_dataset': train_dataset,\n",
        "    'train_labels': train_labels,\n",
        "    'valid_dataset': valid_dataset,\n",
        "    'valid_labels': valid_labels,\n",
        "    'test_dataset': test_dataset,\n",
        "    'test_labels': test_labels,\n",
        "    }\n",
        "    pickle.dump(save, f, pickle.HIGHEST_PROTOCOL)\n",
        "    f.close()\n",
        "    print(\"Done\")\n",
        "except Exception as e:\n",
        "    print('Unable to save data to', pickle_file, ':', e)\n",
        "    raise"
      ],
      "execution_count": 29,
      "outputs": [
        {
          "output_type": "stream",
          "text": [
            "Done\n"
          ],
          "name": "stdout"
        }
      ]
    },
    {
      "cell_type": "markdown",
      "metadata": {
        "id": "eFMOkq9Oz9Gl",
        "colab_type": "text"
      },
      "source": [
        "## REPRODUCIBILITY: Run From Here\n",
        "\n",
        "Make sure you download the `SVHN_multi_crop.pickle` from [here](https://drive.google.com/open?id=1LucH2BJJvs9ULOMzXagrIqOwnBey5HTC)\n",
        "\n",
        "#### Import the libraries"
      ]
    },
    {
      "cell_type": "code",
      "metadata": {
        "id": "XJIV8KSV3OwR",
        "colab_type": "code",
        "outputId": "1e18ab67-dc5e-422a-ffcb-1589727f3711",
        "colab": {
          "base_uri": "https://localhost:8080/",
          "height": 50
        }
      },
      "source": [
        "# Execute this code block to install dependencies when running on colab\n",
        "try:\n",
        "    import torch\n",
        "except:\n",
        "    from os.path import exists\n",
        "    from wheel.pep425tags import get_abbr_impl, get_impl_ver, get_abi_tag\n",
        "    platform = '{}{}-{}'.format(get_abbr_impl(), get_impl_ver(), get_abi_tag())\n",
        "    cuda_output = !ldconfig -p|grep cudart.so|sed -e 's/.*\\.\\([0-9]*\\)\\.\\([0-9]*\\)$/cu\\1\\2/'\n",
        "    accelerator = cuda_output[0] if exists('/dev/nvidia0') else 'cpu'\n",
        "\n",
        "    !pip install -q http://download.pytorch.org/whl/{accelerator}/torch-1.0.0-{platform}-linux_x86_64.whl torchvision\n",
        "\n",
        "try: \n",
        "    import torchbearer\n",
        "except:\n",
        "    !pip install torchbearer\n",
        "    \n",
        "# automatically reload external modules if they change\n",
        "%load_ext autoreload\n",
        "%autoreload 2\n",
        "\n",
        "import torch\n",
        "import torch.nn.functional as F\n",
        "import torchvision.transforms as transforms\n",
        "import torchbearer\n",
        "from torch import nn\n",
        "from torch import optim\n",
        "from torchvision.datasets import MNIST\n",
        "from torchvision.datasets import SVHN\n",
        "from torchbearer import Trial\n",
        "import matplotlib.pyplot as plt\n",
        "from torch.utils.data import DataLoader, Dataset\n",
        "import torchvision\n",
        "from torchvision import transforms\n",
        "\n",
        "\n",
        "from __future__ import print_function\n",
        "import numpy as np\n",
        "from six.moves import cPickle as pickle\n",
        "\n",
        "\n",
        "%matplotlib inline"
      ],
      "execution_count": 30,
      "outputs": [
        {
          "output_type": "stream",
          "text": [
            "The autoreload extension is already loaded. To reload it, use:\n",
            "  %reload_ext autoreload\n"
          ],
          "name": "stdout"
        }
      ]
    },
    {
      "cell_type": "code",
      "metadata": {
        "id": "3veejpzbK2DW",
        "colab_type": "code",
        "outputId": "bc6296dc-0741-4150-f638-220c67a9e290",
        "colab": {
          "base_uri": "https://localhost:8080/",
          "height": 66
        }
      },
      "source": [
        "pickle_file = 'SVHN_multi_crop.pickle'\n",
        "\n",
        "with open(pickle_file, 'rb') as f:\n",
        "    save = pickle.load(f)\n",
        "    train_dataset = save['train_dataset']\n",
        "    train_labels = save['train_labels']\n",
        "    valid_dataset = save['valid_dataset']\n",
        "    valid_labels = save['valid_labels']\n",
        "    test_dataset = save['test_dataset']\n",
        "    test_labels = save['test_labels']\n",
        "    # del save  # hint to help gc free up memory\n",
        "    print('Training set', train_dataset.shape, train_labels.shape)\n",
        "    print('Validation set', valid_dataset.shape, valid_labels.shape)\n",
        "    print('Test set', test_dataset.shape, test_labels.shape)"
      ],
      "execution_count": 31,
      "outputs": [
        {
          "output_type": "stream",
          "text": [
            "Training set (27401, 54, 54) (27401, 6)\n",
            "Validation set (6000, 54, 54) (6000, 6)\n",
            "Test set (13068, 54, 54) (13068, 6)\n"
          ],
          "name": "stdout"
        }
      ]
    },
    {
      "cell_type": "code",
      "metadata": {
        "id": "eWTm45IVbEkd",
        "colab_type": "code",
        "outputId": "f87a7b92-c6be-4e9e-e078-680a4c7c5608",
        "colab": {
          "base_uri": "https://localhost:8080/",
          "height": 66
        }
      },
      "source": [
        "print (\"Train dataset info: {} images of size {}x{}\".format(train_dataset.shape[0], train_dataset.shape[1], train_dataset.shape[2]))\n",
        "\n",
        "print (\"Test dataset info: {} images of size {}x{}\".format(test_dataset.shape[0], test_dataset.shape[1], test_dataset.shape[2]))\n",
        "\n",
        "print (\"Valid dataset info: {} images of size {}x{}\".format(valid_dataset.shape[0], valid_dataset.shape[1], valid_dataset.shape[2]))"
      ],
      "execution_count": 32,
      "outputs": [
        {
          "output_type": "stream",
          "text": [
            "Train dataset info: 27401 images of size 54x54\n",
            "Test dataset info: 13068 images of size 54x54\n",
            "Valid dataset info: 6000 images of size 54x54\n"
          ],
          "name": "stdout"
        }
      ]
    },
    {
      "cell_type": "markdown",
      "metadata": {
        "id": "vZeiiyn8cQH2",
        "colab_type": "text"
      },
      "source": [
        "[number_of_digits, 1st digit, 2nd, 3rd, 4th 5th]"
      ]
    },
    {
      "cell_type": "code",
      "metadata": {
        "id": "QQ9lfvC9cKXD",
        "colab_type": "code",
        "outputId": "27bf3f0e-87ad-4c5a-c08c-834a8017b081",
        "colab": {
          "base_uri": "https://localhost:8080/",
          "height": 82
        }
      },
      "source": [
        "train_labels[0]\n",
        "\n",
        "\n",
        "for label in train_labels:\n",
        "  if 10 not in label:\n",
        "    print (label)\n",
        "    \n",
        "# 5 digit numbers ok"
      ],
      "execution_count": 33,
      "outputs": [
        {
          "output_type": "stream",
          "text": [
            "[5 1 1 3 2 5]\n",
            "[5 1 3 7 9 7]\n",
            "[5 1 3 5 6 3]\n",
            "[5 2 2 8 2 7]\n"
          ],
          "name": "stdout"
        }
      ]
    },
    {
      "cell_type": "markdown",
      "metadata": {
        "id": "ZYoc-KSRB5ov",
        "colab_type": "text"
      },
      "source": [
        "### Fixing the 10 - 0 problem"
      ]
    },
    {
      "cell_type": "code",
      "metadata": {
        "id": "8TrIE3bNctZR",
        "colab_type": "code",
        "colab": {}
      },
      "source": [
        "train_labels_new = []\n",
        "\n",
        "for label in train_labels:\n",
        "  if 10 in label:\n",
        "    new_label = []\n",
        "    for x in range(len(label)):\n",
        "      if label[x] == 10 and x <= label[0]:\n",
        "        # print (label)\n",
        "        new_label.append(0)\n",
        "      else:\n",
        "        new_label.append(label[x])\n",
        "    train_labels_new.append(new_label)\n",
        "    \n",
        "  else:\n",
        "    train_labels_new.append(label)\n",
        "    "
      ],
      "execution_count": 0,
      "outputs": []
    },
    {
      "cell_type": "code",
      "metadata": {
        "id": "y2VS8P5whlFU",
        "colab_type": "code",
        "outputId": "afaf3443-f53c-4cd1-e4db-5522b2d49531",
        "colab": {
          "base_uri": "https://localhost:8080/",
          "height": 33
        }
      },
      "source": [
        "train_labels_new = np.array(train_labels_new)\n",
        "\n",
        "train_labels_new.shape"
      ],
      "execution_count": 36,
      "outputs": [
        {
          "output_type": "execute_result",
          "data": {
            "text/plain": [
              "(27401, 6)"
            ]
          },
          "metadata": {
            "tags": []
          },
          "execution_count": 36
        }
      ]
    },
    {
      "cell_type": "code",
      "metadata": {
        "id": "67P5Jsesiy6j",
        "colab_type": "code",
        "colab": {}
      },
      "source": [
        "#test to see if worked\n",
        "\n",
        "for label in train_labels_new:\n",
        "  if 10 in label:\n",
        "    new_label = []\n",
        "    for x in range(len(label)):\n",
        "      if label[x] == 10 and x <= label[0]:\n",
        "        print (label)"
      ],
      "execution_count": 0,
      "outputs": []
    },
    {
      "cell_type": "code",
      "metadata": {
        "id": "ewfP0N2Ii4Eg",
        "colab_type": "code",
        "colab": {
          "base_uri": "https://localhost:8080/",
          "height": 33
        },
        "outputId": "9962c804-f488-4f5f-a2a6-3d171e547002"
      },
      "source": [
        "test_labels_new = []\n",
        "\n",
        "for label in test_labels:\n",
        "  if 10 in label:\n",
        "    new_label = []\n",
        "    for x in range(len(label)):\n",
        "      if label[x] == 10 and x <= label[0]:\n",
        "        # print (label)\n",
        "        new_label.append(0)\n",
        "      else:\n",
        "        new_label.append(label[x])\n",
        "    test_labels_new.append(new_label)\n",
        "    \n",
        "  else:\n",
        "    test_labels_new.append(label)\n",
        "    \n",
        "    \n",
        "test_labels_new = np.array(test_labels_new)\n",
        "\n",
        "test_labels_new.shape"
      ],
      "execution_count": 38,
      "outputs": [
        {
          "output_type": "execute_result",
          "data": {
            "text/plain": [
              "(13068, 6)"
            ]
          },
          "metadata": {
            "tags": []
          },
          "execution_count": 38
        }
      ]
    },
    {
      "cell_type": "code",
      "metadata": {
        "id": "bReAE396jRau",
        "colab_type": "code",
        "outputId": "222bb439-3f2e-4d65-f3ab-7f3f609661dc",
        "colab": {
          "base_uri": "https://localhost:8080/",
          "height": 33
        }
      },
      "source": [
        "valid_labels_new = []\n",
        "\n",
        "for label in valid_labels:\n",
        "  if 10 in label:\n",
        "    new_label = []\n",
        "    for x in range(len(label)):\n",
        "      if label[x] == 10 and x <= label[0]:\n",
        "        # print (label)\n",
        "        new_label.append(0)\n",
        "      else:\n",
        "        new_label.append(label[x])\n",
        "    valid_labels_new.append(new_label)\n",
        "    \n",
        "  else:\n",
        "    valid_labels_new.append(label)\n",
        "    \n",
        "    \n",
        "valid_labels_new = np.array(valid_labels_new)\n",
        "\n",
        "valid_labels_new.shape"
      ],
      "execution_count": 39,
      "outputs": [
        {
          "output_type": "execute_result",
          "data": {
            "text/plain": [
              "(6000, 6)"
            ]
          },
          "metadata": {
            "tags": []
          },
          "execution_count": 39
        }
      ]
    },
    {
      "cell_type": "markdown",
      "metadata": {
        "id": "E04KBOM8u8Zr",
        "colab_type": "text"
      },
      "source": [
        "### Creating DataLoaders"
      ]
    },
    {
      "cell_type": "code",
      "metadata": {
        "id": "Y85TUCLRcG00",
        "colab_type": "code",
        "colab": {}
      },
      "source": [
        "class SVHNImageDataset(Dataset):\n",
        "  def __init__(self, dataset_object, label_object, transform=None):\n",
        "    self.data = dataset_object\n",
        "    self.labels = label_object\n",
        "    self.transform = transform\n",
        "    \n",
        "  def __len__(self):\n",
        "    return self.data.shape[0]\n",
        "  \n",
        "  def __getitem__(self, index):\n",
        "\n",
        "    image = self.data[index]\n",
        "    label = self.labels[index]\n",
        "    \n",
        "    return image,label"
      ],
      "execution_count": 0,
      "outputs": []
    },
    {
      "cell_type": "code",
      "metadata": {
        "id": "4Ks5i-4xInFb",
        "colab_type": "code",
        "colab": {}
      },
      "source": [
        "# create datasets of SVHNImageDataset class\n",
        "\n",
        "train_dataset_new = SVHNImageDataset(train_dataset, train_labels_new, transform=None)\n",
        "test_dataset_new = SVHNImageDataset(test_dataset, test_labels_new, transform=None)\n",
        "valid_dataset_new = SVHNImageDataset(valid_dataset, valid_labels_new, transform=None)"
      ],
      "execution_count": 0,
      "outputs": []
    },
    {
      "cell_type": "code",
      "metadata": {
        "id": "vaRp6Et7I5_Q",
        "colab_type": "code",
        "outputId": "994e7aa1-0da5-4e11-ad21-b60b63159d78",
        "colab": {
          "base_uri": "https://localhost:8080/",
          "height": 50
        }
      },
      "source": [
        "img, label = train_dataset_new.__getitem__(0)\n",
        "\n",
        "print (img.shape, label.shape)\n",
        "\n",
        "print (len(train_dataset_new))"
      ],
      "execution_count": 0,
      "outputs": [
        {
          "output_type": "stream",
          "text": [
            "(54, 54) (6,)\n",
            "27401\n"
          ],
          "name": "stdout"
        }
      ]
    },
    {
      "cell_type": "markdown",
      "metadata": {
        "id": "ayn62EKBvRNj",
        "colab_type": "text"
      },
      "source": [
        "Now we create the DataLoaders"
      ]
    },
    {
      "cell_type": "code",
      "metadata": {
        "id": "cZAOI6amKIpt",
        "colab_type": "code",
        "colab": {}
      },
      "source": [
        "train_loader = DataLoader(train_dataset_new, batch_size=8, shuffle=True, drop_last=True)\n",
        "test_loader = DataLoader(test_dataset_new, batch_size=8, shuffle=True, drop_last=True)\n",
        "valid_loader = DataLoader(valid_dataset_new, batch_size=8, shuffle=True, drop_last=True)\n"
      ],
      "execution_count": 0,
      "outputs": []
    },
    {
      "cell_type": "markdown",
      "metadata": {
        "id": "6cJzcFSjxPDL",
        "colab_type": "text"
      },
      "source": [
        "Making sure that the data and the labels are of class: `Tensor` and everything is of correct shape"
      ]
    },
    {
      "cell_type": "code",
      "metadata": {
        "id": "7MMsQ_qWxGEM",
        "colab_type": "code",
        "outputId": "67a1fbdc-0719-4787-9fa5-94e493dd480c",
        "colab": {
          "base_uri": "https://localhost:8080/",
          "height": 115
        }
      },
      "source": [
        "for i, (data, label) in enumerate(train_loader):\n",
        "  print (type(data), type(label))\n",
        "  print (data.shape, label.shape)\n",
        "  break\n",
        "  \n",
        "for i, (data, label) in enumerate(test_loader):\n",
        "  print (type(data), type(label))\n",
        "  print (data.shape, label.shape)\n",
        "  break\n",
        "  \n",
        "for i, (data, label) in enumerate(valid_loader):\n",
        "  print (type(data), type(label))\n",
        "  print (data.shape, label.shape)\n",
        "  break"
      ],
      "execution_count": 43,
      "outputs": [
        {
          "output_type": "stream",
          "text": [
            "<class 'torch.Tensor'> <class 'torch.Tensor'>\n",
            "torch.Size([8, 54, 54]) torch.Size([8, 6])\n",
            "<class 'torch.Tensor'> <class 'torch.Tensor'>\n",
            "torch.Size([8, 54, 54]) torch.Size([8, 6])\n",
            "<class 'torch.Tensor'> <class 'torch.Tensor'>\n",
            "torch.Size([8, 54, 54]) torch.Size([8, 6])\n"
          ],
          "name": "stdout"
        }
      ]
    },
    {
      "cell_type": "markdown",
      "metadata": {
        "id": "Wcv5gTMmxcLU",
        "colab_type": "text"
      },
      "source": [
        "The shape is now `[batch_size, 64, 64]` for the data and `[batch_size, 6]` for the labels\n",
        "\n",
        "Just plotting some of the images and labels from the DataLoaders to make sure everything is OK"
      ]
    },
    {
      "cell_type": "code",
      "metadata": {
        "id": "kkMgpo5JKJDb",
        "colab_type": "code",
        "outputId": "6b2a55e8-d825-4728-8e89-5be4cc1b3796",
        "colab": {
          "base_uri": "https://localhost:8080/",
          "height": 373
        }
      },
      "source": [
        "for i, (data, label) in enumerate(train_loader):\n",
        "  first_batch = data\n",
        "  for x in range(first_batch.shape[0]):\n",
        "    plt.subplot(int(str(24)+str(x+1)))\n",
        "    plt.imshow(first_batch[x], cmap=\"gray\")\n",
        "    print (label[x])\n",
        "  break\n",
        "    \n",
        "plt.show()"
      ],
      "execution_count": 44,
      "outputs": [
        {
          "output_type": "stream",
          "text": [
            "tensor([ 2,  6,  5, 10, 10, 10])\n",
            "tensor([ 3,  4,  2,  9, 10, 10])\n",
            "tensor([ 2,  2,  8, 10, 10, 10])\n",
            "tensor([ 2,  7,  7, 10, 10, 10])\n",
            "tensor([ 4,  1,  0,  1,  4, 10])\n",
            "tensor([ 2,  6,  7, 10, 10, 10])\n",
            "tensor([ 1,  3, 10, 10, 10, 10])\n",
            "tensor([ 3,  2,  3,  5, 10, 10])\n"
          ],
          "name": "stdout"
        },
        {
          "output_type": "display_data",
          "data": {
            "image/png": "[encoded data removed]",
            "text/plain": [
              "<Figure size 432x288 with 8 Axes>"
            ]
          },
          "metadata": {
            "tags": []
          }
        }
      ]
    },
    {
      "cell_type": "code",
      "metadata": {
        "id": "MOzeecQ0zluA",
        "colab_type": "code",
        "outputId": "2d0ed2d4-accc-461b-cbb0-5b9db8c021de",
        "colab": {
          "base_uri": "https://localhost:8080/",
          "height": 373
        }
      },
      "source": [
        "for i, (data, label) in enumerate(test_loader):\n",
        "  first_batch = data\n",
        "  for x in range(first_batch.shape[0]):\n",
        "    plt.subplot(int(str(24)+str(x+1)))\n",
        "    plt.imshow(first_batch[x], cmap=\"gray\")\n",
        "    print (label[x])\n",
        "  break\n",
        "    \n",
        "plt.show()"
      ],
      "execution_count": 0,
      "outputs": [
        {
          "output_type": "stream",
          "text": [
            "tensor([ 1,  6, 10, 10, 10, 10])\n",
            "tensor([ 2,  9,  5, 10, 10, 10])\n",
            "tensor([ 2,  1,  2, 10, 10, 10])\n",
            "tensor([ 2,  5,  5, 10, 10, 10])\n",
            "tensor([ 2,  1,  0, 10, 10, 10])\n",
            "tensor([ 2,  1,  2, 10, 10, 10])\n",
            "tensor([ 2,  3,  6, 10, 10, 10])\n",
            "tensor([ 2,  1,  5, 10, 10, 10])\n"
          ],
          "name": "stdout"
        },
        {
          "output_type": "display_data",
          "data": {
            "image/png": "[encoded data removed]",
            "text/plain": [
              "<Figure size 432x288 with 8 Axes>"
            ]
          },
          "metadata": {
            "tags": []
          }
        }
      ]
    },
    {
      "cell_type": "code",
      "metadata": {
        "id": "ew_rHf_izpyN",
        "colab_type": "code",
        "outputId": "22c19999-ab33-4fec-8c85-ff1941340a5b",
        "colab": {
          "base_uri": "https://localhost:8080/",
          "height": 373
        }
      },
      "source": [
        "for i, (data, label) in enumerate(valid_loader):\n",
        "  first_batch = data\n",
        "  for x in range(first_batch.shape[0]):\n",
        "    plt.subplot(int(str(24)+str(x+1)))\n",
        "    plt.imshow(first_batch[x], cmap=\"gray\")\n",
        "    print (label[x])\n",
        "  break\n",
        "    \n",
        "plt.show()"
      ],
      "execution_count": 0,
      "outputs": [
        {
          "output_type": "stream",
          "text": [
            "tensor([ 3,  3,  3,  7, 10, 10])\n",
            "tensor([ 3,  2,  6,  4, 10, 10])\n",
            "tensor([ 3,  4,  3,  0, 10, 10])\n",
            "tensor([ 2,  6,  7, 10, 10, 10])\n",
            "tensor([ 3,  3,  9,  8, 10, 10])\n",
            "tensor([ 2,  0,  5, 10, 10, 10])\n",
            "tensor([ 3,  5,  1,  9, 10, 10])\n",
            "tensor([ 2,  1,  4, 10, 10, 10])\n"
          ],
          "name": "stdout"
        },
        {
          "output_type": "display_data",
          "data": {
            "image/png": "[encoded data removed]",
            "text/plain": [
              "<Figure size 432x288 with 8 Axes>"
            ]
          },
          "metadata": {
            "tags": []
          }
        }
      ]
    },
    {
      "cell_type": "markdown",
      "metadata": {
        "id": "BKr0e1oNe-gm",
        "colab_type": "text"
      },
      "source": [
        "### Check the lables and data"
      ]
    },
    {
      "cell_type": "code",
      "metadata": {
        "id": "lZLbV8a1fCKq",
        "colab_type": "code",
        "colab": {}
      },
      "source": [
        "for i, (data, label) in enumerate(train_loader):\n",
        "  if label.shape[0] != 8 or label.shape[1]!=6:\n",
        "    print (i)\n",
        "  "
      ],
      "execution_count": 0,
      "outputs": []
    },
    {
      "cell_type": "code",
      "metadata": {
        "id": "qk5DUWIhffBc",
        "colab_type": "code",
        "colab": {}
      },
      "source": [
        "for i, (data, label) in enumerate(train_loader):\n",
        "  if label[:, 0].max().item() > 5:\n",
        "    print (label)\n",
        " \n",
        "  "
      ],
      "execution_count": 0,
      "outputs": []
    },
    {
      "cell_type": "markdown",
      "metadata": {
        "id": "DYoGhM--65SD",
        "colab_type": "text"
      },
      "source": [
        "### DataLoaders ready for use"
      ]
    },
    {
      "cell_type": "markdown",
      "metadata": {
        "id": "QqMUbL5X3Ioy",
        "colab_type": "text"
      },
      "source": [
        "### Create a simple CNN"
      ]
    },
    {
      "cell_type": "markdown",
      "metadata": {
        "id": "paUQ4JUIFXjl",
        "colab_type": "text"
      },
      "source": [
        "#### Things to do:\n",
        "\n",
        "1. Max out\n",
        "2. BatchNormalization\n",
        "3. Dropout"
      ]
    },
    {
      "cell_type": "code",
      "metadata": {
        "id": "kllGLFRC6e9d",
        "colab_type": "code",
        "colab": {}
      },
      "source": [
        "class MainModel(nn.Module):\n",
        "    def __init__(self):\n",
        "        super(MainModel, self).__init__()\n",
        "\n",
        "        self._hidden1 = nn.Sequential(\n",
        "            nn.Conv2d(in_channels=1, out_channels=48, kernel_size=5, padding=2),\n",
        "            nn.BatchNorm2d(num_features=48),\n",
        "            nn.ReLU(),\n",
        "            nn.MaxPool2d(kernel_size=2, stride=2, padding=1),\n",
        "            nn.Dropout(0.2)\n",
        "        )\n",
        "        self._hidden2 = nn.Sequential(\n",
        "            nn.Conv2d(in_channels=48, out_channels=64, kernel_size=5, padding=2),\n",
        "            nn.BatchNorm2d(num_features=64),\n",
        "            nn.ReLU(),\n",
        "            nn.MaxPool2d(kernel_size=2, stride=1, padding=1),\n",
        "            nn.Dropout(0.2)\n",
        "        )\n",
        "        self._hidden3 = nn.Sequential(\n",
        "            nn.Conv2d(in_channels=64, out_channels=128, kernel_size=5, padding=2),\n",
        "            nn.BatchNorm2d(num_features=128),\n",
        "            nn.ReLU(),\n",
        "            nn.MaxPool2d(kernel_size=2, stride=2, padding=1),\n",
        "            nn.Dropout(0.2)\n",
        "        )\n",
        "        self._hidden4 = nn.Sequential(\n",
        "            nn.Conv2d(in_channels=128, out_channels=160, kernel_size=5, padding=2),\n",
        "            nn.BatchNorm2d(num_features=160),\n",
        "            nn.ReLU(),\n",
        "            nn.MaxPool2d(kernel_size=2, stride=1, padding=1),\n",
        "            nn.Dropout(0.2)\n",
        "        )\n",
        "        self._hidden5 = nn.Sequential(\n",
        "            nn.Conv2d(in_channels=160, out_channels=192, kernel_size=5, padding=2),\n",
        "            nn.BatchNorm2d(num_features=192),\n",
        "            nn.ReLU(),\n",
        "            nn.MaxPool2d(kernel_size=2, stride=2, padding=1),\n",
        "            nn.Dropout(0.2)\n",
        "        )\n",
        "        self._hidden6 = nn.Sequential(\n",
        "            nn.Conv2d(in_channels=192, out_channels=192, kernel_size=5, padding=2),\n",
        "            nn.BatchNorm2d(num_features=192),\n",
        "            nn.ReLU(),\n",
        "            nn.MaxPool2d(kernel_size=2, stride=1, padding=1),\n",
        "            nn.Dropout(0.2)\n",
        "        )\n",
        "        self._hidden7 = nn.Sequential(\n",
        "            nn.Conv2d(in_channels=192, out_channels=192, kernel_size=5, padding=2),\n",
        "            nn.BatchNorm2d(num_features=192),\n",
        "            nn.ReLU(),\n",
        "            nn.MaxPool2d(kernel_size=2, stride=2, padding=1),\n",
        "            nn.Dropout(0.2)\n",
        "        )\n",
        "        self._hidden8 = nn.Sequential(\n",
        "            nn.Conv2d(in_channels=192, out_channels=192, kernel_size=5, padding=2),\n",
        "            nn.BatchNorm2d(num_features=192),\n",
        "            nn.ReLU(),\n",
        "            nn.MaxPool2d(kernel_size=2, stride=1, padding=1),\n",
        "            nn.Dropout(0.2)\n",
        "        )\n",
        "        self._hidden9 = nn.Sequential(\n",
        "            nn.Linear(192 * 7 * 7, 3072),\n",
        "            nn.ReLU()\n",
        "        )\n",
        "        self._hidden10 = nn.Sequential(\n",
        "            nn.Linear(3072, 3072),\n",
        "            nn.ReLU()\n",
        "        )\n",
        "\n",
        "        self._digit_length = nn.Sequential(nn.Linear(3072, 7))\n",
        "        self._digit1 = nn.Sequential(nn.Linear(3072, 11))\n",
        "        self._digit2 = nn.Sequential(nn.Linear(3072, 11))\n",
        "        self._digit3 = nn.Sequential(nn.Linear(3072, 11))\n",
        "        self._digit4 = nn.Sequential(nn.Linear(3072, 11))\n",
        "        self._digit5 = nn.Sequential(nn.Linear(3072, 11))\n",
        "\n",
        "    def forward(self, x):\n",
        "        x = self._hidden1(x)\n",
        "        x = self._hidden2(x)\n",
        "        x = self._hidden3(x)\n",
        "        x = self._hidden4(x)\n",
        "        x = self._hidden5(x)\n",
        "        x = self._hidden6(x)\n",
        "        x = self._hidden7(x)\n",
        "        x = self._hidden8(x)\n",
        "        x = x.view(x.size(0), 192 * 7 * 7)\n",
        "        x = self._hidden9(x)\n",
        "        x = self._hidden10(x)\n",
        "\n",
        "        length_logits = self._digit_length(x)\n",
        "        \n",
        "        \n",
        "        digit1_logits = self._digit1(x)\n",
        "        digit2_logits = self._digit2(x)\n",
        "        digit3_logits = self._digit3(x)\n",
        "        digit4_logits = self._digit4(x)\n",
        "        digit5_logits = self._digit5(x)\n",
        "        \n",
        "        \n",
        "\n",
        "        return length_logits, digit1_logits, digit2_logits, digit3_logits, digit4_logits, digit5_logits"
      ],
      "execution_count": 0,
      "outputs": []
    },
    {
      "cell_type": "markdown",
      "metadata": {
        "id": "yIYvCzhUSLpK",
        "colab_type": "text"
      },
      "source": [
        "SImple CNN"
      ]
    },
    {
      "cell_type": "code",
      "metadata": {
        "id": "ZFhkJerXSNdW",
        "colab_type": "code",
        "colab": {}
      },
      "source": [
        "class SimpleCNN(nn.Module):\n",
        "    def __init__(self):\n",
        "        super(SimpleCNN, self).__init__()\n",
        "        self.conv1 = nn.Conv2d(in_channels=1, out_channels=32, kernel_size=(5, 5), padding=0)\n",
        "        self.fc1 = nn.Linear(32 * 25**2, 128)\n",
        "        self.fc21 = nn.Linear(128, 6)\n",
        "        \n",
        "        # below are the locally connected layers which are commented as we are only training for seq length\n",
        "        \n",
        "        \"\"\"\n",
        "        self.fc22 = nn.Linear(128, 11)\n",
        "        self.fc23 = nn.Linear(128, 11)\n",
        "        self.fc24 = nn.Linear(128, 11)\n",
        "        self.fc25 = nn.Linear(128, 11)\n",
        "        self.fc26 = nn.Linear(128, 11)\n",
        "        \"\"\"\n",
        "            \n",
        "    def forward(self, x):\n",
        "        out = self.conv1(x)\n",
        "        out = F.relu(out)\n",
        "        out = F.max_pool2d(out, (2,2))\n",
        "        out = F.dropout(out, 0.2)\n",
        "        out = out.view(out.shape[0], -1)\n",
        "        out = self.fc1(out)\n",
        "        out = F.relu(out)\n",
        "        out_l = F.log_softmax(self.fc21(out), dim=1)\n",
        "        \"\"\"\n",
        "        out_s1 = F.log_softmax(self.fc22(out), dim=1)\n",
        "        out_s2 = F.log_softmax(self.fc23(out), dim=1)\n",
        "        out_s3 = F.log_softmax(self.fc24(out), dim=1)\n",
        "        out_s4 = F.log_softmax(self.fc25(out), dim=1)\n",
        "        out_s5 = F.log_softmax(self.fc26(out), dim=1)\n",
        "        \"\"\"\n",
        "        \n",
        "        return out_l"
      ],
      "execution_count": 0,
      "outputs": []
    },
    {
      "cell_type": "code",
      "metadata": {
        "id": "2sPKELDpzumY",
        "colab_type": "code",
        "outputId": "8ea8cd02-8051-4cd4-e5e2-75f392acf54f",
        "colab": {
          "base_uri": "https://localhost:8080/",
          "height": 33
        }
      },
      "source": [
        "# take one sample out from train data\n",
        "\n",
        "for data in train_loader:\n",
        "  sample = data[0].reshape((8,1,54,54))\n",
        "  label = data[1]\n",
        "  break\n",
        "  \n",
        "print(sample.shape,label.shape)"
      ],
      "execution_count": 48,
      "outputs": [
        {
          "output_type": "stream",
          "text": [
            "torch.Size([8, 1, 54, 54]) torch.Size([8, 6])\n"
          ],
          "name": "stdout"
        }
      ]
    },
    {
      "cell_type": "markdown",
      "metadata": {
        "id": "lX8_am4ylI6D",
        "colab_type": "text"
      },
      "source": [
        "When we run the sample input through our model ALL op values for the 8 elements in the batch are SAME - this should \n",
        "not be the case - please look into it"
      ]
    },
    {
      "cell_type": "code",
      "metadata": {
        "id": "vhYkCwB_SVf9",
        "colab_type": "code",
        "outputId": "6d61f493-be74-443c-8ada-5dc3c0470b54",
        "colab": {
          "base_uri": "https://localhost:8080/",
          "height": 180
        }
      },
      "source": [
        "input = torch.tensor(data=[[0.5079, 0.4926, 1, 0.4977, 0.5182, 0.4883, 0.4929], # correct index should be close to 1\n",
        "        [0.5015, 0.4827, 1, 0.4858, 0.5112, 0.4924, 0.4959],\n",
        "        [0.4955, 1, 0.5145, 0.4935, 0.5175, 0.5023, 0.5022],\n",
        "        [0.4921, 1, 0.5162, 0.4810, 0.4995, 0.4960, 0.4929],\n",
        "        [0.5126, 0.4827, 0.5345, 0.5076, 1, 0.4970, 0.5097],\n",
        "        [0.4988, 0.5074, 0.5138, 1, 0.5139, 0.5015, 0.5024],\n",
        "        [0.4891, 0.5071, 1, 0.4919, 0.5127, 0.5270, 0.5099],\n",
        "        [0.5156, 0.4890, 1, 0.4987, 0.5049, 0.5047, 0.4996]])\n",
        "print (input)\n",
        "target = torch.tensor([\n",
        "        [ 2,  3,  8, 10, 10, 10],\n",
        "        [ 2,  1,  8, 10, 10, 10],\n",
        "        [ 1,  8, 10, 10, 10, 10],\n",
        "        [ 1,  5, 10, 10, 10, 10],\n",
        "        [ 4,  2,  2,  2,  7, 10],\n",
        "        [ 3,  1,  1,  7, 10, 10],\n",
        "        [ 2,  1,  5, 10, 10, 10],\n",
        "        [ 2,  6,  1, 10, 10, 10]\n",
        "        ])\n",
        "print (target[:,0])\n",
        "\n",
        "# This criterion combines `log_softmax` and `nll_loss` in a single\n",
        "\n",
        "loss = F.cross_entropy(input, target[:,0])\n",
        "print (loss) # returns log-loss if close to 1 means loss close to 0\n",
        "\n",
        "\n",
        "def claculate_loss(predicted, target):\n",
        "  loss = F.cross_entropy(predicted, target[:,0])\n",
        "  return loss\n",
        "\n",
        "\n",
        "def calculate_loss_overall(length_op, s1, s2, s3, s4, s5, target):\n",
        "  loss_len = F.cross_entropy(length_op, target[:,0])\n",
        "  loss_s1 = F.cross_entropy(s1, target[:,1])\n",
        "  loss_s2 = F.cross_entropy(s2, target[:,2])\n",
        "  loss_s3 = F.cross_entropy(s3, target[:,3])\n",
        "  loss_s4 = F.cross_entropy(s4, target[:,4])\n",
        "  loss_s5 = F.cross_entropy(s5, target[:,5])\n",
        "  \n",
        "  return loss_len+loss_s1+loss_s2+loss_s3+loss_s4+loss_s5"
      ],
      "execution_count": 49,
      "outputs": [
        {
          "output_type": "stream",
          "text": [
            "tensor([[0.5079, 0.4926, 1.0000, 0.4977, 0.5182, 0.4883, 0.4929],\n",
            "        [0.5015, 0.4827, 1.0000, 0.4858, 0.5112, 0.4924, 0.4959],\n",
            "        [0.4955, 1.0000, 0.5145, 0.4935, 0.5175, 0.5023, 0.5022],\n",
            "        [0.4921, 1.0000, 0.5162, 0.4810, 0.4995, 0.4960, 0.4929],\n",
            "        [0.5126, 0.4827, 0.5345, 0.5076, 1.0000, 0.4970, 0.5097],\n",
            "        [0.4988, 0.5074, 0.5138, 1.0000, 0.5139, 0.5015, 0.5024],\n",
            "        [0.4891, 0.5071, 1.0000, 0.4919, 0.5127, 0.5270, 0.5099],\n",
            "        [0.5156, 0.4890, 1.0000, 0.4987, 0.5049, 0.5047, 0.4996]])\n",
            "tensor([2, 2, 1, 1, 4, 3, 2, 2])\n",
            "tensor(1.5363)\n"
          ],
          "name": "stdout"
        }
      ]
    },
    {
      "cell_type": "code",
      "metadata": {
        "id": "6BntNBnvw6ba",
        "colab_type": "code",
        "outputId": "3f85b97e-eaf9-4353-cbe2-274d0801f783",
        "colab": {
          "base_uri": "https://localhost:8080/",
          "height": 66
        }
      },
      "source": [
        "# build the model\n",
        "model = MainModel()\n",
        "\n",
        "# just run the data through the model to check if all is OK\n",
        "\n",
        "with torch.no_grad():\n",
        "  output = model(sample)\n",
        "  print (output[0].shape) # there will be 6 ops 1st one of shape 8x7 and remaining 5 of shape 8x11\n",
        "  print (label.shape)\n",
        "  \n",
        "  label = label.to('cpu')\n",
        "  \n",
        "  print(calculate_loss_overall(output[0], output[1], output[2], output[3], output[4], output[5], label))\n",
        "  \n"
      ],
      "execution_count": 50,
      "outputs": [
        {
          "output_type": "stream",
          "text": [
            "torch.Size([8, 7])\n",
            "torch.Size([8, 6])\n",
            "tensor(13.8779)\n"
          ],
          "name": "stdout"
        }
      ]
    },
    {
      "cell_type": "markdown",
      "metadata": {
        "id": "dKqIJu0_lWw8",
        "colab_type": "text"
      },
      "source": [
        "We run the same sample through the simple model we had built earlier. This does not have the same prob"
      ]
    },
    {
      "cell_type": "markdown",
      "metadata": {
        "id": "4DtXxk867cOd",
        "colab_type": "text"
      },
      "source": [
        "Predict the model for JUST sq len\n",
        "\n",
        "Actually there should be 6 loss functions"
      ]
    },
    {
      "cell_type": "markdown",
      "metadata": {
        "id": "fXK6Q0kX2zMA",
        "colab_type": "text"
      },
      "source": [
        "### Training the network"
      ]
    },
    {
      "cell_type": "code",
      "metadata": {
        "id": "GSol8aETM-Pw",
        "colab_type": "code",
        "colab": {}
      },
      "source": [
        "# GPU stuff and seed\n",
        "\n",
        "# fix random seed for reproducibility\n",
        "seed = 7\n",
        "torch.manual_seed(seed)\n",
        "torch.backends.cudnn.deterministic = True\n",
        "torch.backends.cudnn.benchmark = False\n",
        "import numpy as np\n",
        "np.random.seed(seed)"
      ],
      "execution_count": 0,
      "outputs": []
    },
    {
      "cell_type": "markdown",
      "metadata": {
        "id": "ysAZ4Dgm5Jtc",
        "colab_type": "text"
      },
      "source": [
        "#### Move model to GPU"
      ]
    },
    {
      "cell_type": "code",
      "metadata": {
        "id": "Yys32YYP5Hu8",
        "colab_type": "code",
        "outputId": "d24e0003-8a93-4448-e244-beb37cacccf5",
        "colab": {
          "base_uri": "https://localhost:8080/",
          "height": 33
        }
      },
      "source": [
        "device = torch.device(\"cuda:0\" if torch.cuda.is_available() else \"cpu\")\n",
        "print(device)\n"
      ],
      "execution_count": 52,
      "outputs": [
        {
          "output_type": "stream",
          "text": [
            "cuda:0\n"
          ],
          "name": "stdout"
        }
      ]
    },
    {
      "cell_type": "code",
      "metadata": {
        "id": "yxDFdMPIDaN5",
        "colab_type": "code",
        "colab": {}
      },
      "source": [
        "for i, (data, label) in enumerate(train_loader):\n",
        "  print(i)"
      ],
      "execution_count": 0,
      "outputs": []
    },
    {
      "cell_type": "code",
      "metadata": {
        "id": "4ivcPOq056zb",
        "colab_type": "code",
        "outputId": "324b2b5c-5e29-4d57-d6fe-fc55ba6d353f",
        "colab": {
          "base_uri": "https://localhost:8080/",
          "height": 667
        }
      },
      "source": [
        "model = MainModel()\n",
        "model.to(device)\n",
        "optimizer = optim.SGD(model.parameters(), lr=0.03)\n",
        "\n",
        "for epoch in range(20):\n",
        "  running_loss = 0.0\n",
        "  print (\"Epoch:\", epoch)\n",
        "  for i, (data, label) in enumerate(train_loader):\n",
        "    # Step 1. Remember that PyTorch accumulates gradients.\n",
        "    # We need to clear them out before each instance\n",
        "    model.zero_grad()\n",
        "    \n",
        "    data = data.reshape((8,1,54,54)).to(device)    \n",
        "    label = label.to(device)\n",
        "    # Step 3. Run our forward pass.\n",
        "    outputs = [output.cuda() for output in model(data)]\n",
        "\n",
        "    # Step 4. Compute the loss, gradients, and update the parameters by\n",
        "    # calling optimizer.step()\n",
        "    loss = calculate_loss_overall(outputs[0], outputs[1], outputs[2], outputs[3], outputs[4], outputs[5], label)\n",
        "\n",
        "    loss.backward()\n",
        "    optimizer.step()\n",
        "    \n",
        "    # print statistics\n",
        "    running_loss += np.exp(loss.item())\n",
        "    if i%3000 == 0 and i != 0:\n",
        "      print (i, epoch, running_loss)\n",
        "      \n",
        "  #train with validation data as well\n",
        "      \n",
        "  for i, (data, label) in enumerate(valid_loader):\n",
        "    # Step 1. Remember that PyTorch accumulates gradients.\n",
        "    # We need to clear them out before each instance\n",
        "    model.zero_grad()\n",
        "    \n",
        "    data = data.reshape((8,1,54,54)).to(device)    \n",
        "    label = label.to(device)\n",
        "    # Step 3. Run our forward pass.\n",
        "    outputs = [output.cuda() for output in model(data)]\n",
        "\n",
        "    # Step 4. Compute the loss, gradients, and update the parameters by\n",
        "    # calling optimizer.step()\n",
        "    loss = calculate_loss_overall(outputs[0], outputs[1], outputs[2], outputs[3], outputs[4], outputs[5], label)\n",
        "\n",
        "    loss.backward()\n",
        "    optimizer.step()\n",
        "    \n",
        "    # print statistics\n",
        "    running_loss += np.exp(loss.item())\n",
        "    if i%3000 == 0 and i != 0:\n",
        "      print (i, epoch, running_loss)\n",
        "\n",
        "    \n",
        "   "
      ],
      "execution_count": 59,
      "outputs": [
        {
          "output_type": "stream",
          "text": [
            "Epoch: 0\n",
            "3000 0 5335193.136308296\n",
            "Epoch: 1\n",
            "3000 1 170542.4998331272\n",
            "Epoch: 2\n",
            "3000 2 45718.61315814643\n",
            "Epoch: 3\n",
            "3000 3 35996.601442983476\n",
            "Epoch: 4\n",
            "3000 4 20415.786464657733\n",
            "Epoch: 5\n",
            "3000 5 15819.575108011762\n",
            "Epoch: 6\n",
            "3000 6 14592.759113707045\n",
            "Epoch: 7\n",
            "3000 7 10446.216290065107\n",
            "Epoch: 8\n",
            "3000 8 8888.708712153166\n",
            "Epoch: 9\n",
            "3000 9 7897.95073032205\n",
            "Epoch: 10\n",
            "3000 10 6744.484113152682\n",
            "Epoch: 11\n",
            "3000 11 6367.807582931631\n",
            "Epoch: 12\n",
            "3000 12 5875.682191617942\n",
            "Epoch: 13\n",
            "3000 13 5587.762505368109\n",
            "Epoch: 14\n",
            "3000 14 5299.810998547349\n",
            "Epoch: 15\n",
            "3000 15 4951.99836860683\n",
            "Epoch: 16\n",
            "3000 16 4792.703255451267\n",
            "Epoch: 17\n",
            "3000 17 4500.315818146786\n",
            "Epoch: 18\n",
            "3000 18 4281.554824117132\n",
            "Epoch: 19\n",
            "3000 19 4130.265775025316\n"
          ],
          "name": "stdout"
        }
      ]
    },
    {
      "cell_type": "code",
      "metadata": {
        "id": "Fqv4ug7WvN6m",
        "colab_type": "code",
        "outputId": "e0cec330-55d9-4dd6-9d85-ef5dfe4acde9",
        "colab": {
          "base_uri": "https://localhost:8080/",
          "height": 98
        }
      },
      "source": [
        "a = torch.randn(4, 4)\n",
        "\n",
        "print (a)\n",
        "  \n",
        "torch.argmax(a, dim=1)"
      ],
      "execution_count": 0,
      "outputs": [
        {
          "output_type": "stream",
          "text": [
            "tensor([[ 2.6748, -0.0699, -1.0672,  0.0124],\n",
            "        [-1.3491,  0.4180,  0.3522, -0.9499],\n",
            "        [-0.1158, -0.1898, -0.1021, -0.4044],\n",
            "        [ 0.7958, -0.4156, -0.3173,  0.0840]])\n"
          ],
          "name": "stdout"
        },
        {
          "output_type": "execute_result",
          "data": {
            "text/plain": [
              "tensor([0, 1, 2, 0])"
            ]
          },
          "metadata": {
            "tags": []
          },
          "execution_count": 215
        }
      ]
    },
    {
      "cell_type": "code",
      "metadata": {
        "id": "QFjduy9Sw1Z5",
        "colab_type": "code",
        "outputId": "6a0c92ea-3fe1-4698-b76a-3927c05fb184",
        "colab": {
          "base_uri": "https://localhost:8080/",
          "height": 33
        }
      },
      "source": [
        "a = torch.tensor([2, 2, 2, 2, 2, 2, 2, 2])\n",
        "b = torch.tensor([2, 3, 3, 2, 3, 2, 2, 2])\n",
        "\n",
        "a==b"
      ],
      "execution_count": 0,
      "outputs": [
        {
          "output_type": "execute_result",
          "data": {
            "text/plain": [
              "tensor([1, 0, 0, 1, 0, 1, 1, 1], dtype=torch.uint8)"
            ]
          },
          "metadata": {
            "tags": []
          },
          "execution_count": 126
        }
      ]
    },
    {
      "cell_type": "code",
      "metadata": {
        "id": "FhhM7a2JLt7n",
        "colab_type": "code",
        "colab": {}
      },
      "source": [
        "correct = 0\n",
        "\n",
        "total = 0\n",
        "\n",
        "with torch.no_grad():\n",
        "  for i, (data, label) in enumerate(valid_loader):\n",
        "    \n",
        "    data = data.reshape((8,1,54,54)).to(device)    \n",
        "    label = label.to(device)\n",
        "    \n",
        "    output = model(data).cuda()\n",
        "    # print (\"Output:\", output.float())\n",
        "    \n",
        "    # get args with max value \n",
        "    \n",
        "    predicted_labels = torch.argmax(output, dim=1)\n",
        "    \n",
        "    # correct += (predicted_labels == label).sum().item()\n",
        "    # total += labels.size(0)\n",
        "    \n",
        "    # print (\"Pred:\", predicted_labels)\n",
        "    \n",
        "    # print (\"Org:\", label[:,0])\n",
        "    \n",
        "    # print (\"equals:\", (predicted_labels == label[:,0]).sum().item())\n",
        "    total += label[:,0].size(0)\n",
        "    correct += (predicted_labels == label[:,0]).sum().item()\n",
        "    \n",
        "    \n",
        "   \n",
        "    \n",
        "    "
      ],
      "execution_count": 0,
      "outputs": []
    },
    {
      "cell_type": "code",
      "metadata": {
        "id": "PlOe2ymRx46v",
        "colab_type": "code",
        "outputId": "317230da-f16a-49d3-de1d-4364fe0a1a4c",
        "colab": {
          "base_uri": "https://localhost:8080/",
          "height": 33
        }
      },
      "source": [
        "correct/total"
      ],
      "execution_count": 0,
      "outputs": [
        {
          "output_type": "execute_result",
          "data": {
            "text/plain": [
              "0.9233333333333333"
            ]
          },
          "metadata": {
            "tags": []
          },
          "execution_count": 194
        }
      ]
    },
    {
      "cell_type": "code",
      "metadata": {
        "id": "s1ijZTMQW8jk",
        "colab_type": "code",
        "colab": {
          "base_uri": "https://localhost:8080/",
          "height": 33
        },
        "outputId": "300ff00a-0a46-42c0-e0f3-350f4dd0941b"
      },
      "source": [
        "a = torch.tensor([[-1.2360, -0.2942, -0.1222,  0.8475],\n",
        "            [ 1.1949, -1.1127, -2.2379, -0.6702],\n",
        "            [ 1.5717, -0.9207,  0.1297, -1.8768],\n",
        "            [-0.6172,  1.0036, -0.6060, -0.2432]])\n",
        "torch.max(a, 1)[0].max()"
      ],
      "execution_count": 66,
      "outputs": [
        {
          "output_type": "execute_result",
          "data": {
            "text/plain": [
              "tensor(1.5717)"
            ]
          },
          "metadata": {
            "tags": []
          },
          "execution_count": 66
        }
      ]
    },
    {
      "cell_type": "code",
      "metadata": {
        "id": "X_JeD6HjGnc9",
        "colab_type": "code",
        "outputId": "91d0e772-cfcc-4f8a-a7c9-a12362829757",
        "colab": {
          "base_uri": "https://localhost:8080/",
          "height": 50
        }
      },
      "source": [
        "def accuracy_overall(model, data_loader):\n",
        "\n",
        "  correct = 0\n",
        "  coverage = 0\n",
        "  total = 0\n",
        "  \n",
        "  confidence = 0.98\n",
        "\n",
        "  with torch.no_grad():\n",
        "    for i, (data, label) in enumerate(data_loader):\n",
        "\n",
        "      data = data.reshape((8,1,54,54)).to(device)    \n",
        "      label = label.to(device)\n",
        "\n",
        "      outputs = [output.cuda() for output in model(data)]\n",
        "      # print (\"Output:\", output.float())\n",
        "\n",
        "      \n",
        "      # get the max values of each op - there will be 8 max values per op\n",
        "      \n",
        "      conf_len = torch.max(outputs[0], dim=1)[0]\n",
        "      conf_s1 = torch.max(outputs[1], dim=1)[0]\n",
        "      conf_s2 = torch.max(outputs[2], dim=1)[0]\n",
        "      conf_s3 = torch.max(outputs[3], dim=1)[0]\n",
        "      conf_s4 = torch.max(outputs[4], dim=1)[0]\n",
        "      conf_s5 = torch.max(outputs[5], dim=1)[0]\n",
        "      \n",
        "      \n",
        "      \n",
        "      # get args with max value \n",
        "      predicted_len = torch.argmax(outputs[0], dim=1) # returns 8 values for each of 8 elems in batch\n",
        "      predicted_s1 = torch.argmax(outputs[1], dim=1)\n",
        "      predicted_s2 = torch.argmax(outputs[2], dim=1)\n",
        "      predicted_s3 = torch.argmax(outputs[3], dim=1)\n",
        "      predicted_s4 = torch.argmax(outputs[4], dim=1)\n",
        "      predicted_s5 = torch.argmax(outputs[5], dim=1)\n",
        "\n",
        "      seq_len = label[:,0]\n",
        "      s1 = label [:,1]\n",
        "      s2 = label [:,2]\n",
        "      s3 = label [:,3]\n",
        "      s4 = label [:,4]\n",
        "      s5 = label [:,5]\n",
        "            \n",
        "      \n",
        "      \n",
        "      for x in range(len(predicted_len)):\n",
        "        if conf_len[x] > confidence and conf_s1[x] > confidence and conf_s2[x] > confidence and conf_s3[x] > confidence and conf_s4[x] > confidence and conf_s5[x] > confidence:\n",
        "          if predicted_len[x] == seq_len[x] and predicted_s1[x] == s1[x] and predicted_s2[x] == s2[x] and predicted_s3[x] == s3[x] and predicted_s4[x] == s4[x] and predicted_s5[x] == s5[x]:\n",
        "            correct += 1\n",
        "          total += 1\n",
        "          coverage += 1\n",
        "        else :\n",
        "          print (\"here\")\n",
        "          total += 1\n",
        "          continue\n",
        "          \n",
        "  print (\"Accuracy:\", correct/coverage, \"Coverage:\", coverage/total)\n",
        "   \n",
        "    \n",
        "accuracy_overall(model, train_loader)"
      ],
      "execution_count": 72,
      "outputs": [
        {
          "output_type": "stream",
          "text": [
            "here\n",
            "Accuracy: 0.9380634329720062 Coverage: 0.999963503649635\n"
          ],
          "name": "stdout"
        }
      ]
    },
    {
      "cell_type": "code",
      "metadata": {
        "id": "eMiMAkq9u836",
        "colab_type": "code",
        "outputId": "2f66d985-7e74-4718-bc29-f34cf6cdc185",
        "colab": {
          "base_uri": "https://localhost:8080/",
          "height": 33
        }
      },
      "source": [
        "correct/total"
      ],
      "execution_count": 0,
      "outputs": [
        {
          "output_type": "execute_result",
          "data": {
            "text/plain": [
              "0.9233333333333333"
            ]
          },
          "metadata": {
            "tags": []
          },
          "execution_count": 325
        }
      ]
    }
  ]
}