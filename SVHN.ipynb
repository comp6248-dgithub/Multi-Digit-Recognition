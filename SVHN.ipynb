{
  "nbformat": 4,
  "nbformat_minor": 0,
  "metadata": {
    "colab": {
      "name": "SVHN.ipynb",
      "version": "0.3.2",
      "provenance": [],
      "collapsed_sections": [],
      "toc_visible": true
    },
    "kernelspec": {
      "name": "python3",
      "display_name": "Python 3"
    },
    "accelerator": "GPU"
  },
  "cells": [
    {
      "cell_type": "code",
      "metadata": {
        "id": "4QVFj1jjuS4i",
        "colab_type": "code",
        "colab": {
          "base_uri": "https://localhost:8080/",
          "height": 321
        },
        "outputId": "e3d04b83-98fe-462e-a535-73021afbc2b6"
      },
      "source": [
        "# Execute this code block to install dependencies when running on colab\n",
        "try:\n",
        "    import torch\n",
        "except:\n",
        "    from os.path import exists\n",
        "    from wheel.pep425tags import get_abbr_impl, get_impl_ver, get_abi_tag\n",
        "    platform = '{}{}-{}'.format(get_abbr_impl(), get_impl_ver(), get_abi_tag())\n",
        "    cuda_output = !ldconfig -p|grep cudart.so|sed -e 's/.*\\.\\([0-9]*\\)\\.\\([0-9]*\\)$/cu\\1\\2/'\n",
        "    accelerator = cuda_output[0] if exists('/dev/nvidia0') else 'cpu'\n",
        "\n",
        "    !pip install -q http://download.pytorch.org/whl/{accelerator}/torch-1.0.0-{platform}-linux_x86_64.whl torchvision\n",
        "\n",
        "try: \n",
        "    import torchbearer\n",
        "except:\n",
        "    !pip install torchbearer"
      ],
      "execution_count": 2,
      "outputs": [
        {
          "output_type": "stream",
          "text": [
            "Collecting torchbearer\n",
            "\u001b[?25l  Downloading https://files.pythonhosted.org/packages/5a/62/79c45d98e22e87b44c9b354d1b050526de80ac8a4da777126b7c86c2bb3e/torchbearer-0.3.0.tar.gz (84kB)\n",
            "\u001b[K     |████████████████████████████████| 92kB 5.8MB/s \n",
            "\u001b[?25hRequirement already satisfied: torch>=0.4 in /usr/local/lib/python3.6/dist-packages (from torchbearer) (1.1.0)\n",
            "Requirement already satisfied: torchvision in /usr/local/lib/python3.6/dist-packages (from torchbearer) (0.2.2.post3)\n",
            "Requirement already satisfied: tqdm in /usr/local/lib/python3.6/dist-packages (from torchbearer) (4.28.1)\n",
            "Requirement already satisfied: numpy in /usr/local/lib/python3.6/dist-packages (from torch>=0.4->torchbearer) (1.16.3)\n",
            "Requirement already satisfied: six in /usr/local/lib/python3.6/dist-packages (from torchvision->torchbearer) (1.12.0)\n",
            "Requirement already satisfied: pillow>=4.1.1 in /usr/local/lib/python3.6/dist-packages (from torchvision->torchbearer) (4.3.0)\n",
            "Requirement already satisfied: olefile in /usr/local/lib/python3.6/dist-packages (from pillow>=4.1.1->torchvision->torchbearer) (0.46)\n",
            "Building wheels for collected packages: torchbearer\n",
            "  Building wheel for torchbearer (setup.py) ... \u001b[?25l\u001b[?25hdone\n",
            "  Stored in directory: /root/.cache/pip/wheels/6c/cb/69/466aef9cee879fb8f645bd602e34d45e754fb3dee2cb1a877a\n",
            "Successfully built torchbearer\n",
            "Installing collected packages: torchbearer\n",
            "Successfully installed torchbearer-0.3.0\n"
          ],
          "name": "stdout"
        }
      ]
    },
    {
      "cell_type": "code",
      "metadata": {
        "id": "ZzO4fi6FufIb",
        "colab_type": "code",
        "outputId": "88510432-ad7b-45e7-f31a-0d4e7458e313",
        "colab": {
          "base_uri": "https://localhost:8080/",
          "height": 52
        }
      },
      "source": [
        "# automatically reload external modules if they change\n",
        "%load_ext autoreload\n",
        "%autoreload 2\n",
        "\n",
        "import torch\n",
        "import torch.nn.functional as F\n",
        "import torchvision.transforms as transforms\n",
        "import torchbearer\n",
        "from torch import nn\n",
        "from torch import optim\n",
        "from torchvision.datasets import MNIST\n",
        "from torchvision.datasets import SVHN\n",
        "from torchbearer import Trial\n",
        "import matplotlib.pyplot as plt\n",
        "from torch.utils.data import DataLoader, Dataset\n",
        "import torchvision\n",
        "from torchvision import transforms\n",
        "\n",
        "%matplotlib inline"
      ],
      "execution_count": 9,
      "outputs": [
        {
          "output_type": "stream",
          "text": [
            "The autoreload extension is already loaded. To reload it, use:\n",
            "  %reload_ext autoreload\n"
          ],
          "name": "stdout"
        }
      ]
    },
    {
      "cell_type": "code",
      "metadata": {
        "id": "5U3Z5bKzuhai",
        "colab_type": "code",
        "colab": {}
      },
      "source": [
        "# fix random seed for reproducibility\n",
        "seed = 7\n",
        "torch.manual_seed(seed)\n",
        "torch.backends.cudnn.deterministic = True"
      ],
      "execution_count": 0,
      "outputs": []
    },
    {
      "cell_type": "markdown",
      "metadata": {
        "id": "jy59LXhgGgcC",
        "colab_type": "text"
      },
      "source": [
        "Loading the SVHN dataset in which there are just individual digit info. This dataset is provided by torchvision. But it is not the main dataset that we have to use. I just import it and define the loaders for later. We can run our CNN to test indv digit accuracy"
      ]
    },
    {
      "cell_type": "code",
      "metadata": {
        "id": "ZjlzMBGYujLv",
        "colab_type": "code",
        "outputId": "9c58174e-4d95-4961-c736-5b5133f296e9",
        "colab": {
          "base_uri": "https://localhost:8080/",
          "height": 285
        }
      },
      "source": [
        "# convert each image to tensor format\n",
        "transform = transforms.Compose([\n",
        "    transforms.ToTensor()  # convert to tensor\n",
        "])\n",
        "\n",
        "# load data\n",
        "trainset = SVHN(root='.', split='train', transform=transform, download=True)\n",
        "\n",
        "testset = SVHN(root=\".\", split='test', transform=transform, download=True)\n",
        "\n",
        "# create data loaders\n",
        "trainloader = DataLoader(trainset, batch_size=128, shuffle=True)\n",
        "testloader = DataLoader(testset, batch_size=128, shuffle=True)"
      ],
      "execution_count": 0,
      "outputs": [
        {
          "output_type": "stream",
          "text": [
            "  0%|          | 57344/182040794 [00:00<06:08, 493340.24it/s]"
          ],
          "name": "stderr"
        },
        {
          "output_type": "stream",
          "text": [
            "Downloading http://ufldl.stanford.edu/housenumbers/train_32x32.mat to ./train_32x32.mat\n"
          ],
          "name": "stdout"
        },
        {
          "output_type": "stream",
          "text": [
            "100%|█████████▉| 181821440/182040794 [00:14<00:00, 14590540.31it/s]\n",
            "0it [00:00, ?it/s]\u001b[A\n",
            "  0%|          | 57344/64275384 [00:00<01:52, 571117.57it/s]\u001b[A"
          ],
          "name": "stderr"
        },
        {
          "output_type": "stream",
          "text": [
            "Downloading http://ufldl.stanford.edu/housenumbers/test_32x32.mat to ./test_32x32.mat\n"
          ],
          "name": "stdout"
        },
        {
          "output_type": "stream",
          "text": [
            "\n",
            "  1%|          | 450560/64275384 [00:00<01:23, 761801.72it/s]\u001b[A\n",
            "  2%|▏         | 1425408/64275384 [00:00<00:59, 1048426.98it/s]\u001b[A\n",
            "  7%|▋         | 4284416/64275384 [00:00<00:40, 1474570.93it/s]\u001b[A\n",
            " 18%|█▊        | 11558912/64275384 [00:00<00:25, 2088377.17it/s]\u001b[A\n",
            " 35%|███▍      | 22470656/64275384 [00:00<00:14, 2959104.54it/s]\u001b[A\n",
            " 52%|█████▏    | 33308672/64275384 [00:00<00:07, 4178386.91it/s]\u001b[A\n",
            " 69%|██████▉   | 44556288/64275384 [00:00<00:03, 5875558.96it/s]\u001b[A\n",
            " 85%|████████▍ | 54460416/64275384 [00:00<00:01, 8163084.12it/s]\u001b[A\n",
            "64282624it [00:01, 62022087.21it/s]                             \u001b[A"
          ],
          "name": "stderr"
        }
      ]
    },
    {
      "cell_type": "code",
      "metadata": {
        "id": "LDlmlE_9wfU1",
        "colab_type": "code",
        "outputId": "5222a8b5-8343-4e92-c153-95db26fc2428",
        "colab": {
          "base_uri": "https://localhost:8080/",
          "height": 123
        }
      },
      "source": [
        "# per-digit dataset\n",
        "\n",
        "for i, data in enumerate(trainloader):\n",
        "  print (i, data[0].shape, data[1])\n",
        "  break"
      ],
      "execution_count": 0,
      "outputs": [
        {
          "output_type": "stream",
          "text": [
            "0 torch.Size([128, 3, 32, 32]) tensor([2, 1, 3, 2, 1, 2, 2, 4, 9, 4, 4, 3, 2, 2, 2, 4, 5, 6, 4, 0, 2, 5, 8, 7,\n",
            "        5, 2, 7, 6, 0, 4, 4, 3, 2, 9, 4, 9, 1, 3, 1, 8, 5, 1, 3, 7, 5, 7, 1, 1,\n",
            "        6, 1, 4, 2, 8, 4, 0, 6, 7, 7, 8, 1, 9, 2, 5, 0, 8, 8, 8, 3, 1, 3, 4, 1,\n",
            "        2, 4, 6, 1, 6, 5, 0, 2, 1, 2, 4, 1, 9, 7, 6, 5, 4, 3, 9, 0, 1, 5, 2, 4,\n",
            "        2, 1, 7, 1, 5, 1, 9, 2, 5, 4, 0, 6, 4, 2, 0, 0, 9, 3, 0, 7, 5, 8, 2, 3,\n",
            "        4, 6, 2, 2, 2, 1, 3, 6])\n"
          ],
          "name": "stdout"
        }
      ]
    },
    {
      "cell_type": "code",
      "metadata": {
        "id": "MK6o0tAav90F",
        "colab_type": "code",
        "colab": {}
      },
      "source": [
        "# These are all the modules we'll be using later.\n",
        "from __future__ import print_function\n",
        "import numpy as np\n",
        "\n",
        "from six.moves import cPickle as pickle\n",
        "from six.moves import range\n",
        "\n",
        "import os\n",
        "import sys\n",
        "import tarfile\n",
        "from IPython.display import display, Image\n",
        "\n",
        "import h5py\n",
        "\n",
        "import matplotlib.pyplot as plt\n",
        "\n",
        "from PIL import Image\n",
        "import random"
      ],
      "execution_count": 0,
      "outputs": []
    },
    {
      "cell_type": "code",
      "metadata": {
        "id": "kbrn89t5zRrI",
        "colab_type": "code",
        "colab": {}
      },
      "source": [
        "from collections import Counter\n",
        "%matplotlib inline\n",
        "from urllib.request import urlretrieve"
      ],
      "execution_count": 0,
      "outputs": []
    },
    {
      "cell_type": "markdown",
      "metadata": {
        "id": "QQMU59igIDWZ",
        "colab_type": "text"
      },
      "source": [
        "This block of code just downloads the relevant files and extracts them to the local directory. Dont need to understand deeply"
      ]
    },
    {
      "cell_type": "code",
      "metadata": {
        "id": "Q6iL5m4E0GoG",
        "colab_type": "code",
        "outputId": "ad8fb0d5-7478-400d-f749-762935844901",
        "colab": {
          "base_uri": "https://localhost:8080/",
          "height": 178
        }
      },
      "source": [
        "url = 'http://ufldl.stanford.edu/housenumbers/'\n",
        "last_percent_reported = None\n",
        "\n",
        "def download_progress_hook(count, blockSize, totalSize):\n",
        "    \"\"\"A hook to report the progress of a download. This is mostly intended for users with\n",
        "    slow internet connections. Reports every 1% change in download progress.\n",
        "    \"\"\"\n",
        "    global last_percent_reported\n",
        "    percent = int(count * blockSize * 100 / totalSize)\n",
        "\n",
        "    if last_percent_reported != percent:\n",
        "        if percent % 5 == 0:\n",
        "            sys.stdout.write(\"%s%%\" % percent)\n",
        "            sys.stdout.flush()\n",
        "        else:\n",
        "            sys.stdout.write(\".\")\n",
        "            sys.stdout.flush()\n",
        "\n",
        "        last_percent_reported = percent\n",
        "\n",
        "def maybe_download(filename, expected_bytes, force=False):\n",
        "    \"\"\"Download a file if not present, and make sure it's the right size.\"\"\"\n",
        "    if force or not os.path.exists(filename):\n",
        "        print('Attempting to download:', filename) \n",
        "        filename, _ = urlretrieve(url + filename, filename, reporthook=download_progress_hook)\n",
        "        print('\\nDownload Complete!')\n",
        "    statinfo = os.stat(filename)\n",
        "    if statinfo.st_size == expected_bytes:\n",
        "        print('Found and verified', filename)\n",
        "    else:\n",
        "        raise Exception(\n",
        "          'Failed to verify ' + filename + '. Can you get to it with a browser?')\n",
        "    return filename\n",
        "\n",
        "train_filename = maybe_download('train.tar.gz', 404141560 )\n",
        "test_filename = maybe_download('test.tar.gz', 276555967 )"
      ],
      "execution_count": 0,
      "outputs": [
        {
          "output_type": "stream",
          "text": [
            "Attempting to download: train.tar.gz\n",
            "0%....5%....10%....15%....20%....25%....30%....35%....40%....45%....50%....55%....60%....65%....70%....75%....80%....85%....90%....95%....100%\n",
            "Download Complete!\n",
            "Found and verified train.tar.gz\n",
            "Attempting to download: test.tar.gz\n",
            "0%....5%....10%....15%....20%....25%....30%....35%....40%....45%....50%....55%....60%....65%....70%....75%....80%....85%....90%....95%....100%\n",
            "Download Complete!\n",
            "Found and verified test.tar.gz\n"
          ],
          "name": "stdout"
        }
      ]
    },
    {
      "cell_type": "markdown",
      "metadata": {
        "id": "nDT23xNABnlr",
        "colab_type": "text"
      },
      "source": [
        "### Extract the data"
      ]
    },
    {
      "cell_type": "code",
      "metadata": {
        "id": "gLxycbVy1p_V",
        "colab_type": "code",
        "outputId": "2be35a32-bf31-46c7-de72-40b14b078154",
        "colab": {
          "base_uri": "https://localhost:8080/",
          "height": 52
        }
      },
      "source": [
        "# places the extracted files in /train and /test\n",
        "\n",
        "num_classes = 10\n",
        "np.random.seed(133)\n",
        "\n",
        "train_filename = 'train.tar.gz'\n",
        "test_filename = 'test.tar.gz'\n",
        "# extra_filename = 'extra.tar.gz'\n",
        "\n",
        "def maybe_extract(filename, force=False):\n",
        "    root = os.path.splitext(os.path.splitext(filename)[0])[0]  # remove .tar.gz\n",
        "    if os.path.isdir(root) and not force:\n",
        "        # You may override by setting force=True.\n",
        "        print('%s already present - Skipping extraction of %s.' % (root, filename))\n",
        "    else:\n",
        "        print('Extracting data for %s. This may take a while. Please wait.' % root)\n",
        "        tar = tarfile.open(filename)\n",
        "        sys.stdout.flush()\n",
        "        tar.extractall()\n",
        "        tar.close()\n",
        "    if not os.path.exists(root+'/digitStruct.mat'):\n",
        "        print(\"digitStruct.mat is missing\")\n",
        "    return root + '/digitStruct.mat'\n",
        "  \n",
        "  \n",
        "train_folders = maybe_extract(train_filename)\n",
        "test_folders = maybe_extract(test_filename)"
      ],
      "execution_count": 0,
      "outputs": [
        {
          "output_type": "stream",
          "text": [
            "Extracting data for train. This may take a while. Please wait.\n",
            "Extracting data for test. This may take a while. Please wait.\n"
          ],
          "name": "stdout"
        }
      ]
    },
    {
      "cell_type": "markdown",
      "metadata": {
        "id": "AoshH2lZBraL",
        "colab_type": "text"
      },
      "source": [
        "### Read the dataset"
      ]
    },
    {
      "cell_type": "code",
      "metadata": {
        "id": "i2OHcG5114ua",
        "colab_type": "code",
        "outputId": "d16033fc-2267-4fbb-8239-abc7a19cf077",
        "colab": {
          "base_uri": "https://localhost:8080/",
          "height": 34
        }
      },
      "source": [
        "print(train_folders)\n"
      ],
      "execution_count": 0,
      "outputs": [
        {
          "output_type": "stream",
          "text": [
            "train/digitStruct.mat\n"
          ],
          "name": "stdout"
        }
      ]
    },
    {
      "cell_type": "code",
      "metadata": {
        "id": "e30yb3MpFPaZ",
        "colab_type": "code",
        "outputId": "16a5cbf3-7021-49fb-b2c5-77850eda5769",
        "colab": {
          "base_uri": "https://localhost:8080/",
          "height": 34
        }
      },
      "source": [
        "train_dataset = h5py.File(train_folders, \"r\")\n",
        "\n",
        "print (list(train_dataset.keys()))"
      ],
      "execution_count": 0,
      "outputs": [
        {
          "output_type": "stream",
          "text": [
            "['#refs#', 'digitStruct']\n"
          ],
          "name": "stdout"
        }
      ]
    },
    {
      "cell_type": "code",
      "metadata": {
        "id": "6GTBrTvVGF_n",
        "colab_type": "code",
        "outputId": "2cb27494-96b5-4a23-f212-fde1f10cf616",
        "colab": {
          "base_uri": "https://localhost:8080/",
          "height": 52
        }
      },
      "source": [
        "list(train_dataset['digitStruct'].items())"
      ],
      "execution_count": 0,
      "outputs": [
        {
          "output_type": "execute_result",
          "data": {
            "text/plain": [
              "[('bbox', <HDF5 dataset \"bbox\": shape (33402, 1), type \"|O\">),\n",
              " ('name', <HDF5 dataset \"name\": shape (33402, 1), type \"|O\">)]"
            ]
          },
          "metadata": {
            "tags": []
          },
          "execution_count": 12
        }
      ]
    },
    {
      "cell_type": "markdown",
      "metadata": {
        "id": "d8XtP2ZZHX76",
        "colab_type": "text"
      },
      "source": [
        "Basically this means that there are 33402 file names and each of these files has a corr bbox struct which contains info about the images\n",
        "\n"
      ]
    },
    {
      "cell_type": "code",
      "metadata": {
        "id": "Z8vx04dPG8yI",
        "colab_type": "code",
        "outputId": "ff4eb900-48c2-4d67-bb45-80a0eff33cf9",
        "colab": {
          "base_uri": "https://localhost:8080/",
          "height": 34
        }
      },
      "source": [
        "list(train_dataset['digitStruct'].items())[0][1][0][0]"
      ],
      "execution_count": 0,
      "outputs": [
        {
          "output_type": "execute_result",
          "data": {
            "text/plain": [
              "<HDF5 object reference>"
            ]
          },
          "metadata": {
            "tags": []
          },
          "execution_count": 13
        }
      ]
    },
    {
      "cell_type": "markdown",
      "metadata": {
        "id": "N4wEXK9IKuNH",
        "colab_type": "text"
      },
      "source": [
        "This code block basically transorms all the .mat stuff into python dicts and obj. Basically it does everything Hannah explained"
      ]
    },
    {
      "cell_type": "code",
      "metadata": {
        "id": "ls3qaworIdP0",
        "colab_type": "code",
        "colab": {}
      },
      "source": [
        "# The DigitStructFile is just a wrapper around the h5py data.  It basically references \n",
        "#    inf:              The input h5 matlab file\n",
        "#    digitStructName   The h5 ref to all the file names\n",
        "#    digitStructBbox   The h5 ref to all struc data\n",
        "class DigitStructFile:\n",
        "    def __init__(self, inf):\n",
        "        self.inf = h5py.File(inf, 'r')\n",
        "        self.digitStructName = self.inf['digitStruct']['name']\n",
        "        self.digitStructBbox = self.inf['digitStruct']['bbox']\n",
        "\n",
        "# getName returns the 'name' string for for the n(th) digitStruct. \n",
        "    def getName(self,n):\n",
        "        return ''.join([chr(c[0]) for c in self.inf[self.digitStructName[n][0]].value])\n",
        "\n",
        "# bboxHelper handles the coding difference when there is exactly one bbox or an array of bbox. \n",
        "    def bboxHelper(self,attr):\n",
        "        if (len(attr) > 1):\n",
        "            attr = [self.inf[attr.value[j].item()].value[0][0] for j in range(len(attr))]\n",
        "        else:\n",
        "            attr = [attr.value[0][0]]\n",
        "        return attr\n",
        "\n",
        "# getBbox returns a dict of data for the n(th) bbox. \n",
        "    def getBbox(self,n):\n",
        "        bbox = {}\n",
        "        bb = self.digitStructBbox[n].item()\n",
        "        bbox['height'] = self.bboxHelper(self.inf[bb][\"height\"])\n",
        "        bbox['label'] = self.bboxHelper(self.inf[bb][\"label\"])\n",
        "        bbox['left'] = self.bboxHelper(self.inf[bb][\"left\"])\n",
        "        bbox['top'] = self.bboxHelper(self.inf[bb][\"top\"])\n",
        "        bbox['width'] = self.bboxHelper(self.inf[bb][\"width\"])\n",
        "        return bbox\n",
        "\n",
        "    def getDigitStructure(self,n):\n",
        "        s = self.getBbox(n)\n",
        "        s['name']=self.getName(n)\n",
        "        return s\n",
        "\n",
        "# getAllDigitStructure returns all the digitStruct from the input file.     \n",
        "    def getAllDigitStructure(self):\n",
        "        return [self.getDigitStructure(i) for i in range(len(self.digitStructName))]\n",
        "\n",
        "# Return a restructured version of the dataset (one structure by boxed digit).\n",
        "#\n",
        "#   Return a list of such dicts :\n",
        "#      'filename' : filename of the samples\n",
        "#      'boxes' : list of such dicts (one by digit) :\n",
        "#          'label' : 1 to 9 corresponding digits. 10 for digit '0' in image.\n",
        "#          'left', 'top' : position of bounding box\n",
        "#          'width', 'height' : dimension of bounding box\n",
        "#\n",
        "# Note: We may turn this to a generator, if memory issues arise.\n",
        "    def getAllDigitStructure_ByDigit(self):\n",
        "        pictDat = self.getAllDigitStructure()\n",
        "        result = []\n",
        "        structCnt = 1\n",
        "        for i in range(len(pictDat)):\n",
        "            item = { 'filename' : pictDat[i][\"name\"] }\n",
        "            figures = []\n",
        "            for j in range(len(pictDat[i]['height'])):\n",
        "                figure = {}\n",
        "                figure['height'] = pictDat[i]['height'][j]\n",
        "                figure['label']  = pictDat[i]['label'][j]\n",
        "                figure['left']   = pictDat[i]['left'][j]\n",
        "                figure['top']    = pictDat[i]['top'][j]\n",
        "                figure['width']  = pictDat[i]['width'][j]\n",
        "                figures.append(figure)\n",
        "            structCnt = structCnt + 1\n",
        "            item['boxes'] = figures\n",
        "            result.append(item)\n",
        "        return result"
      ],
      "execution_count": 0,
      "outputs": []
    },
    {
      "cell_type": "code",
      "metadata": {
        "id": "hNTfHx-UIfi9",
        "colab_type": "code",
        "colab": {}
      },
      "source": [
        "train = DigitStructFile(train_folders)\n",
        "train_data = train.getAllDigitStructure_ByDigit()\n",
        "\n",
        "\n",
        "test = DigitStructFile(test_folders)\n",
        "test_data = test.getAllDigitStructure_ByDigit()"
      ],
      "execution_count": 0,
      "outputs": []
    },
    {
      "cell_type": "code",
      "metadata": {
        "id": "uOMZkG7oI0_j",
        "colab_type": "code",
        "outputId": "be92263b-3f11-4afe-fc7b-5508c7779168",
        "colab": {
          "base_uri": "https://localhost:8080/",
          "height": 125
        }
      },
      "source": [
        "print (\"Len of train data:\", len(train_data))\n",
        "print (\"Len of test data:\", len(test_data))\n",
        "\n",
        "\n",
        "print (train_data[0])\n",
        "\n",
        "print (train_data[1])\n",
        "\n",
        "print (test_data[13])"
      ],
      "execution_count": 0,
      "outputs": [
        {
          "output_type": "stream",
          "text": [
            "Len of train data: 33402\n",
            "Len of test data: 13068\n",
            "{'filename': '1.png', 'boxes': [{'height': 219.0, 'label': 1.0, 'left': 246.0, 'top': 77.0, 'width': 81.0}, {'height': 219.0, 'label': 9.0, 'left': 323.0, 'top': 81.0, 'width': 96.0}]}\n",
            "{'filename': '2.png', 'boxes': [{'height': 32.0, 'label': 2.0, 'left': 77.0, 'top': 29.0, 'width': 23.0}, {'height': 32.0, 'label': 3.0, 'left': 98.0, 'top': 25.0, 'width': 26.0}]}\n",
            "{'filename': '14.png', 'boxes': [{'height': 24.0, 'label': 2.0, 'left': 64.0, 'top': 27.0, 'width': 13.0}, {'height': 24.0, 'label': 5.0, 'left': 80.0, 'top': 23.0, 'width': 13.0}]}\n"
          ],
          "name": "stdout"
        }
      ]
    },
    {
      "cell_type": "markdown",
      "metadata": {
        "id": "yOhnvWLdLN42",
        "colab_type": "text"
      },
      "source": [
        "Basically `train` contains info about file_name the bounding boxes and the labels of the images. But where are the indv pixel values\n",
        "\n",
        "Structure:\n",
        "\n",
        "```\n",
        "{'filename': '1.png',\n",
        "'boxes', [..label of each indv digit and its bounding box coords ]\n",
        "```"
      ]
    },
    {
      "cell_type": "code",
      "metadata": {
        "id": "COX6kWQ0LacO",
        "colab_type": "code",
        "colab": {}
      },
      "source": [
        "# save digitStruct information into a pickle\n",
        "pickle_file = 'multi_bbox_info.pickle'\n",
        "\n",
        "try:\n",
        "    f = open(pickle_file, 'wb')\n",
        "    save = {\n",
        "    'train_data': train_data,\n",
        "    'test_data': test_data,\n",
        "    }\n",
        "    pickle.dump(save, f, pickle.HIGHEST_PROTOCOL)\n",
        "    f.close()\n",
        "except Exception as e:\n",
        "    print('Unable to save data to', pickle_file, ':', e)\n",
        "    raise"
      ],
      "execution_count": 0,
      "outputs": []
    },
    {
      "cell_type": "code",
      "metadata": {
        "id": "BZuV-YYAMd4t",
        "colab_type": "code",
        "outputId": "3cb245e3-b94f-4d76-98a5-5a8025210313",
        "colab": {
          "base_uri": "https://localhost:8080/",
          "height": 125
        }
      },
      "source": [
        "pickle_file = 'multi_bbox_info.pickle'\n",
        "\n",
        "with open(pickle_file, 'rb') as f:\n",
        "    save = pickle.load(f)\n",
        "    train_data = save['train_data']\n",
        "    test_data = save['test_data']\n",
        "    del save\n",
        "    print('Training set', len(train_data))\n",
        "    print('Test set', len(test_data))\n",
        "    print (train_data[0])\n",
        "\n",
        "    print (train_data[1])\n",
        "\n",
        "    print (test_data[13])"
      ],
      "execution_count": 0,
      "outputs": [
        {
          "output_type": "stream",
          "text": [
            "Training set 33402\n",
            "Test set 13068\n",
            "{'filename': '1.png', 'boxes': [{'height': 219.0, 'label': 1.0, 'left': 246.0, 'top': 77.0, 'width': 81.0}, {'height': 219.0, 'label': 9.0, 'left': 323.0, 'top': 81.0, 'width': 96.0}]}\n",
            "{'filename': '2.png', 'boxes': [{'height': 32.0, 'label': 2.0, 'left': 77.0, 'top': 29.0, 'width': 23.0}, {'height': 32.0, 'label': 3.0, 'left': 98.0, 'top': 25.0, 'width': 26.0}]}\n",
            "{'filename': '14.png', 'boxes': [{'height': 24.0, 'label': 2.0, 'left': 64.0, 'top': 27.0, 'width': 13.0}, {'height': 24.0, 'label': 5.0, 'left': 80.0, 'top': 23.0, 'width': 13.0}]}\n"
          ],
          "name": "stdout"
        }
      ]
    },
    {
      "cell_type": "markdown",
      "metadata": {
        "id": "moVcNovEMtgt",
        "colab_type": "text"
      },
      "source": [
        "### Generate dataset\n",
        "\n",
        "crop images and save them to numpy ndarray"
      ]
    },
    {
      "cell_type": "code",
      "metadata": {
        "id": "2BvdDGEGRb5Z",
        "colab_type": "code",
        "outputId": "1907bcab-f9c2-4d5f-bee9-76451423341a",
        "colab": {
          "base_uri": "https://localhost:8080/",
          "height": 194
        }
      },
      "source": [
        "np.ones(shape=(10, 6), dtype='int')*10"
      ],
      "execution_count": 0,
      "outputs": [
        {
          "output_type": "execute_result",
          "data": {
            "text/plain": [
              "array([[10, 10, 10, 10, 10, 10],\n",
              "       [10, 10, 10, 10, 10, 10],\n",
              "       [10, 10, 10, 10, 10, 10],\n",
              "       [10, 10, 10, 10, 10, 10],\n",
              "       [10, 10, 10, 10, 10, 10],\n",
              "       [10, 10, 10, 10, 10, 10],\n",
              "       [10, 10, 10, 10, 10, 10],\n",
              "       [10, 10, 10, 10, 10, 10],\n",
              "       [10, 10, 10, 10, 10, 10],\n",
              "       [10, 10, 10, 10, 10, 10]])"
            ]
          },
          "metadata": {
            "tags": []
          },
          "execution_count": 68
        }
      ]
    },
    {
      "cell_type": "code",
      "metadata": {
        "id": "0nuwNM-8MoNo",
        "colab_type": "code",
        "colab": {}
      },
      "source": [
        "class Dataset:\n",
        "  \"\"\"crop images and save them to numpy ndarray\"\"\"\n",
        "  \n",
        "  # digitStruct is train_data\n",
        "  \n",
        "  def __init__(self, digitStruct, folder):\n",
        "    self.digitStruct = digitStruct\n",
        "    self.folder = folder\n",
        "    \n",
        "  def setDataset(self):\n",
        "    # set the data (images) as proper \n",
        "    # len(self.digitStruct) is 33402\n",
        "    # basically initializing dataset as 33402x64x64\n",
        "    self.dataset = np.ndarray(shape=(len(self.digitStruct), 64, 64), dtype='float32')\n",
        "    \n",
        "    #set the labels\n",
        "    \n",
        "    # 1 length + 5 labels, 10 represents none\n",
        "    \n",
        "    self.labels = np.ones(shape=(len(self.digitStruct), 6), dtype='int')*10\n",
        "    \n",
        "  def getDataset(self):\n",
        "    # initialize the data structures\n",
        "    self.setDataset()\n",
        "    \n",
        "    # for each train file\n",
        "    for i in range(len(self.digitStruct)):\n",
        "      # get file_name for the img\n",
        "      fin = os.path.join(self.folder, self.digitStruct[i]['filename'])\n",
        "      \n",
        "      # open the file\n",
        "      im = Image.open(fin)\n",
        "      \n",
        "      # get the 'boxes'  key\n",
        "      \n",
        "      boxes = self.digitStruct[i]['boxes']\n",
        "      \n",
        "      # check for >5 digits\n",
        "      if len(boxes) > 5:\n",
        "        print(fin, \"has more than 5 digits\")\n",
        "      else:\n",
        "        # first index of labels contains number of digits and that is the len of 'boxes'\n",
        "        self.labels[i, 0] = len(boxes)\n",
        "        # set the labels for each digit in this file\n",
        "        self.labels[i, 1: len(boxes)+1] = [int(box['label']) for box in boxes]\n",
        "        \n",
        "      # set the L,T,W,H params foreach digit in this file\n",
        "      left = [box['left'] for box in boxes]\n",
        "      top = [box['top'] for box in boxes]\n",
        "      height = [box['height'] for box in boxes]\n",
        "      width = [box['width'] for box in boxes]\n",
        "      \n",
        "      \n",
        "      # get the new expanded bounding boxes over the ENTIRE MULTI DIGIT IMAGE\n",
        "      box = self.im_box(im, left, top, height, width)\n",
        "      \n",
        "      size = (64,64)\n",
        "      \n",
        "      # crop acc to the new bounding box and resize to the desired shape for training the CNN\n",
        "      region = im.crop(box).resize(size)\n",
        "      # normalize the 64x64 img\n",
        "      region = self.normalization(region)\n",
        "      \n",
        "      # replace the original img with this pre-processed 64x64 img\n",
        "      \n",
        "      self.dataset[i, :, :] = region[:,:]\n",
        "      \n",
        "    print('dataset:',self.dataset.shape)\n",
        "    print('labels:',self.labels.shape)\n",
        "    return self.dataset, self.labels\n",
        "      \n",
        "      \n",
        "      \n",
        "      \n",
        "  def im_box(self, im, left, top, height, width):\n",
        "    \n",
        "    im_left = min(left) # get leftmost line\n",
        "    im_top = min(top) # topmost line\n",
        "    \n",
        "    im_height = max(top) + max(height) - im_top # max(ht) + ( max(top) - min(top) )\n",
        "    im_width = max(left) + max(width) - im_left # max(width) + (max(left) - min(left))\n",
        "    \n",
        "    # basically im_height is the ht of tallest digit + some margin\n",
        "    # basically im_width is the width of widest digit + some margin\n",
        "    \n",
        "    # can experiment with 0.05\n",
        "    im_top = im_top - im_height*0.05 # bit higher than topmost line\n",
        "    im_left = im_left - im_width*0.05 # bit more towards the left(wider) than leftmost line  \n",
        "    \n",
        "    # width, height = im.size\n",
        "    \n",
        "    im_bottom = min(im.size[1], im_top + im_height*1.05) # can experiment with 1.05\n",
        "    \n",
        "    # from the topmost line go down to ht and a bit more\n",
        "    # get the min out of that or the image ht\n",
        "    \n",
        "    im_right = min(im.size[0], im_left + im_width*1.05)\n",
        "    \n",
        "    # from the leftmost line go right to width and a bit more\n",
        "    # get the min out of that or the image width\n",
        "    \n",
        "    # (im_left, im_top, im_right, im_bottom) are the coords of the \n",
        "    # new expanded bounding boxes over the ENTIRE MULTI DIGIT IMAGE\n",
        "    \n",
        "    return (im_left, im_top, im_right, im_bottom)\n",
        "    \n",
        "  def normalization(self, img):\n",
        "    im = self.rgb2gray(img) # RGB to greyscale\n",
        "    mean = np.mean(im, dtype='float32')\n",
        "    std = np.std(im, dtype='float32', ddof=1)\n",
        "    return (im - mean) / std  \n",
        "  \n",
        "  def rgb2gray(self, img):\n",
        "    # L = R * 299/1000 + G * 587/1000 + B * 114/1000\n",
        "    return np.dot(np.array(img), [0.299, 0.587, 0.114])\n",
        "        \n",
        "      \n",
        "      "
      ],
      "execution_count": 0,
      "outputs": []
    },
    {
      "cell_type": "markdown",
      "metadata": {
        "id": "aSuB4z5EsD2x",
        "colab_type": "text"
      },
      "source": [
        "### train dataset"
      ]
    },
    {
      "cell_type": "code",
      "metadata": {
        "id": "2dpjR_F7sFCR",
        "colab_type": "code",
        "outputId": "465554ac-8e6e-41e5-bd12-cd74498b580b",
        "colab": {
          "base_uri": "https://localhost:8080/",
          "height": 70
        }
      },
      "source": [
        "train_dataset = Dataset(train_data, 'train')\n",
        "\n",
        "train_dataset, train_labels = train_dataset.getDataset()"
      ],
      "execution_count": 0,
      "outputs": [
        {
          "output_type": "stream",
          "text": [
            "train/29930.png has more than 5 digits\n",
            "dataset: (33402, 64, 64)\n",
            "labels: (33402, 6)\n"
          ],
          "name": "stdout"
        }
      ]
    },
    {
      "cell_type": "code",
      "metadata": {
        "id": "dnB1cAFwsnXQ",
        "colab_type": "code",
        "outputId": "6356b828-bea0-4129-f946-4ff805453999",
        "colab": {
          "base_uri": "https://localhost:8080/",
          "height": 87
        }
      },
      "source": [
        "print (\"Len of train set:\", len(train_dataset))\n",
        "print(train_dataset[0].shape)\n",
        "print (train_labels[0])\n",
        "print (train_labels[0].shape)"
      ],
      "execution_count": 0,
      "outputs": [
        {
          "output_type": "stream",
          "text": [
            "Len of train set: 33402\n",
            "(64, 64)\n",
            "[ 2  1  9 10 10 10]\n",
            "(6,)\n"
          ],
          "name": "stdout"
        }
      ]
    },
    {
      "cell_type": "code",
      "metadata": {
        "id": "t7XFGKMzDgba",
        "colab_type": "code",
        "outputId": "b32ca8d9-6918-4bdd-a268-1b1d62151cbb",
        "colab": {
          "base_uri": "https://localhost:8080/",
          "height": 34
        }
      },
      "source": [
        "print (train_labels[29929])"
      ],
      "execution_count": 0,
      "outputs": [
        {
          "output_type": "stream",
          "text": [
            "[10 10 10 10 10 10]\n"
          ],
          "name": "stdout"
        }
      ]
    },
    {
      "cell_type": "code",
      "metadata": {
        "id": "nyP7cC_tCF_5",
        "colab_type": "code",
        "outputId": "d2b2ebb9-d58e-4db9-fd53-d32d06b822b8",
        "colab": {
          "base_uri": "https://localhost:8080/",
          "height": 268
        }
      },
      "source": [
        "plt.imshow(train_dataset[29929,:,:], cmap='gray');"
      ],
      "execution_count": 0,
      "outputs": [
        {
          "output_type": "display_data",
          "data": {
            "image/png": "[encoded data removed]",
            "text/plain": [
              "<Figure size 432x288 with 1 Axes>"
            ]
          },
          "metadata": {
            "tags": []
          }
        }
      ]
    },
    {
      "cell_type": "markdown",
      "metadata": {
        "id": "2NuGS2-yDp_z",
        "colab_type": "text"
      },
      "source": [
        "Delete this image"
      ]
    },
    {
      "cell_type": "code",
      "metadata": {
        "id": "CI5prbdSDrtS",
        "colab_type": "code",
        "colab": {}
      },
      "source": [
        "train_dataset = np.delete(train_dataset, 29929, axis=0)\n",
        "train_labels = np.delete(train_labels, 29929, axis=0)"
      ],
      "execution_count": 0,
      "outputs": []
    },
    {
      "cell_type": "code",
      "metadata": {
        "id": "0NX0KHdiDsdE",
        "colab_type": "code",
        "outputId": "01c9cbdf-a97f-4573-8cde-a0951da332c3",
        "colab": {
          "base_uri": "https://localhost:8080/",
          "height": 52
        }
      },
      "source": [
        "print(train_dataset.shape)\n",
        "print(train_labels.shape)\n"
      ],
      "execution_count": 0,
      "outputs": [
        {
          "output_type": "stream",
          "text": [
            "(33401, 64, 64)\n",
            "(33401, 6)\n"
          ],
          "name": "stdout"
        }
      ]
    },
    {
      "cell_type": "markdown",
      "metadata": {
        "id": "2GdHKFI2DwEU",
        "colab_type": "text"
      },
      "source": [
        "### Test data"
      ]
    },
    {
      "cell_type": "code",
      "metadata": {
        "id": "5EyiH_GvDxBk",
        "colab_type": "code",
        "outputId": "326e70e4-8ff0-422e-df85-da02ba444f31",
        "colab": {
          "base_uri": "https://localhost:8080/",
          "height": 52
        }
      },
      "source": [
        "test_dataset = Dataset(test_data, 'test')\n",
        "test_dataset, test_labels = test_dataset.getDataset()"
      ],
      "execution_count": 0,
      "outputs": [
        {
          "output_type": "stream",
          "text": [
            "dataset: (13068, 64, 64)\n",
            "labels: (13068, 6)\n"
          ],
          "name": "stdout"
        }
      ]
    },
    {
      "cell_type": "markdown",
      "metadata": {
        "id": "ilo4kQmPET40",
        "colab_type": "text"
      },
      "source": [
        "### Creating a validation dataset"
      ]
    },
    {
      "cell_type": "code",
      "metadata": {
        "id": "a9W3Yp34E5qr",
        "colab_type": "code",
        "outputId": "8816cb49-0f27-4122-87de-f35608eafe82",
        "colab": {
          "base_uri": "https://localhost:8080/",
          "height": 34
        }
      },
      "source": [
        "np.random.seed(1234)\n",
        "np.random.permutation(10)"
      ],
      "execution_count": 0,
      "outputs": [
        {
          "output_type": "execute_result",
          "data": {
            "text/plain": [
              "array([7, 2, 9, 1, 0, 8, 4, 5, 6, 3])"
            ]
          },
          "metadata": {
            "tags": []
          },
          "execution_count": 53
        }
      ]
    },
    {
      "cell_type": "markdown",
      "metadata": {
        "id": "yNtbCdwrGSRN",
        "colab_type": "text"
      },
      "source": [
        "#### Shuffle the dataset"
      ]
    },
    {
      "cell_type": "code",
      "metadata": {
        "id": "A9OobTmUDxbm",
        "colab_type": "code",
        "outputId": "6e8ee6ad-8ad5-4562-f616-479574f6cf8b",
        "colab": {
          "base_uri": "https://localhost:8080/",
          "height": 52
        }
      },
      "source": [
        "def randomize(dataset, labels):\n",
        "  np.random.seed(1234)\n",
        "  permutation = np.random.permutation(labels.shape[0])\n",
        "  shuffled_dataset = dataset[permutation,:,:]\n",
        "  shuffled_labels = labels[permutation]\n",
        "  return shuffled_dataset, shuffled_labels\n",
        "\n",
        "train_dataset, train_labels = randomize(train_dataset, train_labels)\n",
        "test_dataset, test_labels = randomize(test_dataset, test_labels)\n",
        "\n",
        "print (train_dataset.shape, train_labels.shape)\n",
        "print (test_dataset.shape, test_labels.shape)"
      ],
      "execution_count": 0,
      "outputs": [
        {
          "output_type": "stream",
          "text": [
            "(33401, 64, 64) (33401, 6)\n",
            "(13068, 64, 64) (13068, 6)\n"
          ],
          "name": "stdout"
        }
      ]
    },
    {
      "cell_type": "code",
      "metadata": {
        "id": "IThKIYQ0GYYi",
        "colab_type": "code",
        "outputId": "c7777d43-e332-4511-b8e7-07630f5a2ade",
        "colab": {
          "base_uri": "https://localhost:8080/",
          "height": 70
        }
      },
      "source": [
        "train_portion = 6000\n",
        "valid_dataset = train_dataset[:train_portion,:,:]\n",
        "valid_labels = train_labels[:train_portion]\n",
        "train_dataset = train_dataset[train_portion:,:,:]\n",
        "train_labels = train_labels[train_portion:]\n",
        "                             \n",
        "print(train_dataset.shape, train_labels.shape)\n",
        "print(test_dataset.shape, test_labels.shape)\n",
        "print(valid_dataset.shape, valid_labels.shape)"
      ],
      "execution_count": 0,
      "outputs": [
        {
          "output_type": "stream",
          "text": [
            "(27401, 64, 64) (27401, 6)\n",
            "(13068, 64, 64) (13068, 6)\n",
            "(6000, 64, 64) (6000, 6)\n"
          ],
          "name": "stdout"
        }
      ]
    },
    {
      "cell_type": "code",
      "metadata": {
        "id": "I2JrauBbGauK",
        "colab_type": "code",
        "outputId": "541db7ff-5eba-4ace-be05-b00bdd2de3b0",
        "colab": {
          "base_uri": "https://localhost:8080/",
          "height": 310
        }
      },
      "source": [
        "def disp_sample_dataset(dataset, label):\n",
        "    items = random.sample(range(dataset.shape[0]), 8)\n",
        "    for i, item in enumerate(items):\n",
        "        plt.subplot(2, 4, i+1)\n",
        "        plt.axis('off')\n",
        "        plt.title(label[i][1:5])\n",
        "        plt.imshow(dataset[i,:,:], cmap='gray')\n",
        "disp_sample_dataset(train_dataset, train_labels)\n"
      ],
      "execution_count": 0,
      "outputs": [
        {
          "output_type": "stream",
          "text": [
            "/usr/local/lib/python3.6/dist-packages/matplotlib/text.py:1191: FutureWarning: elementwise comparison failed; returning scalar instead, but in the future will perform elementwise comparison\n",
            "  if s != self._text:\n"
          ],
          "name": "stderr"
        },
        {
          "output_type": "display_data",
          "data": {
            "image/png": "[encoded data removed]",
            "text/plain": [
              "<Figure size 432x288 with 8 Axes>"
            ]
          },
          "metadata": {
            "tags": []
          }
        }
      ]
    },
    {
      "cell_type": "code",
      "metadata": {
        "id": "QtK9lE4tKnvi",
        "colab_type": "code",
        "outputId": "de7f9b5a-9951-4cad-ebd4-a6b5deea344f",
        "colab": {
          "base_uri": "https://localhost:8080/",
          "height": 310
        }
      },
      "source": [
        "disp_sample_dataset(test_dataset, test_labels)\n"
      ],
      "execution_count": 0,
      "outputs": [
        {
          "output_type": "stream",
          "text": [
            "/usr/local/lib/python3.6/dist-packages/matplotlib/text.py:1191: FutureWarning: elementwise comparison failed; returning scalar instead, but in the future will perform elementwise comparison\n",
            "  if s != self._text:\n"
          ],
          "name": "stderr"
        },
        {
          "output_type": "display_data",
          "data": {
            "image/png": "[encoded data removed]",
            "text/plain": [
              "<Figure size 432x288 with 8 Axes>"
            ]
          },
          "metadata": {
            "tags": []
          }
        }
      ]
    },
    {
      "cell_type": "code",
      "metadata": {
        "id": "7EwSVeNhKrN7",
        "colab_type": "code",
        "outputId": "38a95022-d714-4e58-91cc-13e63fc19755",
        "colab": {
          "base_uri": "https://localhost:8080/",
          "height": 310
        }
      },
      "source": [
        "disp_sample_dataset(valid_dataset, valid_labels)\n"
      ],
      "execution_count": 0,
      "outputs": [
        {
          "output_type": "stream",
          "text": [
            "/usr/local/lib/python3.6/dist-packages/matplotlib/text.py:1191: FutureWarning: elementwise comparison failed; returning scalar instead, but in the future will perform elementwise comparison\n",
            "  if s != self._text:\n"
          ],
          "name": "stderr"
        },
        {
          "output_type": "display_data",
          "data": {
            "image/png": "[encoded data removed]",
            "text/plain": [
              "<Figure size 432x288 with 8 Axes>"
            ]
          },
          "metadata": {
            "tags": []
          }
        }
      ]
    },
    {
      "cell_type": "markdown",
      "metadata": {
        "id": "nvS_e84lKveq",
        "colab_type": "text"
      },
      "source": [
        "### Save dataset"
      ]
    },
    {
      "cell_type": "code",
      "metadata": {
        "id": "bYz-8smkKwrL",
        "colab_type": "code",
        "outputId": "36eb55d1-bd7a-4941-ae4d-0a4d932d2052",
        "colab": {
          "base_uri": "https://localhost:8080/",
          "height": 34
        }
      },
      "source": [
        "pickle_file = 'SVHN_multi_crop.pickle'\n",
        "\n",
        "try:\n",
        "    f = open(pickle_file, 'wb')\n",
        "    save = {\n",
        "    'train_dataset': train_dataset,\n",
        "    'train_labels': train_labels,\n",
        "    'valid_dataset': valid_dataset,\n",
        "    'valid_labels': valid_labels,\n",
        "    'test_dataset': test_dataset,\n",
        "    'test_labels': test_labels,\n",
        "    }\n",
        "    pickle.dump(save, f, pickle.HIGHEST_PROTOCOL)\n",
        "    f.close()\n",
        "    print(\"Done\")\n",
        "except Exception as e:\n",
        "    print('Unable to save data to', pickle_file, ':', e)\n",
        "    raise"
      ],
      "execution_count": 0,
      "outputs": [
        {
          "output_type": "stream",
          "text": [
            "Done\n"
          ],
          "name": "stdout"
        }
      ]
    },
    {
      "cell_type": "markdown",
      "metadata": {
        "id": "eFMOkq9Oz9Gl",
        "colab_type": "text"
      },
      "source": [
        "## REPRODUCIBILTY: Run From Here\n",
        "\n",
        "Make sure you download the `SVHN_multi_crop.pickle` from [here](https://drive.google.com/open?id=1LucH2BJJvs9ULOMzXagrIqOwnBey5HTC)\n",
        "\n",
        "#### Import the libraries"
      ]
    },
    {
      "cell_type": "code",
      "metadata": {
        "id": "XJIV8KSV3OwR",
        "colab_type": "code",
        "colab": {
          "base_uri": "https://localhost:8080/",
          "height": 52
        },
        "outputId": "43344768-7bea-4f4d-b76d-400e9a94e34c"
      },
      "source": [
        "# Execute this code block to install dependencies when running on colab\n",
        "try:\n",
        "    import torch\n",
        "except:\n",
        "    from os.path import exists\n",
        "    from wheel.pep425tags import get_abbr_impl, get_impl_ver, get_abi_tag\n",
        "    platform = '{}{}-{}'.format(get_abbr_impl(), get_impl_ver(), get_abi_tag())\n",
        "    cuda_output = !ldconfig -p|grep cudart.so|sed -e 's/.*\\.\\([0-9]*\\)\\.\\([0-9]*\\)$/cu\\1\\2/'\n",
        "    accelerator = cuda_output[0] if exists('/dev/nvidia0') else 'cpu'\n",
        "\n",
        "    !pip install -q http://download.pytorch.org/whl/{accelerator}/torch-1.0.0-{platform}-linux_x86_64.whl torchvision\n",
        "\n",
        "try: \n",
        "    import torchbearer\n",
        "except:\n",
        "    !pip install torchbearer\n",
        "    \n",
        "# automatically reload external modules if they change\n",
        "%load_ext autoreload\n",
        "%autoreload 2\n",
        "\n",
        "import torch\n",
        "import torch.nn.functional as F\n",
        "import torchvision.transforms as transforms\n",
        "import torchbearer\n",
        "from torch import nn\n",
        "from torch import optim\n",
        "from torchvision.datasets import MNIST\n",
        "from torchvision.datasets import SVHN\n",
        "from torchbearer import Trial\n",
        "import matplotlib.pyplot as plt\n",
        "from torch.utils.data import DataLoader, Dataset\n",
        "import torchvision\n",
        "from torchvision import transforms\n",
        "\n",
        "\n",
        "from __future__ import print_function\n",
        "import numpy as np\n",
        "from six.moves import cPickle as pickle\n",
        "\n",
        "\n",
        "%matplotlib inline"
      ],
      "execution_count": 61,
      "outputs": [
        {
          "output_type": "stream",
          "text": [
            "The autoreload extension is already loaded. To reload it, use:\n",
            "  %reload_ext autoreload\n"
          ],
          "name": "stdout"
        }
      ]
    },
    {
      "cell_type": "code",
      "metadata": {
        "id": "3veejpzbK2DW",
        "colab_type": "code",
        "outputId": "dfe2a6ac-4e2f-4b83-c7ad-0de878dc1fbc",
        "colab": {
          "base_uri": "https://localhost:8080/",
          "height": 70
        }
      },
      "source": [
        "pickle_file = 'SVHN_multi_crop.pickle'\n",
        "\n",
        "with open(pickle_file, 'rb') as f:\n",
        "    save = pickle.load(f)\n",
        "    train_dataset = save['train_dataset']\n",
        "    train_labels = save['train_labels']\n",
        "    valid_dataset = save['valid_dataset']\n",
        "    valid_labels = save['valid_labels']\n",
        "    test_dataset = save['test_dataset']\n",
        "    test_labels = save['test_labels']\n",
        "    # del save  # hint to help gc free up memory\n",
        "    print('Training set', train_dataset.shape, train_labels.shape)\n",
        "    print('Validation set', valid_dataset.shape, valid_labels.shape)\n",
        "    print('Test set', test_dataset.shape, test_labels.shape)"
      ],
      "execution_count": 6,
      "outputs": [
        {
          "output_type": "stream",
          "text": [
            "Training set (27401, 64, 64) (27401, 6)\n",
            "Validation set (6000, 64, 64) (6000, 6)\n",
            "Test set (13068, 64, 64) (13068, 6)\n"
          ],
          "name": "stdout"
        }
      ]
    },
    {
      "cell_type": "code",
      "metadata": {
        "id": "eWTm45IVbEkd",
        "colab_type": "code",
        "outputId": "53ca062d-7a53-4113-8263-794bcec31cad",
        "colab": {
          "base_uri": "https://localhost:8080/",
          "height": 70
        }
      },
      "source": [
        "print (\"Train dataset info: {} images of size {}x{}\".format(train_dataset.shape[0], train_dataset.shape[1], train_dataset.shape[2]))\n",
        "\n",
        "print (\"Test dataset info: {} images of size {}x{}\".format(test_dataset.shape[0], test_dataset.shape[1], test_dataset.shape[2]))\n",
        "\n",
        "print (\"Valid dataset info: {} images of size {}x{}\".format(valid_dataset.shape[0], valid_dataset.shape[1], valid_dataset.shape[2]))"
      ],
      "execution_count": 7,
      "outputs": [
        {
          "output_type": "stream",
          "text": [
            "Train dataset info: 27401 images of size 64x64\n",
            "Test dataset info: 13068 images of size 64x64\n",
            "Valid dataset info: 6000 images of size 64x64\n"
          ],
          "name": "stdout"
        }
      ]
    },
    {
      "cell_type": "markdown",
      "metadata": {
        "id": "vZeiiyn8cQH2",
        "colab_type": "text"
      },
      "source": [
        "[number_of_digits, 1st digit, 2nd, 3rd, 4th 5th]"
      ]
    },
    {
      "cell_type": "code",
      "metadata": {
        "id": "0EMrJuJkIPLs",
        "colab_type": "code",
        "colab": {
          "base_uri": "https://localhost:8080/",
          "height": 34
        },
        "outputId": "929f72f0-fc1b-4d49-f63e-5ba42f3e863e"
      },
      "source": [
        "train_labels[0]"
      ],
      "execution_count": 15,
      "outputs": [
        {
          "output_type": "execute_result",
          "data": {
            "text/plain": [
              "array([ 2,  3,  2, 10, 10, 10])"
            ]
          },
          "metadata": {
            "tags": []
          },
          "execution_count": 15
        }
      ]
    },
    {
      "cell_type": "markdown",
      "metadata": {
        "id": "E04KBOM8u8Zr",
        "colab_type": "text"
      },
      "source": [
        "### Creating DataLoaders"
      ]
    },
    {
      "cell_type": "code",
      "metadata": {
        "id": "Y85TUCLRcG00",
        "colab_type": "code",
        "colab": {}
      },
      "source": [
        "class SVHNImageDataset(Dataset):\n",
        "  def __init__(self, dataset_object, label_object, transform=None):\n",
        "    self.data = dataset_object\n",
        "    self.labels = label_object\n",
        "    self.transform = transform\n",
        "    \n",
        "  def __len__(self):\n",
        "    return self.data.shape[0]\n",
        "  \n",
        "  def __getitem__(self, index):\n",
        "\n",
        "    image = self.data[index]\n",
        "    label = self.labels[index]\n",
        "    \n",
        "    return image,label"
      ],
      "execution_count": 0,
      "outputs": []
    },
    {
      "cell_type": "code",
      "metadata": {
        "id": "4Ks5i-4xInFb",
        "colab_type": "code",
        "colab": {}
      },
      "source": [
        "# create datasets of SVHNImageDataset class\n",
        "\n",
        "train_dataset_new = SVHNImageDataset(train_dataset, train_labels, transform=None)\n",
        "test_dataset_new = SVHNImageDataset(test_dataset, test_labels, transform=None)\n",
        "valid_dataset_new = SVHNImageDataset(valid_dataset, valid_labels, transform=None)"
      ],
      "execution_count": 0,
      "outputs": []
    },
    {
      "cell_type": "code",
      "metadata": {
        "id": "vaRp6Et7I5_Q",
        "colab_type": "code",
        "colab": {
          "base_uri": "https://localhost:8080/",
          "height": 52
        },
        "outputId": "9250253f-eb41-4d90-a7bc-f3074db0ef76"
      },
      "source": [
        "img, label = train_dataset_new.__getitem__(0)\n",
        "\n",
        "print (img.shape, label.shape)\n",
        "\n",
        "print (len(train_dataset_new))"
      ],
      "execution_count": 38,
      "outputs": [
        {
          "output_type": "stream",
          "text": [
            "(64, 64) (6,)\n",
            "27401\n"
          ],
          "name": "stdout"
        }
      ]
    },
    {
      "cell_type": "markdown",
      "metadata": {
        "id": "ayn62EKBvRNj",
        "colab_type": "text"
      },
      "source": [
        "Now we create the DataLoaders"
      ]
    },
    {
      "cell_type": "code",
      "metadata": {
        "id": "cZAOI6amKIpt",
        "colab_type": "code",
        "colab": {}
      },
      "source": [
        "train_loader = DataLoader(train_dataset_new, batch_size=8, shuffle=True)\n",
        "test_loader = DataLoader(test_dataset_new, batch_size=8, shuffle=True)\n",
        "valid_loader = DataLoader(valid_dataset_new, batch_size=8, shuffle=True)\n"
      ],
      "execution_count": 0,
      "outputs": []
    },
    {
      "cell_type": "markdown",
      "metadata": {
        "id": "6cJzcFSjxPDL",
        "colab_type": "text"
      },
      "source": [
        "Making sure that the data and the labels are of class: `Tensor` and everything is of correct shape"
      ]
    },
    {
      "cell_type": "code",
      "metadata": {
        "id": "7MMsQ_qWxGEM",
        "colab_type": "code",
        "colab": {
          "base_uri": "https://localhost:8080/",
          "height": 123
        },
        "outputId": "bf83a8b6-50f6-4287-f02b-464e03360b58"
      },
      "source": [
        "for i, (data, label) in enumerate(train_loader):\n",
        "  print (type(data), type(label))\n",
        "  print (data.shape, label.shape)\n",
        "  break\n",
        "  \n",
        "for i, (data, label) in enumerate(test_loader):\n",
        "  print (type(data), type(label))\n",
        "  print (data.shape, label.shape)\n",
        "  break\n",
        "  \n",
        "for i, (data, label) in enumerate(valid_loader):\n",
        "  print (type(data), type(label))\n",
        "  print (data.shape, label.shape)\n",
        "  break"
      ],
      "execution_count": 52,
      "outputs": [
        {
          "output_type": "stream",
          "text": [
            "<class 'torch.Tensor'> <class 'torch.Tensor'>\n",
            "torch.Size([8, 64, 64]) torch.Size([8, 6])\n",
            "<class 'torch.Tensor'> <class 'torch.Tensor'>\n",
            "torch.Size([8, 64, 64]) torch.Size([8, 6])\n",
            "<class 'torch.Tensor'> <class 'torch.Tensor'>\n",
            "torch.Size([8, 64, 64]) torch.Size([8, 6])\n"
          ],
          "name": "stdout"
        }
      ]
    },
    {
      "cell_type": "markdown",
      "metadata": {
        "id": "Wcv5gTMmxcLU",
        "colab_type": "text"
      },
      "source": [
        "The shape is now `[batch_size, 64, 64]` for the data and `[batch_size, 6]` for the labels\n",
        "\n",
        "Just plotting some of the images and labels from the DataLoaders to make sure everything is OK"
      ]
    },
    {
      "cell_type": "code",
      "metadata": {
        "id": "kkMgpo5JKJDb",
        "colab_type": "code",
        "colab": {
          "base_uri": "https://localhost:8080/",
          "height": 384
        },
        "outputId": "6b3100a9-40e6-41bc-ec50-44e5abf3fdfb"
      },
      "source": [
        "for i, (data, label) in enumerate(train_loader):\n",
        "  first_batch = data\n",
        "  for x in range(first_batch.shape[0]):\n",
        "    plt.subplot(int(str(24)+str(x+1)))\n",
        "    plt.imshow(first_batch[x], cmap=\"gray\")\n",
        "    print (label[x])\n",
        "  break\n",
        "    \n",
        "plt.show()"
      ],
      "execution_count": 57,
      "outputs": [
        {
          "output_type": "stream",
          "text": [
            "tensor([ 2,  2,  7, 10, 10, 10])\n",
            "tensor([ 2,  6,  1, 10, 10, 10])\n",
            "tensor([ 1,  2, 10, 10, 10, 10])\n",
            "tensor([ 2,  1,  2, 10, 10, 10])\n",
            "tensor([ 2,  3,  5, 10, 10, 10])\n",
            "tensor([ 2,  4,  8, 10, 10, 10])\n",
            "tensor([ 3,  1,  3,  6, 10, 10])\n",
            "tensor([ 3,  2,  3,  5, 10, 10])\n"
          ],
          "name": "stdout"
        },
        {
          "output_type": "display_data",
          "data": {
            "image/png": "[encoded data removed]",
            "text/plain": [
              "<Figure size 432x288 with 8 Axes>"
            ]
          },
          "metadata": {
            "tags": []
          }
        }
      ]
    },
    {
      "cell_type": "code",
      "metadata": {
        "id": "MOzeecQ0zluA",
        "colab_type": "code",
        "colab": {
          "base_uri": "https://localhost:8080/",
          "height": 384
        },
        "outputId": "f36f4e88-5b0a-47d2-d7cb-595b250dca74"
      },
      "source": [
        "for i, (data, label) in enumerate(test_loader):\n",
        "  first_batch = data\n",
        "  for x in range(first_batch.shape[0]):\n",
        "    plt.subplot(int(str(24)+str(x+1)))\n",
        "    plt.imshow(first_batch[x], cmap=\"gray\")\n",
        "    print (label[x])\n",
        "  break\n",
        "    \n",
        "plt.show()"
      ],
      "execution_count": 58,
      "outputs": [
        {
          "output_type": "stream",
          "text": [
            "tensor([ 2,  5,  9, 10, 10, 10])\n",
            "tensor([ 2,  3,  6, 10, 10, 10])\n",
            "tensor([ 2,  8,  9, 10, 10, 10])\n",
            "tensor([ 2,  1,  2, 10, 10, 10])\n",
            "tensor([ 2,  5,  1, 10, 10, 10])\n",
            "tensor([ 2,  4,  7, 10, 10, 10])\n",
            "tensor([ 2,  1,  3, 10, 10, 10])\n",
            "tensor([ 3,  3,  1, 10, 10, 10])\n"
          ],
          "name": "stdout"
        },
        {
          "output_type": "display_data",
          "data": {
            "image/png": "[encoded data removed]",
            "text/plain": [
              "<Figure size 432x288 with 8 Axes>"
            ]
          },
          "metadata": {
            "tags": []
          }
        }
      ]
    },
    {
      "cell_type": "code",
      "metadata": {
        "id": "ew_rHf_izpyN",
        "colab_type": "code",
        "colab": {
          "base_uri": "https://localhost:8080/",
          "height": 384
        },
        "outputId": "f60a32ad-3578-4281-c84a-8e7eeee92c0e"
      },
      "source": [
        "for i, (data, label) in enumerate(valid_loader):\n",
        "  first_batch = data\n",
        "  for x in range(first_batch.shape[0]):\n",
        "    plt.subplot(int(str(24)+str(x+1)))\n",
        "    plt.imshow(first_batch[x], cmap=\"gray\")\n",
        "    print (label[x])\n",
        "  break\n",
        "    \n",
        "plt.show()"
      ],
      "execution_count": 59,
      "outputs": [
        {
          "output_type": "stream",
          "text": [
            "tensor([ 2,  1, 10, 10, 10, 10])\n",
            "tensor([ 2,  3,  4, 10, 10, 10])\n",
            "tensor([ 4,  1,  2,  3,  8, 10])\n",
            "tensor([ 3,  3,  3,  2, 10, 10])\n",
            "tensor([ 3,  5, 10,  7, 10, 10])\n",
            "tensor([ 2,  1,  9, 10, 10, 10])\n",
            "tensor([ 2,  6,  8, 10, 10, 10])\n",
            "tensor([ 3,  3,  5,  9, 10, 10])\n"
          ],
          "name": "stdout"
        },
        {
          "output_type": "display_data",
          "data": {
            "image/png": "[encoded data removed]",
            "text/plain": [
              "<Figure size 432x288 with 8 Axes>"
            ]
          },
          "metadata": {
            "tags": []
          }
        }
      ]
    }
  ]
}