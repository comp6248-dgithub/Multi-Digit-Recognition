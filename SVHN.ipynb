{
  "nbformat": 4,
  "nbformat_minor": 0,
  "metadata": {
    "colab": {
      "name": "SVHN.ipynb",
      "version": "0.3.2",
      "provenance": [],
      "collapsed_sections": []
    },
    "kernelspec": {
      "name": "python3",
      "display_name": "Python 3"
    },
    "accelerator": "GPU"
  },
  "cells": [
    {
      "cell_type": "code",
      "metadata": {
        "id": "4QVFj1jjuS4i",
        "colab_type": "code",
        "outputId": "1534311e-2998-4450-ae48-dbeb6dea3e9c",
        "colab": {
          "base_uri": "https://localhost:8080/",
          "height": 277
        }
      },
      "source": [
        "# Execute this code block to install dependencies when running on colab\n",
        "try:\n",
        "    import torch\n",
        "except:\n",
        "    from os.path import exists\n",
        "    from wheel.pep425tags import get_abbr_impl, get_impl_ver, get_abi_tag\n",
        "    platform = '{}{}-{}'.format(get_abbr_impl(), get_impl_ver(), get_abi_tag())\n",
        "    cuda_output = !ldconfig -p|grep cudart.so|sed -e 's/.*\\.\\([0-9]*\\)\\.\\([0-9]*\\)$/cu\\1\\2/'\n",
        "    accelerator = cuda_output[0] if exists('/dev/nvidia0') else 'cpu'\n",
        "\n",
        "    !pip install -q http://download.pytorch.org/whl/{accelerator}/torch-1.0.0-{platform}-linux_x86_64.whl torchvision\n",
        "\n",
        "try: \n",
        "    import torchbearer\n",
        "except:\n",
        "    !pip install torchbearer"
      ],
      "execution_count": 1,
      "outputs": [
        {
          "output_type": "stream",
          "text": [
            "Collecting torchbearer\n",
            "\u001b[?25l  Downloading https://files.pythonhosted.org/packages/5a/62/79c45d98e22e87b44c9b354d1b050526de80ac8a4da777126b7c86c2bb3e/torchbearer-0.3.0.tar.gz (84kB)\n",
            "\r\u001b[K     |████                            | 10kB 22.4MB/s eta 0:00:01\r\u001b[K     |███████▉                        | 20kB 6.5MB/s eta 0:00:01\r\u001b[K     |███████████▊                    | 30kB 9.1MB/s eta 0:00:01\r\u001b[K     |███████████████▋                | 40kB 5.9MB/s eta 0:00:01\r\u001b[K     |███████████████████▌            | 51kB 7.2MB/s eta 0:00:01\r\u001b[K     |███████████████████████▍        | 61kB 8.5MB/s eta 0:00:01\r\u001b[K     |███████████████████████████▎    | 71kB 7.3MB/s eta 0:00:01\r\u001b[K     |███████████████████████████████▏| 81kB 7.8MB/s eta 0:00:01\r\u001b[K     |████████████████████████████████| 92kB 7.8MB/s \n",
            "\u001b[?25hRequirement already satisfied: torch>=0.4 in /usr/local/lib/python3.6/dist-packages (from torchbearer) (1.1.0)\n",
            "Requirement already satisfied: torchvision in /usr/local/lib/python3.6/dist-packages (from torchbearer) (0.2.2.post3)\n",
            "Requirement already satisfied: tqdm in /usr/local/lib/python3.6/dist-packages (from torchbearer) (4.28.1)\n",
            "Requirement already satisfied: numpy in /usr/local/lib/python3.6/dist-packages (from torch>=0.4->torchbearer) (1.16.3)\n",
            "Requirement already satisfied: pillow>=4.1.1 in /usr/local/lib/python3.6/dist-packages (from torchvision->torchbearer) (4.3.0)\n",
            "Requirement already satisfied: six in /usr/local/lib/python3.6/dist-packages (from torchvision->torchbearer) (1.12.0)\n",
            "Requirement already satisfied: olefile in /usr/local/lib/python3.6/dist-packages (from pillow>=4.1.1->torchvision->torchbearer) (0.46)\n",
            "Building wheels for collected packages: torchbearer\n",
            "  Building wheel for torchbearer (setup.py) ... \u001b[?25l\u001b[?25hdone\n",
            "  Stored in directory: /root/.cache/pip/wheels/6c/cb/69/466aef9cee879fb8f645bd602e34d45e754fb3dee2cb1a877a\n",
            "Successfully built torchbearer\n",
            "Installing collected packages: torchbearer\n",
            "Successfully installed torchbearer-0.3.0\n"
          ],
          "name": "stdout"
        }
      ]
    },
    {
      "cell_type": "code",
      "metadata": {
        "id": "ZzO4fi6FufIb",
        "colab_type": "code",
        "colab": {}
      },
      "source": [
        "# automatically reload external modules if they change\n",
        "%load_ext autoreload\n",
        "%autoreload 2\n",
        "\n",
        "import torch\n",
        "import torch.nn.functional as F\n",
        "import torchvision.transforms as transforms\n",
        "import torchbearer\n",
        "from torch import nn\n",
        "from torch import optim\n",
        "from torchvision.datasets import MNIST\n",
        "from torchvision.datasets import SVHN\n",
        "from torchbearer import Trial\n",
        "import matplotlib.pyplot as plt\n",
        "from torch.utils.data import DataLoader, Dataset\n",
        "import torchvision\n",
        "from torchvision import transforms\n",
        "\n",
        "%matplotlib inline"
      ],
      "execution_count": 0,
      "outputs": []
    },
    {
      "cell_type": "code",
      "metadata": {
        "id": "5U3Z5bKzuhai",
        "colab_type": "code",
        "colab": {}
      },
      "source": [
        "# fix random seed for reproducibility\n",
        "seed = 7\n",
        "torch.manual_seed(seed)\n",
        "torch.backends.cudnn.deterministic = True"
      ],
      "execution_count": 0,
      "outputs": []
    },
    {
      "cell_type": "markdown",
      "metadata": {
        "id": "jy59LXhgGgcC",
        "colab_type": "text"
      },
      "source": [
        "Loading the SVHN dataset in which there are just individual digit info. This dataset is provided by torchvision. But it is not the main dataset that we have to use. I just import it and define the loaders for later. We can run our CNN to test indv digit accuracy"
      ]
    },
    {
      "cell_type": "code",
      "metadata": {
        "id": "ZjlzMBGYujLv",
        "colab_type": "code",
        "outputId": "5cbafa35-0e3a-43de-f82b-9c47027495b8",
        "colab": {
          "base_uri": "https://localhost:8080/",
          "height": 507
        }
      },
      "source": [
        "# convert each image to tensor format\n",
        "transform = transforms.Compose([\n",
        "    transforms.ToTensor()  # convert to tensor\n",
        "])\n",
        "\n",
        "# load data\n",
        "trainset = SVHN(root='.', split='train', transform=transform, download=True)\n",
        "\n",
        "testset = SVHN(root=\".\", split='test', transform=transform, download=True)\n",
        "\n",
        "# create data loaders\n",
        "trainloader = DataLoader(trainset, batch_size=128, shuffle=True)\n",
        "testloader = DataLoader(testset, batch_size=128, shuffle=True)"
      ],
      "execution_count": 0,
      "outputs": [
        {
          "output_type": "stream",
          "text": [
            "  0%|          | 0/182040794 [00:00<?, ?it/s]"
          ],
          "name": "stderr"
        },
        {
          "output_type": "stream",
          "text": [
            "Downloading http://ufldl.stanford.edu/housenumbers/train_32x32.mat to ./train_32x32.mat\n"
          ],
          "name": "stdout"
        },
        {
          "output_type": "stream",
          "text": [
            "100%|█████████▉| 181387264/182040794 [00:19<00:00, 12744310.35it/s]\n",
            "0it [00:00, ?it/s]\u001b[A\n",
            "  0%|          | 16384/64275384 [00:00<09:03, 118205.70it/s]\u001b[A"
          ],
          "name": "stderr"
        },
        {
          "output_type": "stream",
          "text": [
            "Downloading http://ufldl.stanford.edu/housenumbers/test_32x32.mat to ./test_32x32.mat\n"
          ],
          "name": "stdout"
        },
        {
          "output_type": "stream",
          "text": [
            "\n",
            "  0%|          | 81920/64275384 [00:00<06:59, 153184.16it/s]\u001b[A\n",
            "  0%|          | 221184/64275384 [00:00<05:10, 205988.12it/s]\u001b[A\n",
            "  1%|          | 475136/64275384 [00:00<03:46, 281313.83it/s]\u001b[A\n",
            "  1%|▏         | 876544/64275384 [00:00<02:44, 386476.93it/s]\u001b[A\n",
            "  2%|▏         | 1572864/64275384 [00:00<01:57, 535187.81it/s]\u001b[A\n",
            "  4%|▍         | 2777088/64275384 [00:00<01:22, 745733.99it/s]\u001b[A\n",
            "  7%|▋         | 4259840/64275384 [00:01<00:57, 1035780.23it/s]\u001b[A\n",
            "  9%|▉         | 5955584/64275384 [00:01<00:40, 1430139.78it/s]\u001b[A\n",
            " 12%|█▏        | 7921664/64275384 [00:01<00:28, 1962061.93it/s]\u001b[A\n",
            " 16%|█▌        | 10174464/64275384 [00:01<00:20, 2667237.65it/s]\u001b[A\n",
            " 20%|█▉        | 12738560/64275384 [00:01<00:14, 3597972.79it/s]\u001b[A\n",
            " 24%|██▍       | 15679488/64275384 [00:01<00:10, 4805830.76it/s]\u001b[A\n",
            " 29%|██▉       | 18808832/64275384 [00:01<00:07, 6441455.70it/s]\u001b[A\n",
            " 34%|███▎      | 21594112/64275384 [00:01<00:05, 8220365.38it/s]\u001b[A\n",
            " 39%|███▉      | 25239552/64275384 [00:02<00:03, 10708158.28it/s]\u001b[A\n",
            " 45%|████▌     | 29048832/64275384 [00:02<00:02, 13354632.08it/s]\u001b[A\n",
            " 52%|█████▏    | 33177600/64275384 [00:02<00:01, 16753863.99it/s]\u001b[A\n",
            " 59%|█████▉    | 38100992/64275384 [00:02<00:01, 20887097.68it/s]\u001b[A\n",
            " 66%|██████▋   | 42737664/64275384 [00:02<00:00, 24653137.21it/s]\u001b[A\n",
            " 75%|███████▌  | 48300032/64275384 [00:02<00:00, 29596867.68it/s]\u001b[A\n",
            " 85%|████████▍ | 54542336/64275384 [00:02<00:00, 35116112.69it/s]\u001b[A\n",
            " 95%|█████████▍| 60833792/64275384 [00:02<00:00, 40479891.88it/s]\u001b[A\n",
            "64282624it [00:02, 22614339.68it/s]                              \u001b[A"
          ],
          "name": "stderr"
        }
      ]
    },
    {
      "cell_type": "code",
      "metadata": {
        "id": "LDlmlE_9wfU1",
        "colab_type": "code",
        "outputId": "11dc05d9-0317-464e-fbca-f3085b118c45",
        "colab": {
          "base_uri": "https://localhost:8080/",
          "height": 118
        }
      },
      "source": [
        "# per-digit dataset\n",
        "\n",
        "for i, data in enumerate(trainloader):\n",
        "  print (i, data[0].shape, data[1])\n",
        "  break"
      ],
      "execution_count": 0,
      "outputs": [
        {
          "output_type": "stream",
          "text": [
            "0 torch.Size([128, 3, 32, 32]) tensor([2, 1, 3, 2, 1, 2, 2, 4, 9, 4, 4, 3, 2, 2, 2, 4, 5, 6, 4, 0, 2, 5, 8, 7,\n",
            "        5, 2, 7, 6, 0, 4, 4, 3, 2, 9, 4, 9, 1, 3, 1, 8, 5, 1, 3, 7, 5, 7, 1, 1,\n",
            "        6, 1, 4, 2, 8, 4, 0, 6, 7, 7, 8, 1, 9, 2, 5, 0, 8, 8, 8, 3, 1, 3, 4, 1,\n",
            "        2, 4, 6, 1, 6, 5, 0, 2, 1, 2, 4, 1, 9, 7, 6, 5, 4, 3, 9, 0, 1, 5, 2, 4,\n",
            "        2, 1, 7, 1, 5, 1, 9, 2, 5, 4, 0, 6, 4, 2, 0, 0, 9, 3, 0, 7, 5, 8, 2, 3,\n",
            "        4, 6, 2, 2, 2, 1, 3, 6])\n"
          ],
          "name": "stdout"
        }
      ]
    },
    {
      "cell_type": "code",
      "metadata": {
        "id": "MK6o0tAav90F",
        "colab_type": "code",
        "colab": {}
      },
      "source": [
        "# These are all the modules we'll be using later.\n",
        "from __future__ import print_function\n",
        "import numpy as np\n",
        "\n",
        "from six.moves import cPickle as pickle\n",
        "from six.moves import range\n",
        "\n",
        "import os\n",
        "import sys\n",
        "import tarfile\n",
        "from IPython.display import display, Image\n",
        "\n",
        "import h5py\n",
        "\n",
        "import matplotlib.pyplot as plt\n",
        "\n",
        "from PIL import Image\n",
        "import random"
      ],
      "execution_count": 0,
      "outputs": []
    },
    {
      "cell_type": "code",
      "metadata": {
        "id": "kbrn89t5zRrI",
        "colab_type": "code",
        "colab": {}
      },
      "source": [
        "from collections import Counter\n",
        "%matplotlib inline\n",
        "from urllib.request import urlretrieve"
      ],
      "execution_count": 0,
      "outputs": []
    },
    {
      "cell_type": "markdown",
      "metadata": {
        "id": "QQMU59igIDWZ",
        "colab_type": "text"
      },
      "source": [
        "This block of code just downloads the relevant files and extracts them to the local directory. Dont need to understand deeply"
      ]
    },
    {
      "cell_type": "code",
      "metadata": {
        "id": "Q6iL5m4E0GoG",
        "colab_type": "code",
        "outputId": "1e0217a1-7da5-4ce4-a5a0-961d96123c08",
        "colab": {
          "base_uri": "https://localhost:8080/",
          "height": 147
        }
      },
      "source": [
        "url = 'http://ufldl.stanford.edu/housenumbers/'\n",
        "last_percent_reported = None\n",
        "\n",
        "def download_progress_hook(count, blockSize, totalSize):\n",
        "    \"\"\"A hook to report the progress of a download. This is mostly intended for users with\n",
        "    slow internet connections. Reports every 1% change in download progress.\n",
        "    \"\"\"\n",
        "    global last_percent_reported\n",
        "    percent = int(count * blockSize * 100 / totalSize)\n",
        "\n",
        "    if last_percent_reported != percent:\n",
        "        if percent % 5 == 0:\n",
        "            sys.stdout.write(\"%s%%\" % percent)\n",
        "            sys.stdout.flush()\n",
        "        else:\n",
        "            sys.stdout.write(\".\")\n",
        "            sys.stdout.flush()\n",
        "\n",
        "        last_percent_reported = percent\n",
        "\n",
        "def maybe_download(filename, expected_bytes, force=False):\n",
        "    \"\"\"Download a file if not present, and make sure it's the right size.\"\"\"\n",
        "    if force or not os.path.exists(filename):\n",
        "        print('Attempting to download:', filename) \n",
        "        filename, _ = urlretrieve(url + filename, filename, reporthook=download_progress_hook)\n",
        "        print('\\nDownload Complete!')\n",
        "    statinfo = os.stat(filename)\n",
        "    if statinfo.st_size == expected_bytes:\n",
        "        print('Found and verified', filename)\n",
        "    else:\n",
        "        raise Exception(\n",
        "          'Failed to verify ' + filename + '. Can you get to it with a browser?')\n",
        "    return filename\n",
        "\n",
        "train_filename = maybe_download('train.tar.gz', 404141560 )\n",
        "test_filename = maybe_download('test.tar.gz', 276555967 )"
      ],
      "execution_count": 6,
      "outputs": [
        {
          "output_type": "stream",
          "text": [
            "Attempting to download: train.tar.gz\n",
            "0%....5%....10%....15%....20%....25%....30%....35%....40%....45%....50%....55%....60%....65%....70%....75%....80%....85%....90%....95%....100%\n",
            "Download Complete!\n",
            "Found and verified train.tar.gz\n",
            "Attempting to download: test.tar.gz\n",
            "0%....5%....10%....15%....20%....25%....30%....35%....40%....45%....50%....55%....60%....65%....70%....75%....80%....85%....90%....95%....100%\n",
            "Download Complete!\n",
            "Found and verified test.tar.gz\n"
          ],
          "name": "stdout"
        }
      ]
    },
    {
      "cell_type": "markdown",
      "metadata": {
        "id": "nDT23xNABnlr",
        "colab_type": "text"
      },
      "source": [
        "### Extract the data"
      ]
    },
    {
      "cell_type": "code",
      "metadata": {
        "id": "gLxycbVy1p_V",
        "colab_type": "code",
        "outputId": "715fac55-9583-443d-c007-67734bfd71ef",
        "colab": {
          "base_uri": "https://localhost:8080/",
          "height": 50
        }
      },
      "source": [
        "# places the extracted files in /train and /test\n",
        "\n",
        "num_classes = 10\n",
        "np.random.seed(133)\n",
        "\n",
        "train_filename = 'train.tar.gz'\n",
        "test_filename = 'test.tar.gz'\n",
        "# extra_filename = 'extra.tar.gz'\n",
        "\n",
        "def maybe_extract(filename, force=False):\n",
        "    root = os.path.splitext(os.path.splitext(filename)[0])[0]  # remove .tar.gz\n",
        "    if os.path.isdir(root) and not force:\n",
        "        # You may override by setting force=True.\n",
        "        print('%s already present - Skipping extraction of %s.' % (root, filename))\n",
        "    else:\n",
        "        print('Extracting data for %s. This may take a while. Please wait.' % root)\n",
        "        tar = tarfile.open(filename)\n",
        "        sys.stdout.flush()\n",
        "        tar.extractall()\n",
        "        tar.close()\n",
        "    if not os.path.exists(root+'/digitStruct.mat'):\n",
        "        print(\"digitStruct.mat is missing\")\n",
        "    return root + '/digitStruct.mat'\n",
        "  \n",
        "  \n",
        "train_folders = maybe_extract(train_filename)\n",
        "test_folders = maybe_extract(test_filename)"
      ],
      "execution_count": 7,
      "outputs": [
        {
          "output_type": "stream",
          "text": [
            "Extracting data for train. This may take a while. Please wait.\n",
            "Extracting data for test. This may take a while. Please wait.\n"
          ],
          "name": "stdout"
        }
      ]
    },
    {
      "cell_type": "markdown",
      "metadata": {
        "id": "AoshH2lZBraL",
        "colab_type": "text"
      },
      "source": [
        "### Read the dataset"
      ]
    },
    {
      "cell_type": "code",
      "metadata": {
        "id": "i2OHcG5114ua",
        "colab_type": "code",
        "outputId": "048be772-2c04-44c7-8178-655a42b8a4b9",
        "colab": {
          "base_uri": "https://localhost:8080/",
          "height": 34
        }
      },
      "source": [
        "print(train_folders)\n"
      ],
      "execution_count": 0,
      "outputs": [
        {
          "output_type": "stream",
          "text": [
            "train/digitStruct.mat\n"
          ],
          "name": "stdout"
        }
      ]
    },
    {
      "cell_type": "code",
      "metadata": {
        "id": "e30yb3MpFPaZ",
        "colab_type": "code",
        "outputId": "f02463f2-7cbf-4651-d48f-c2546a766440",
        "colab": {
          "base_uri": "https://localhost:8080/",
          "height": 33
        }
      },
      "source": [
        "train_dataset = h5py.File(train_folders, \"r\")\n",
        "\n",
        "print (list(train_dataset.keys()))"
      ],
      "execution_count": 8,
      "outputs": [
        {
          "output_type": "stream",
          "text": [
            "['#refs#', 'digitStruct']\n"
          ],
          "name": "stdout"
        }
      ]
    },
    {
      "cell_type": "code",
      "metadata": {
        "id": "6GTBrTvVGF_n",
        "colab_type": "code",
        "outputId": "eab46e62-ee06-4401-bccd-a238b4432bdf",
        "colab": {
          "base_uri": "https://localhost:8080/",
          "height": 50
        }
      },
      "source": [
        "list(train_dataset['digitStruct'].items())"
      ],
      "execution_count": 0,
      "outputs": [
        {
          "output_type": "execute_result",
          "data": {
            "text/plain": [
              "[('bbox', <HDF5 dataset \"bbox\": shape (33402, 1), type \"|O\">),\n",
              " ('name', <HDF5 dataset \"name\": shape (33402, 1), type \"|O\">)]"
            ]
          },
          "metadata": {
            "tags": []
          },
          "execution_count": 12
        }
      ]
    },
    {
      "cell_type": "markdown",
      "metadata": {
        "id": "d8XtP2ZZHX76",
        "colab_type": "text"
      },
      "source": [
        "Basically this means that there are 33402 file names and each of these files has a corr bbox struct which contains info about the images\n",
        "\n"
      ]
    },
    {
      "cell_type": "code",
      "metadata": {
        "id": "Z8vx04dPG8yI",
        "colab_type": "code",
        "outputId": "2dcbbae7-2fd4-4990-d77c-3718b2f64e6b",
        "colab": {
          "base_uri": "https://localhost:8080/",
          "height": 34
        }
      },
      "source": [
        "list(train_dataset['digitStruct'].items())[0][1][0][0]"
      ],
      "execution_count": 0,
      "outputs": [
        {
          "output_type": "execute_result",
          "data": {
            "text/plain": [
              "<HDF5 object reference>"
            ]
          },
          "metadata": {
            "tags": []
          },
          "execution_count": 13
        }
      ]
    },
    {
      "cell_type": "markdown",
      "metadata": {
        "id": "N4wEXK9IKuNH",
        "colab_type": "text"
      },
      "source": [
        "This code block basically transorms all the .mat stuff into python dicts and obj. Basically it does everything Hannah explained"
      ]
    },
    {
      "cell_type": "code",
      "metadata": {
        "id": "ls3qaworIdP0",
        "colab_type": "code",
        "colab": {}
      },
      "source": [
        "# The DigitStructFile is just a wrapper around the h5py data.  It basically references \n",
        "#    inf:              The input h5 matlab file\n",
        "#    digitStructName   The h5 ref to all the file names\n",
        "#    digitStructBbox   The h5 ref to all struc data\n",
        "class DigitStructFile:\n",
        "    def __init__(self, inf):\n",
        "        self.inf = h5py.File(inf, 'r')\n",
        "        self.digitStructName = self.inf['digitStruct']['name']\n",
        "        self.digitStructBbox = self.inf['digitStruct']['bbox']\n",
        "\n",
        "# getName returns the 'name' string for for the n(th) digitStruct. \n",
        "    def getName(self,n):\n",
        "        return ''.join([chr(c[0]) for c in self.inf[self.digitStructName[n][0]].value])\n",
        "\n",
        "# bboxHelper handles the coding difference when there is exactly one bbox or an array of bbox. \n",
        "    def bboxHelper(self,attr):\n",
        "        if (len(attr) > 1):\n",
        "            attr = [self.inf[attr.value[j].item()].value[0][0] for j in range(len(attr))]\n",
        "        else:\n",
        "            attr = [attr.value[0][0]]\n",
        "        return attr\n",
        "\n",
        "# getBbox returns a dict of data for the n(th) bbox. \n",
        "    def getBbox(self,n):\n",
        "        bbox = {}\n",
        "        bb = self.digitStructBbox[n].item()\n",
        "        bbox['height'] = self.bboxHelper(self.inf[bb][\"height\"])\n",
        "        bbox['label'] = self.bboxHelper(self.inf[bb][\"label\"])\n",
        "        bbox['left'] = self.bboxHelper(self.inf[bb][\"left\"])\n",
        "        bbox['top'] = self.bboxHelper(self.inf[bb][\"top\"])\n",
        "        bbox['width'] = self.bboxHelper(self.inf[bb][\"width\"])\n",
        "        return bbox\n",
        "\n",
        "    def getDigitStructure(self,n):\n",
        "        s = self.getBbox(n)\n",
        "        s['name']=self.getName(n)\n",
        "        return s\n",
        "\n",
        "# getAllDigitStructure returns all the digitStruct from the input file.     \n",
        "    def getAllDigitStructure(self):\n",
        "        return [self.getDigitStructure(i) for i in range(len(self.digitStructName))]\n",
        "\n",
        "# Return a restructured version of the dataset (one structure by boxed digit).\n",
        "#\n",
        "#   Return a list of such dicts :\n",
        "#      'filename' : filename of the samples\n",
        "#      'boxes' : list of such dicts (one by digit) :\n",
        "#          'label' : 1 to 9 corresponding digits. 10 for digit '0' in image.\n",
        "#          'left', 'top' : position of bounding box\n",
        "#          'width', 'height' : dimension of bounding box\n",
        "#\n",
        "# Note: We may turn this to a generator, if memory issues arise.\n",
        "    def getAllDigitStructure_ByDigit(self):\n",
        "        pictDat = self.getAllDigitStructure()\n",
        "        result = []\n",
        "        structCnt = 1\n",
        "        for i in range(len(pictDat)):\n",
        "            item = { 'filename' : pictDat[i][\"name\"] }\n",
        "            figures = []\n",
        "            for j in range(len(pictDat[i]['height'])):\n",
        "                figure = {}\n",
        "                figure['height'] = pictDat[i]['height'][j]\n",
        "                figure['label']  = pictDat[i]['label'][j]\n",
        "                figure['left']   = pictDat[i]['left'][j]\n",
        "                figure['top']    = pictDat[i]['top'][j]\n",
        "                figure['width']  = pictDat[i]['width'][j]\n",
        "                figures.append(figure)\n",
        "            structCnt = structCnt + 1\n",
        "            item['boxes'] = figures\n",
        "            result.append(item)\n",
        "        return result"
      ],
      "execution_count": 0,
      "outputs": []
    },
    {
      "cell_type": "code",
      "metadata": {
        "id": "hNTfHx-UIfi9",
        "colab_type": "code",
        "colab": {}
      },
      "source": [
        "train = DigitStructFile(train_folders)\n",
        "train_data = train.getAllDigitStructure_ByDigit()\n",
        "\n",
        "\n",
        "test = DigitStructFile(test_folders)\n",
        "test_data = test.getAllDigitStructure_ByDigit()"
      ],
      "execution_count": 0,
      "outputs": []
    },
    {
      "cell_type": "code",
      "metadata": {
        "id": "uOMZkG7oI0_j",
        "colab_type": "code",
        "outputId": "5d455bfe-885e-4fd4-9833-2dccfdba4fc6",
        "colab": {
          "base_uri": "https://localhost:8080/",
          "height": 98
        }
      },
      "source": [
        "print (\"Len of train data:\", len(train_data))\n",
        "print (\"Len of test data:\", len(test_data))\n",
        "\n",
        "\n",
        "print (train_data[0])\n",
        "\n",
        "print (train_data[1])\n",
        "\n",
        "print (test_data[13])"
      ],
      "execution_count": 11,
      "outputs": [
        {
          "output_type": "stream",
          "text": [
            "Len of train data: 33402\n",
            "Len of test data: 13068\n",
            "{'filename': '1.png', 'boxes': [{'height': 219.0, 'label': 1.0, 'left': 246.0, 'top': 77.0, 'width': 81.0}, {'height': 219.0, 'label': 9.0, 'left': 323.0, 'top': 81.0, 'width': 96.0}]}\n",
            "{'filename': '2.png', 'boxes': [{'height': 32.0, 'label': 2.0, 'left': 77.0, 'top': 29.0, 'width': 23.0}, {'height': 32.0, 'label': 3.0, 'left': 98.0, 'top': 25.0, 'width': 26.0}]}\n",
            "{'filename': '14.png', 'boxes': [{'height': 24.0, 'label': 2.0, 'left': 64.0, 'top': 27.0, 'width': 13.0}, {'height': 24.0, 'label': 5.0, 'left': 80.0, 'top': 23.0, 'width': 13.0}]}\n"
          ],
          "name": "stdout"
        }
      ]
    },
    {
      "cell_type": "markdown",
      "metadata": {
        "id": "yOhnvWLdLN42",
        "colab_type": "text"
      },
      "source": [
        "Basically `train` contains info about file_name the bounding boxes and the labels of the images. But where are the indv pixel values\n",
        "\n",
        "Structure:\n",
        "\n",
        "```\n",
        "{'filename': '1.png',\n",
        "'boxes', [..label of each indv digit and its bounding box coords ]\n",
        "```"
      ]
    },
    {
      "cell_type": "code",
      "metadata": {
        "id": "COX6kWQ0LacO",
        "colab_type": "code",
        "colab": {}
      },
      "source": [
        "# save digitStruct information into a pickle\n",
        "pickle_file = 'multi_bbox_info.pickle'\n",
        "\n",
        "try:\n",
        "    f = open(pickle_file, 'wb')\n",
        "    save = {\n",
        "    'train_data': train_data,\n",
        "    'test_data': test_data,\n",
        "    }\n",
        "    pickle.dump(save, f, pickle.HIGHEST_PROTOCOL)\n",
        "    f.close()\n",
        "except Exception as e:\n",
        "    print('Unable to save data to', pickle_file, ':', e)\n",
        "    raise"
      ],
      "execution_count": 0,
      "outputs": []
    },
    {
      "cell_type": "code",
      "metadata": {
        "id": "BZuV-YYAMd4t",
        "colab_type": "code",
        "outputId": "583021b9-a78b-4b24-c0b1-b053083b8c89",
        "colab": {
          "base_uri": "https://localhost:8080/",
          "height": 98
        }
      },
      "source": [
        "pickle_file = 'multi_bbox_info.pickle'\n",
        "\n",
        "with open(pickle_file, 'rb') as f:\n",
        "    save = pickle.load(f)\n",
        "    train_data = save['train_data']\n",
        "    test_data = save['test_data']\n",
        "    del save\n",
        "    print('Training set', len(train_data))\n",
        "    print('Test set', len(test_data))\n",
        "    print (train_data[0])\n",
        "\n",
        "    print (train_data[1])\n",
        "\n",
        "    print (test_data[13])"
      ],
      "execution_count": 13,
      "outputs": [
        {
          "output_type": "stream",
          "text": [
            "Training set 33402\n",
            "Test set 13068\n",
            "{'filename': '1.png', 'boxes': [{'height': 219.0, 'label': 1.0, 'left': 246.0, 'top': 77.0, 'width': 81.0}, {'height': 219.0, 'label': 9.0, 'left': 323.0, 'top': 81.0, 'width': 96.0}]}\n",
            "{'filename': '2.png', 'boxes': [{'height': 32.0, 'label': 2.0, 'left': 77.0, 'top': 29.0, 'width': 23.0}, {'height': 32.0, 'label': 3.0, 'left': 98.0, 'top': 25.0, 'width': 26.0}]}\n",
            "{'filename': '14.png', 'boxes': [{'height': 24.0, 'label': 2.0, 'left': 64.0, 'top': 27.0, 'width': 13.0}, {'height': 24.0, 'label': 5.0, 'left': 80.0, 'top': 23.0, 'width': 13.0}]}\n"
          ],
          "name": "stdout"
        }
      ]
    },
    {
      "cell_type": "markdown",
      "metadata": {
        "id": "moVcNovEMtgt",
        "colab_type": "text"
      },
      "source": [
        "### Generate dataset\n",
        "\n",
        "crop images and save them to numpy ndarray"
      ]
    },
    {
      "cell_type": "code",
      "metadata": {
        "id": "2BvdDGEGRb5Z",
        "colab_type": "code",
        "outputId": "d9156c9e-1036-4a2c-f7fd-f726a7740ecd",
        "colab": {
          "base_uri": "https://localhost:8080/",
          "height": 180
        }
      },
      "source": [
        "np.ones(shape=(10, 6), dtype='int')*10"
      ],
      "execution_count": 14,
      "outputs": [
        {
          "output_type": "execute_result",
          "data": {
            "text/plain": [
              "array([[10, 10, 10, 10, 10, 10],\n",
              "       [10, 10, 10, 10, 10, 10],\n",
              "       [10, 10, 10, 10, 10, 10],\n",
              "       [10, 10, 10, 10, 10, 10],\n",
              "       [10, 10, 10, 10, 10, 10],\n",
              "       [10, 10, 10, 10, 10, 10],\n",
              "       [10, 10, 10, 10, 10, 10],\n",
              "       [10, 10, 10, 10, 10, 10],\n",
              "       [10, 10, 10, 10, 10, 10],\n",
              "       [10, 10, 10, 10, 10, 10]])"
            ]
          },
          "metadata": {
            "tags": []
          },
          "execution_count": 14
        }
      ]
    },
    {
      "cell_type": "code",
      "metadata": {
        "id": "0nuwNM-8MoNo",
        "colab_type": "code",
        "colab": {}
      },
      "source": [
        "class Dataset:\n",
        "  \"\"\"crop images and save them to numpy ndarray\"\"\"\n",
        "  \n",
        "  # digitStruct is train_data\n",
        "  \n",
        "  def __init__(self, digitStruct, folder):\n",
        "    self.digitStruct = digitStruct\n",
        "    self.folder = folder\n",
        "    \n",
        "  def setDataset(self):\n",
        "    # set the data (images) as proper \n",
        "    # len(self.digitStruct) is 33402\n",
        "    # basically initializing dataset as 33402x64x64\n",
        "    self.dataset = np.ndarray(shape=(len(self.digitStruct), 54, 54), dtype='float32')\n",
        "    \n",
        "    #set the labels\n",
        "    \n",
        "    # 1 length + 5 labels, 10 represents none\n",
        "    \n",
        "    self.labels = np.ones(shape=(len(self.digitStruct), 6), dtype='int')*10\n",
        "    \n",
        "  def getDataset(self):\n",
        "    # initialize the data structures\n",
        "    self.setDataset()\n",
        "    \n",
        "    # for each train file\n",
        "    for i in range(len(self.digitStruct)):\n",
        "      # get file_name for the img\n",
        "      fin = os.path.join(self.folder, self.digitStruct[i]['filename'])\n",
        "      \n",
        "      # open the file\n",
        "      im = Image.open(fin)\n",
        "      \n",
        "      # get the 'boxes'  key\n",
        "      \n",
        "      boxes = self.digitStruct[i]['boxes']\n",
        "      \n",
        "      # check for >5 digits\n",
        "      if len(boxes) > 5:\n",
        "        print(fin, \"has more than 5 digits\")\n",
        "      else:\n",
        "        # first index of labels contains number of digits and that is the len of 'boxes'\n",
        "        self.labels[i, 0] = len(boxes)\n",
        "        # set the labels for each digit in this file\n",
        "        self.labels[i, 1: len(boxes)+1] = [int(box['label']) for box in boxes]\n",
        "        \n",
        "      # set the L,T,W,H params foreach digit in this file\n",
        "      left = [box['left'] for box in boxes]\n",
        "      top = [box['top'] for box in boxes]\n",
        "      height = [box['height'] for box in boxes]\n",
        "      width = [box['width'] for box in boxes]\n",
        "      \n",
        "      \n",
        "      # get the new expanded bounding boxes over the ENTIRE MULTI DIGIT IMAGE\n",
        "      box = self.im_box(im, left, top, height, width)\n",
        "      \n",
        "      size = (54,54)\n",
        "      \n",
        "      # crop acc to the new bounding box and resize to the desired shape for training the CNN\n",
        "      region = im.crop(box).resize(size)\n",
        "      # normalize the 64x64 img\n",
        "      region = self.normalization(region)\n",
        "      \n",
        "      # replace the original img with this pre-processed 64x64 img\n",
        "      \n",
        "      self.dataset[i, :, :] = region[:,:]\n",
        "      \n",
        "    print('dataset:',self.dataset.shape)\n",
        "    print('labels:',self.labels.shape)\n",
        "    return self.dataset, self.labels\n",
        "      \n",
        "      \n",
        "      \n",
        "      \n",
        "  def im_box(self, im, left, top, height, width):\n",
        "    \n",
        "    im_left = min(left) # get leftmost line\n",
        "    im_top = min(top) # topmost line\n",
        "    \n",
        "    im_height = max(top) + max(height) - im_top # max(ht) + ( max(top) - min(top) )\n",
        "    im_width = max(left) + max(width) - im_left # max(width) + (max(left) - min(left))\n",
        "    \n",
        "    # basically im_height is the ht of tallest digit + some margin\n",
        "    # basically im_width is the width of widest digit + some margin\n",
        "    \n",
        "    # can experiment with 0.05\n",
        "    im_top = im_top - im_height*0.05 # bit higher than topmost line\n",
        "    im_left = im_left - im_width*0.05 # bit more towards the left(wider) than leftmost line  \n",
        "    \n",
        "    # width, height = im.size\n",
        "    \n",
        "    im_bottom = min(im.size[1], im_top + im_height*1.05) # can experiment with 1.05\n",
        "    \n",
        "    # from the topmost line go down to ht and a bit more\n",
        "    # get the min out of that or the image ht\n",
        "    \n",
        "    im_right = min(im.size[0], im_left + im_width*1.05)\n",
        "    \n",
        "    # from the leftmost line go right to width and a bit more\n",
        "    # get the min out of that or the image width\n",
        "    \n",
        "    # (im_left, im_top, im_right, im_bottom) are the coords of the \n",
        "    # new expanded bounding boxes over the ENTIRE MULTI DIGIT IMAGE\n",
        "    \n",
        "    return (im_left, im_top, im_right, im_bottom)\n",
        "    \n",
        "  def normalization(self, img):\n",
        "    im = self.rgb2gray(img) # RGB to greyscale\n",
        "    mean = np.mean(im, dtype='float32')\n",
        "    std = np.std(im, dtype='float32', ddof=1)\n",
        "    return (im - mean) / std  \n",
        "  \n",
        "  def rgb2gray(self, img):\n",
        "    # L = R * 299/1000 + G * 587/1000 + B * 114/1000\n",
        "    return np.dot(np.array(img), [0.299, 0.587, 0.114])\n",
        "        \n",
        "      \n",
        "      "
      ],
      "execution_count": 0,
      "outputs": []
    },
    {
      "cell_type": "markdown",
      "metadata": {
        "id": "aSuB4z5EsD2x",
        "colab_type": "text"
      },
      "source": [
        "### train dataset"
      ]
    },
    {
      "cell_type": "code",
      "metadata": {
        "id": "2dpjR_F7sFCR",
        "colab_type": "code",
        "outputId": "ceeb626f-3055-42ab-9a65-f6e53cf3e41f",
        "colab": {
          "base_uri": "https://localhost:8080/",
          "height": 66
        }
      },
      "source": [
        "train_dataset = Dataset(train_data, 'train')\n",
        "\n",
        "train_dataset, train_labels = train_dataset.getDataset()"
      ],
      "execution_count": 16,
      "outputs": [
        {
          "output_type": "stream",
          "text": [
            "train/29930.png has more than 5 digits\n",
            "dataset: (33402, 54, 54)\n",
            "labels: (33402, 6)\n"
          ],
          "name": "stdout"
        }
      ]
    },
    {
      "cell_type": "code",
      "metadata": {
        "id": "dnB1cAFwsnXQ",
        "colab_type": "code",
        "outputId": "5d371dad-5467-45ce-bf24-2ecdf806742c",
        "colab": {
          "base_uri": "https://localhost:8080/",
          "height": 82
        }
      },
      "source": [
        "print (\"Len of train set:\", len(train_dataset))\n",
        "print(train_dataset[0].shape)\n",
        "print (train_labels[0])\n",
        "print (train_labels[0].shape)"
      ],
      "execution_count": 17,
      "outputs": [
        {
          "output_type": "stream",
          "text": [
            "Len of train set: 33402\n",
            "(54, 54)\n",
            "[ 2  1  9 10 10 10]\n",
            "(6,)\n"
          ],
          "name": "stdout"
        }
      ]
    },
    {
      "cell_type": "code",
      "metadata": {
        "id": "t7XFGKMzDgba",
        "colab_type": "code",
        "outputId": "9fe8cf47-0802-4c5d-8090-8ab0bc216040",
        "colab": {
          "base_uri": "https://localhost:8080/",
          "height": 33
        }
      },
      "source": [
        "print (train_labels[29929])"
      ],
      "execution_count": 18,
      "outputs": [
        {
          "output_type": "stream",
          "text": [
            "[10 10 10 10 10 10]\n"
          ],
          "name": "stdout"
        }
      ]
    },
    {
      "cell_type": "code",
      "metadata": {
        "id": "nyP7cC_tCF_5",
        "colab_type": "code",
        "outputId": "5259f8cc-b276-4776-810d-f825992880d4",
        "colab": {
          "base_uri": "https://localhost:8080/",
          "height": 270
        }
      },
      "source": [
        "plt.imshow(train_dataset[29929,:,:], cmap='gray');"
      ],
      "execution_count": 19,
      "outputs": [
        {
          "output_type": "display_data",
          "data": {
            "image/png": "[encoded data removed]",
            "text/plain": [
              "<Figure size 432x288 with 1 Axes>"
            ]
          },
          "metadata": {
            "tags": []
          }
        }
      ]
    },
    {
      "cell_type": "markdown",
      "metadata": {
        "id": "2NuGS2-yDp_z",
        "colab_type": "text"
      },
      "source": [
        "Delete this image"
      ]
    },
    {
      "cell_type": "code",
      "metadata": {
        "id": "CI5prbdSDrtS",
        "colab_type": "code",
        "colab": {}
      },
      "source": [
        "train_dataset = np.delete(train_dataset, 29929, axis=0)\n",
        "train_labels = np.delete(train_labels, 29929, axis=0)"
      ],
      "execution_count": 0,
      "outputs": []
    },
    {
      "cell_type": "code",
      "metadata": {
        "id": "0NX0KHdiDsdE",
        "colab_type": "code",
        "outputId": "c3ef8a16-2440-4152-9958-8ad0959b4b89",
        "colab": {
          "base_uri": "https://localhost:8080/",
          "height": 50
        }
      },
      "source": [
        "print(train_dataset.shape)\n",
        "print(train_labels.shape)\n"
      ],
      "execution_count": 21,
      "outputs": [
        {
          "output_type": "stream",
          "text": [
            "(33401, 54, 54)\n",
            "(33401, 6)\n"
          ],
          "name": "stdout"
        }
      ]
    },
    {
      "cell_type": "markdown",
      "metadata": {
        "id": "2GdHKFI2DwEU",
        "colab_type": "text"
      },
      "source": [
        "### Test data"
      ]
    },
    {
      "cell_type": "code",
      "metadata": {
        "id": "5EyiH_GvDxBk",
        "colab_type": "code",
        "outputId": "9b429499-0fb3-4e2c-b36d-4d35df60a2ce",
        "colab": {
          "base_uri": "https://localhost:8080/",
          "height": 50
        }
      },
      "source": [
        "test_dataset = Dataset(test_data, 'test')\n",
        "test_dataset, test_labels = test_dataset.getDataset()"
      ],
      "execution_count": 22,
      "outputs": [
        {
          "output_type": "stream",
          "text": [
            "dataset: (13068, 54, 54)\n",
            "labels: (13068, 6)\n"
          ],
          "name": "stdout"
        }
      ]
    },
    {
      "cell_type": "markdown",
      "metadata": {
        "id": "ilo4kQmPET40",
        "colab_type": "text"
      },
      "source": [
        "### Creating a validation dataset"
      ]
    },
    {
      "cell_type": "code",
      "metadata": {
        "id": "a9W3Yp34E5qr",
        "colab_type": "code",
        "outputId": "5f72bdab-a619-4bba-bd64-741718672ca3",
        "colab": {
          "base_uri": "https://localhost:8080/",
          "height": 34
        }
      },
      "source": [
        "np.random.seed(1234)\n",
        "np.random.permutation(10)"
      ],
      "execution_count": 0,
      "outputs": [
        {
          "output_type": "execute_result",
          "data": {
            "text/plain": [
              "array([7, 2, 9, 1, 0, 8, 4, 5, 6, 3])"
            ]
          },
          "metadata": {
            "tags": []
          },
          "execution_count": 29
        }
      ]
    },
    {
      "cell_type": "markdown",
      "metadata": {
        "id": "yNtbCdwrGSRN",
        "colab_type": "text"
      },
      "source": [
        "#### Shuffle the dataset"
      ]
    },
    {
      "cell_type": "code",
      "metadata": {
        "id": "A9OobTmUDxbm",
        "colab_type": "code",
        "outputId": "5393609f-eacd-4582-9b69-d079af068e41",
        "colab": {
          "base_uri": "https://localhost:8080/",
          "height": 50
        }
      },
      "source": [
        "def randomize(dataset, labels):\n",
        "  np.random.seed(1234)\n",
        "  permutation = np.random.permutation(labels.shape[0])\n",
        "  shuffled_dataset = dataset[permutation,:,:]\n",
        "  shuffled_labels = labels[permutation]\n",
        "  return shuffled_dataset, shuffled_labels\n",
        "\n",
        "train_dataset, train_labels = randomize(train_dataset, train_labels)\n",
        "test_dataset, test_labels = randomize(test_dataset, test_labels)\n",
        "\n",
        "print (train_dataset.shape, train_labels.shape)\n",
        "print (test_dataset.shape, test_labels.shape)"
      ],
      "execution_count": 23,
      "outputs": [
        {
          "output_type": "stream",
          "text": [
            "(33401, 54, 54) (33401, 6)\n",
            "(13068, 54, 54) (13068, 6)\n"
          ],
          "name": "stdout"
        }
      ]
    },
    {
      "cell_type": "code",
      "metadata": {
        "id": "IThKIYQ0GYYi",
        "colab_type": "code",
        "outputId": "469d845c-99fe-4f70-8e71-30dbef2fd7bb",
        "colab": {
          "base_uri": "https://localhost:8080/",
          "height": 66
        }
      },
      "source": [
        "train_portion = 6000\n",
        "valid_dataset = train_dataset[:train_portion,:,:]\n",
        "valid_labels = train_labels[:train_portion]\n",
        "train_dataset = train_dataset[train_portion:,:,:]\n",
        "train_labels = train_labels[train_portion:]\n",
        "                             \n",
        "print(train_dataset.shape, train_labels.shape)\n",
        "print(test_dataset.shape, test_labels.shape)\n",
        "print(valid_dataset.shape, valid_labels.shape)"
      ],
      "execution_count": 24,
      "outputs": [
        {
          "output_type": "stream",
          "text": [
            "(27401, 54, 54) (27401, 6)\n",
            "(13068, 54, 54) (13068, 6)\n",
            "(6000, 54, 54) (6000, 6)\n"
          ],
          "name": "stdout"
        }
      ]
    },
    {
      "cell_type": "code",
      "metadata": {
        "id": "I2JrauBbGauK",
        "colab_type": "code",
        "outputId": "cd8f4380-06dd-4da0-c0f0-1153a492442a",
        "colab": {
          "base_uri": "https://localhost:8080/",
          "height": 307
        }
      },
      "source": [
        "def disp_sample_dataset(dataset, label):\n",
        "    items = random.sample(range(dataset.shape[0]), 8)\n",
        "    for i, item in enumerate(items):\n",
        "        plt.subplot(2, 4, i+1)\n",
        "        plt.axis('off')\n",
        "        plt.title(label[i][1:5])\n",
        "        plt.imshow(dataset[i,:,:], cmap='gray')\n",
        "disp_sample_dataset(train_dataset, train_labels)\n"
      ],
      "execution_count": 25,
      "outputs": [
        {
          "output_type": "stream",
          "text": [
            "/usr/local/lib/python3.6/dist-packages/matplotlib/text.py:1191: FutureWarning: elementwise comparison failed; returning scalar instead, but in the future will perform elementwise comparison\n",
            "  if s != self._text:\n"
          ],
          "name": "stderr"
        },
        {
          "output_type": "display_data",
          "data": {
            "image/png": "[encoded data removed]",
            "text/plain": [
              "<Figure size 432x288 with 8 Axes>"
            ]
          },
          "metadata": {
            "tags": []
          }
        }
      ]
    },
    {
      "cell_type": "code",
      "metadata": {
        "id": "QtK9lE4tKnvi",
        "colab_type": "code",
        "outputId": "ddeb2d8c-9d9a-482c-b088-725eedb823e1",
        "colab": {
          "base_uri": "https://localhost:8080/",
          "height": 307
        }
      },
      "source": [
        "disp_sample_dataset(test_dataset, test_labels)\n"
      ],
      "execution_count": 26,
      "outputs": [
        {
          "output_type": "stream",
          "text": [
            "/usr/local/lib/python3.6/dist-packages/matplotlib/text.py:1191: FutureWarning: elementwise comparison failed; returning scalar instead, but in the future will perform elementwise comparison\n",
            "  if s != self._text:\n"
          ],
          "name": "stderr"
        },
        {
          "output_type": "display_data",
          "data": {
            "image/png": "[encoded data removed]",
            "text/plain": [
              "<Figure size 432x288 with 8 Axes>"
            ]
          },
          "metadata": {
            "tags": []
          }
        }
      ]
    },
    {
      "cell_type": "code",
      "metadata": {
        "id": "7EwSVeNhKrN7",
        "colab_type": "code",
        "outputId": "44663ae7-b87c-4a27-b3c3-040af679534c",
        "colab": {
          "base_uri": "https://localhost:8080/",
          "height": 307
        }
      },
      "source": [
        "disp_sample_dataset(valid_dataset, valid_labels)\n"
      ],
      "execution_count": 27,
      "outputs": [
        {
          "output_type": "stream",
          "text": [
            "/usr/local/lib/python3.6/dist-packages/matplotlib/text.py:1191: FutureWarning: elementwise comparison failed; returning scalar instead, but in the future will perform elementwise comparison\n",
            "  if s != self._text:\n"
          ],
          "name": "stderr"
        },
        {
          "output_type": "display_data",
          "data": {
            "image/png": "[encoded data removed]",
            "text/plain": [
              "<Figure size 432x288 with 8 Axes>"
            ]
          },
          "metadata": {
            "tags": []
          }
        }
      ]
    },
    {
      "cell_type": "markdown",
      "metadata": {
        "id": "nvS_e84lKveq",
        "colab_type": "text"
      },
      "source": [
        "### Save dataset"
      ]
    },
    {
      "cell_type": "code",
      "metadata": {
        "id": "bYz-8smkKwrL",
        "colab_type": "code",
        "outputId": "b9337b97-3b96-42b7-d570-dc6af11b3447",
        "colab": {
          "base_uri": "https://localhost:8080/",
          "height": 33
        }
      },
      "source": [
        "pickle_file = 'SVHN_multi_crop.pickle'\n",
        "\n",
        "try:\n",
        "    f = open(pickle_file, 'wb')\n",
        "    save = {\n",
        "    'train_dataset': train_dataset,\n",
        "    'train_labels': train_labels,\n",
        "    'valid_dataset': valid_dataset,\n",
        "    'valid_labels': valid_labels,\n",
        "    'test_dataset': test_dataset,\n",
        "    'test_labels': test_labels,\n",
        "    }\n",
        "    pickle.dump(save, f, pickle.HIGHEST_PROTOCOL)\n",
        "    f.close()\n",
        "    print(\"Done\")\n",
        "except Exception as e:\n",
        "    print('Unable to save data to', pickle_file, ':', e)\n",
        "    raise"
      ],
      "execution_count": 28,
      "outputs": [
        {
          "output_type": "stream",
          "text": [
            "Done\n"
          ],
          "name": "stdout"
        }
      ]
    },
    {
      "cell_type": "markdown",
      "metadata": {
        "id": "eFMOkq9Oz9Gl",
        "colab_type": "text"
      },
      "source": [
        "## REPRODUCIBILITY: Run From Here\n",
        "\n",
        "Make sure you download the `SVHN_multi_crop.pickle` from [here](https://drive.google.com/open?id=1LucH2BJJvs9ULOMzXagrIqOwnBey5HTC)\n",
        "\n",
        "#### Import the libraries"
      ]
    },
    {
      "cell_type": "code",
      "metadata": {
        "id": "XJIV8KSV3OwR",
        "colab_type": "code",
        "outputId": "418b2ba7-4269-4983-cecd-3f570a91b99d",
        "colab": {
          "base_uri": "https://localhost:8080/",
          "height": 50
        }
      },
      "source": [
        "# Execute this code block to install dependencies when running on colab\n",
        "try:\n",
        "    import torch\n",
        "except:\n",
        "    from os.path import exists\n",
        "    from wheel.pep425tags import get_abbr_impl, get_impl_ver, get_abi_tag\n",
        "    platform = '{}{}-{}'.format(get_abbr_impl(), get_impl_ver(), get_abi_tag())\n",
        "    cuda_output = !ldconfig -p|grep cudart.so|sed -e 's/.*\\.\\([0-9]*\\)\\.\\([0-9]*\\)$/cu\\1\\2/'\n",
        "    accelerator = cuda_output[0] if exists('/dev/nvidia0') else 'cpu'\n",
        "\n",
        "    !pip install -q http://download.pytorch.org/whl/{accelerator}/torch-1.0.0-{platform}-linux_x86_64.whl torchvision\n",
        "\n",
        "try: \n",
        "    import torchbearer\n",
        "except:\n",
        "    !pip install torchbearer\n",
        "    \n",
        "# automatically reload external modules if they change\n",
        "%load_ext autoreload\n",
        "%autoreload 2\n",
        "\n",
        "import torch\n",
        "import torch.nn.functional as F\n",
        "import torchvision.transforms as transforms\n",
        "import torchbearer\n",
        "from torch import nn\n",
        "from torch import optim\n",
        "from torchvision.datasets import MNIST\n",
        "from torchvision.datasets import SVHN\n",
        "from torchbearer import Trial\n",
        "import matplotlib.pyplot as plt\n",
        "from torch.utils.data import DataLoader, Dataset\n",
        "import torchvision\n",
        "from torchvision import transforms\n",
        "\n",
        "\n",
        "from __future__ import print_function\n",
        "import numpy as np\n",
        "from six.moves import cPickle as pickle\n",
        "\n",
        "\n",
        "%matplotlib inline"
      ],
      "execution_count": 29,
      "outputs": [
        {
          "output_type": "stream",
          "text": [
            "The autoreload extension is already loaded. To reload it, use:\n",
            "  %reload_ext autoreload\n"
          ],
          "name": "stdout"
        }
      ]
    },
    {
      "cell_type": "code",
      "metadata": {
        "id": "3veejpzbK2DW",
        "colab_type": "code",
        "outputId": "02832a75-0d31-473e-f934-6e25d5f324c6",
        "colab": {
          "base_uri": "https://localhost:8080/",
          "height": 66
        }
      },
      "source": [
        "pickle_file = 'SVHN_multi_crop.pickle'\n",
        "\n",
        "with open(pickle_file, 'rb') as f:\n",
        "    save = pickle.load(f)\n",
        "    train_dataset = save['train_dataset']\n",
        "    train_labels = save['train_labels']\n",
        "    valid_dataset = save['valid_dataset']\n",
        "    valid_labels = save['valid_labels']\n",
        "    test_dataset = save['test_dataset']\n",
        "    test_labels = save['test_labels']\n",
        "    # del save  # hint to help gc free up memory\n",
        "    print('Training set', train_dataset.shape, train_labels.shape)\n",
        "    print('Validation set', valid_dataset.shape, valid_labels.shape)\n",
        "    print('Test set', test_dataset.shape, test_labels.shape)"
      ],
      "execution_count": 30,
      "outputs": [
        {
          "output_type": "stream",
          "text": [
            "Training set (27401, 54, 54) (27401, 6)\n",
            "Validation set (6000, 54, 54) (6000, 6)\n",
            "Test set (13068, 54, 54) (13068, 6)\n"
          ],
          "name": "stdout"
        }
      ]
    },
    {
      "cell_type": "code",
      "metadata": {
        "id": "eWTm45IVbEkd",
        "colab_type": "code",
        "outputId": "8906caba-4e1d-40e9-f4be-f3f877d3cbea",
        "colab": {
          "base_uri": "https://localhost:8080/",
          "height": 66
        }
      },
      "source": [
        "print (\"Train dataset info: {} images of size {}x{}\".format(train_dataset.shape[0], train_dataset.shape[1], train_dataset.shape[2]))\n",
        "\n",
        "print (\"Test dataset info: {} images of size {}x{}\".format(test_dataset.shape[0], test_dataset.shape[1], test_dataset.shape[2]))\n",
        "\n",
        "print (\"Valid dataset info: {} images of size {}x{}\".format(valid_dataset.shape[0], valid_dataset.shape[1], valid_dataset.shape[2]))"
      ],
      "execution_count": 31,
      "outputs": [
        {
          "output_type": "stream",
          "text": [
            "Train dataset info: 27401 images of size 54x54\n",
            "Test dataset info: 13068 images of size 54x54\n",
            "Valid dataset info: 6000 images of size 54x54\n"
          ],
          "name": "stdout"
        }
      ]
    },
    {
      "cell_type": "markdown",
      "metadata": {
        "id": "vZeiiyn8cQH2",
        "colab_type": "text"
      },
      "source": [
        "[number_of_digits, 1st digit, 2nd, 3rd, 4th 5th]"
      ]
    },
    {
      "cell_type": "code",
      "metadata": {
        "id": "0EMrJuJkIPLs",
        "colab_type": "code",
        "outputId": "c8f555a4-cf04-403a-8009-a67f30f06a0c",
        "colab": {
          "base_uri": "https://localhost:8080/",
          "height": 33
        }
      },
      "source": [
        "train_labels[0]"
      ],
      "execution_count": 32,
      "outputs": [
        {
          "output_type": "execute_result",
          "data": {
            "text/plain": [
              "array([ 2,  3,  2, 10, 10, 10])"
            ]
          },
          "metadata": {
            "tags": []
          },
          "execution_count": 32
        }
      ]
    },
    {
      "cell_type": "markdown",
      "metadata": {
        "id": "E04KBOM8u8Zr",
        "colab_type": "text"
      },
      "source": [
        "### Creating DataLoaders"
      ]
    },
    {
      "cell_type": "code",
      "metadata": {
        "id": "Y85TUCLRcG00",
        "colab_type": "code",
        "colab": {}
      },
      "source": [
        "class SVHNImageDataset(Dataset):\n",
        "  def __init__(self, dataset_object, label_object, transform=None):\n",
        "    self.data = dataset_object\n",
        "    self.labels = label_object\n",
        "    self.transform = transform\n",
        "    \n",
        "  def __len__(self):\n",
        "    return self.data.shape[0]\n",
        "  \n",
        "  def __getitem__(self, index):\n",
        "\n",
        "    image = self.data[index]\n",
        "    label = self.labels[index]\n",
        "    \n",
        "    return image,label"
      ],
      "execution_count": 0,
      "outputs": []
    },
    {
      "cell_type": "code",
      "metadata": {
        "id": "4Ks5i-4xInFb",
        "colab_type": "code",
        "colab": {}
      },
      "source": [
        "# create datasets of SVHNImageDataset class\n",
        "\n",
        "train_dataset_new = SVHNImageDataset(train_dataset, train_labels, transform=None)\n",
        "test_dataset_new = SVHNImageDataset(test_dataset, test_labels, transform=None)\n",
        "valid_dataset_new = SVHNImageDataset(valid_dataset, valid_labels, transform=None)"
      ],
      "execution_count": 0,
      "outputs": []
    },
    {
      "cell_type": "code",
      "metadata": {
        "id": "vaRp6Et7I5_Q",
        "colab_type": "code",
        "outputId": "51268503-cee5-403f-f854-a4dd0e70f6d0",
        "colab": {
          "base_uri": "https://localhost:8080/",
          "height": 50
        }
      },
      "source": [
        "img, label = train_dataset_new.__getitem__(0)\n",
        "\n",
        "print (img.shape, label.shape)\n",
        "\n",
        "print (len(train_dataset_new))"
      ],
      "execution_count": 35,
      "outputs": [
        {
          "output_type": "stream",
          "text": [
            "(54, 54) (6,)\n",
            "27401\n"
          ],
          "name": "stdout"
        }
      ]
    },
    {
      "cell_type": "markdown",
      "metadata": {
        "id": "ayn62EKBvRNj",
        "colab_type": "text"
      },
      "source": [
        "Now we create the DataLoaders"
      ]
    },
    {
      "cell_type": "code",
      "metadata": {
        "id": "cZAOI6amKIpt",
        "colab_type": "code",
        "colab": {}
      },
      "source": [
        "train_loader = DataLoader(train_dataset_new, batch_size=8, shuffle=True, drop_last=True)\n",
        "test_loader = DataLoader(test_dataset_new, batch_size=8, shuffle=True, drop_last=True)\n",
        "valid_loader = DataLoader(valid_dataset_new, batch_size=8, shuffle=True, drop_last=True)\n"
      ],
      "execution_count": 0,
      "outputs": []
    },
    {
      "cell_type": "markdown",
      "metadata": {
        "id": "6cJzcFSjxPDL",
        "colab_type": "text"
      },
      "source": [
        "Making sure that the data and the labels are of class: `Tensor` and everything is of correct shape"
      ]
    },
    {
      "cell_type": "code",
      "metadata": {
        "id": "7MMsQ_qWxGEM",
        "colab_type": "code",
        "outputId": "98baf9c0-0dd9-4bb1-a515-2845e99e5ede",
        "colab": {
          "base_uri": "https://localhost:8080/",
          "height": 115
        }
      },
      "source": [
        "for i, (data, label) in enumerate(train_loader):\n",
        "  print (type(data), type(label))\n",
        "  print (data.shape, label.shape)\n",
        "  break\n",
        "  \n",
        "for i, (data, label) in enumerate(test_loader):\n",
        "  print (type(data), type(label))\n",
        "  print (data.shape, label.shape)\n",
        "  break\n",
        "  \n",
        "for i, (data, label) in enumerate(valid_loader):\n",
        "  print (type(data), type(label))\n",
        "  print (data.shape, label.shape)\n",
        "  break"
      ],
      "execution_count": 37,
      "outputs": [
        {
          "output_type": "stream",
          "text": [
            "<class 'torch.Tensor'> <class 'torch.Tensor'>\n",
            "torch.Size([8, 54, 54]) torch.Size([8, 6])\n",
            "<class 'torch.Tensor'> <class 'torch.Tensor'>\n",
            "torch.Size([8, 54, 54]) torch.Size([8, 6])\n",
            "<class 'torch.Tensor'> <class 'torch.Tensor'>\n",
            "torch.Size([8, 54, 54]) torch.Size([8, 6])\n"
          ],
          "name": "stdout"
        }
      ]
    },
    {
      "cell_type": "markdown",
      "metadata": {
        "id": "Wcv5gTMmxcLU",
        "colab_type": "text"
      },
      "source": [
        "The shape is now `[batch_size, 64, 64]` for the data and `[batch_size, 6]` for the labels\n",
        "\n",
        "Just plotting some of the images and labels from the DataLoaders to make sure everything is OK"
      ]
    },
    {
      "cell_type": "code",
      "metadata": {
        "id": "kkMgpo5JKJDb",
        "colab_type": "code",
        "outputId": "c1ecea16-fafd-4983-b810-521e7515d2fd",
        "colab": {
          "base_uri": "https://localhost:8080/",
          "height": 373
        }
      },
      "source": [
        "for i, (data, label) in enumerate(train_loader):\n",
        "  first_batch = data\n",
        "  for x in range(first_batch.shape[0]):\n",
        "    plt.subplot(int(str(24)+str(x+1)))\n",
        "    plt.imshow(first_batch[x], cmap=\"gray\")\n",
        "    print (label[x])\n",
        "  break\n",
        "    \n",
        "plt.show()"
      ],
      "execution_count": 38,
      "outputs": [
        {
          "output_type": "stream",
          "text": [
            "tensor([ 2,  6,  5, 10, 10, 10])\n",
            "tensor([ 3,  4,  2,  9, 10, 10])\n",
            "tensor([ 2,  2,  8, 10, 10, 10])\n",
            "tensor([ 2,  7,  7, 10, 10, 10])\n",
            "tensor([ 4,  1, 10,  1,  4, 10])\n",
            "tensor([ 2,  6,  7, 10, 10, 10])\n",
            "tensor([ 1,  3, 10, 10, 10, 10])\n",
            "tensor([ 3,  2,  3,  5, 10, 10])\n"
          ],
          "name": "stdout"
        },
        {
          "output_type": "display_data",
          "data": {
            "image/png": "[encoded data removed]",
            "text/plain": [
              "<Figure size 432x288 with 8 Axes>"
            ]
          },
          "metadata": {
            "tags": []
          }
        }
      ]
    },
    {
      "cell_type": "code",
      "metadata": {
        "id": "MOzeecQ0zluA",
        "colab_type": "code",
        "outputId": "24854725-792d-44f6-dc63-00c37ad23500",
        "colab": {
          "base_uri": "https://localhost:8080/",
          "height": 384
        }
      },
      "source": [
        "for i, (data, label) in enumerate(test_loader):\n",
        "  first_batch = data\n",
        "  for x in range(first_batch.shape[0]):\n",
        "    plt.subplot(int(str(24)+str(x+1)))\n",
        "    plt.imshow(first_batch[x], cmap=\"gray\")\n",
        "    print (label[x])\n",
        "  break\n",
        "    \n",
        "plt.show()"
      ],
      "execution_count": 0,
      "outputs": [
        {
          "output_type": "stream",
          "text": [
            "tensor([ 1,  2, 10, 10, 10, 10])\n",
            "tensor([ 2,  5,  4, 10, 10, 10])\n",
            "tensor([ 2,  1, 10, 10, 10, 10])\n",
            "tensor([ 3,  1,  9,  9, 10, 10])\n",
            "tensor([ 2,  2,  9, 10, 10, 10])\n",
            "tensor([ 2,  4,  5, 10, 10, 10])\n",
            "tensor([ 1,  3, 10, 10, 10, 10])\n",
            "tensor([ 2,  5, 10, 10, 10, 10])\n"
          ],
          "name": "stdout"
        },
        {
          "output_type": "display_data",
          "data": {
            "image/png": "[encoded data removed]",
            "text/plain": [
              "<Figure size 432x288 with 8 Axes>"
            ]
          },
          "metadata": {
            "tags": []
          }
        }
      ]
    },
    {
      "cell_type": "code",
      "metadata": {
        "id": "ew_rHf_izpyN",
        "colab_type": "code",
        "outputId": "8e3cb3dd-121d-4d71-b629-4f8b3a09b119",
        "colab": {
          "base_uri": "https://localhost:8080/",
          "height": 378
        }
      },
      "source": [
        "for i, (data, label) in enumerate(valid_loader):\n",
        "  first_batch = data\n",
        "  for x in range(first_batch.shape[0]):\n",
        "    plt.subplot(int(str(24)+str(x+1)))\n",
        "    plt.imshow(first_batch[x], cmap=\"gray\")\n",
        "    print (label[x])\n",
        "  break\n",
        "    \n",
        "plt.show()"
      ],
      "execution_count": 0,
      "outputs": [
        {
          "output_type": "stream",
          "text": [
            "tensor([ 2,  1,  5, 10, 10, 10])\n",
            "tensor([ 3,  1,  4,  8, 10, 10])\n",
            "tensor([ 2,  6,  1, 10, 10, 10])\n",
            "tensor([ 2,  3,  3, 10, 10, 10])\n",
            "tensor([ 1,  1, 10, 10, 10, 10])\n",
            "tensor([ 2,  1,  6, 10, 10, 10])\n",
            "tensor([ 2,  4,  7, 10, 10, 10])\n",
            "tensor([ 2,  7,  1, 10, 10, 10])\n"
          ],
          "name": "stdout"
        },
        {
          "output_type": "display_data",
          "data": {
            "image/png": "[encoded data removed]",
            "text/plain": [
              "<Figure size 432x288 with 8 Axes>"
            ]
          },
          "metadata": {
            "tags": []
          }
        }
      ]
    },
    {
      "cell_type": "markdown",
      "metadata": {
        "id": "BKr0e1oNe-gm",
        "colab_type": "text"
      },
      "source": [
        "### Check the lables and data"
      ]
    },
    {
      "cell_type": "code",
      "metadata": {
        "id": "lZLbV8a1fCKq",
        "colab_type": "code",
        "colab": {}
      },
      "source": [
        "for i, (data, label) in enumerate(train_loader):\n",
        "  if label.shape[0] != 8 or label.shape[1]!=6:\n",
        "    print (i)\n",
        "  "
      ],
      "execution_count": 0,
      "outputs": []
    },
    {
      "cell_type": "code",
      "metadata": {
        "id": "qk5DUWIhffBc",
        "colab_type": "code",
        "colab": {}
      },
      "source": [
        "for i, (data, label) in enumerate(train_loader):\n",
        "  if label[:, 0].max().item() > 5:\n",
        "    print (label)\n",
        " \n",
        "  "
      ],
      "execution_count": 0,
      "outputs": []
    },
    {
      "cell_type": "markdown",
      "metadata": {
        "id": "DYoGhM--65SD",
        "colab_type": "text"
      },
      "source": [
        "### DataLoaders ready for use"
      ]
    },
    {
      "cell_type": "markdown",
      "metadata": {
        "id": "QqMUbL5X3Ioy",
        "colab_type": "text"
      },
      "source": [
        "### Create a simple CNN"
      ]
    },
    {
      "cell_type": "markdown",
      "metadata": {
        "id": "paUQ4JUIFXjl",
        "colab_type": "text"
      },
      "source": [
        "#### Things to do:\n",
        "\n",
        "1. Max out\n",
        "2. BatchNormalization\n",
        "3. Dropout"
      ]
    },
    {
      "cell_type": "code",
      "metadata": {
        "id": "kllGLFRC6e9d",
        "colab_type": "code",
        "colab": {}
      },
      "source": [
        "class MainCNN(nn.Module):\n",
        "    def __init__(self):\n",
        "        super(MainCNN, self).__init__()\n",
        "        self.conv1 = nn.Conv2d(in_channels=1, out_channels=48, kernel_size=(5, 5), padding=2, stride=1)\n",
        "        self.max1 = nn.MaxPool2d(2, stride=2)\n",
        "        self.conv2 = nn.Conv2d(in_channels=48, out_channels=64, kernel_size=(5, 5), padding=2, stride=1)\n",
        "        self.conv3 = nn.Conv2d(in_channels=64, out_channels=128, kernel_size=(5, 5), padding=2, stride=1)\n",
        "        self.max2 = nn.MaxPool2d(1, stride=2)\n",
        "        self.conv4 = nn.Conv2d(in_channels=128, out_channels=160, kernel_size=(5, 5), padding=2, stride=1)\n",
        "        self.conv5 = nn.Conv2d(in_channels=160, out_channels=192, kernel_size=(5, 5), padding=2, stride=1)\n",
        "        self.max3 = nn.MaxPool2d(2, stride=2)\n",
        "        self.conv6 = nn.Conv2d(in_channels=192, out_channels=192, kernel_size=(5, 5), padding=2, stride=1)\n",
        "        self.conv7 = nn.Conv2d(in_channels=192, out_channels=192, kernel_size=(5, 5), padding=2, stride=1)\n",
        "        self.max4 = nn.MaxPool2d(1, stride=2)\n",
        "        self.conv8 = nn.Conv2d(in_channels=192, out_channels=192, kernel_size=(5, 5), padding=2, stride=1)\n",
        "\n",
        "        self.fc1 = nn.Linear(3072, 3072)\n",
        "        self.fc1 = nn.Linear(3072, 3072)\n",
        "        \n",
        "        self.fc21 = nn.Linear(3072, 6)\n",
        "        \n",
        "        # below are the locally connected layers which are commented as we are only training for seq length\n",
        "        \n",
        "        \"\"\"\n",
        "        self.fc22 = nn.Linear(128, 11)\n",
        "        self.fc23 = nn.Linear(128, 11)\n",
        "        self.fc24 = nn.Linear(128, 11)\n",
        "        self.fc25 = nn.Linear(128, 11)\n",
        "        self.fc26 = nn.Linear(128, 11)\n",
        "        \"\"\"\n",
        "            \n",
        "    def forward(self, x):\n",
        "      \n",
        "      \n",
        "        out = self.conv1(x)\n",
        "        out = F.relu(out)\n",
        "        out = self.max1(out)\n",
        "        \n",
        "        #print (out.shape)\n",
        "        \n",
        "        out = self.conv2(out)\n",
        "        out = F.relu(out)\n",
        "        \n",
        "        #print (out.shape)\n",
        "        \n",
        "        out = self.conv3(out)\n",
        "        out = F.relu(out)\n",
        "        out = self.max2(out)\n",
        "        \n",
        "        #print (out.shape)\n",
        "        \n",
        "        out = self.conv4(out)\n",
        "        out = F.relu(out)\n",
        "        \n",
        "        #print (out.shape)\n",
        "        \n",
        "        out = self.conv5(out)\n",
        "        out = F.relu(out)\n",
        "        out = self.max3(out)\n",
        "        \n",
        "        #print (out.shape)\n",
        "        \n",
        "        out = self.conv6(out)\n",
        "        out = F.relu(out)\n",
        "        \n",
        "        #print (out.shape)\n",
        "        \n",
        "        out = self.conv7(out)\n",
        "        out = F.relu(out)\n",
        "        out = self.max4(out)\n",
        "        \n",
        "        #print (out.shape)\n",
        "        \n",
        "        out = self.conv8(out)\n",
        "        out = F.relu(out)\n",
        "        \n",
        "        #print ('last conv layer out:', out.shape)\n",
        "        \n",
        "        out = out.view(out.shape[0], -1)\n",
        "        out = self.fc1(out)\n",
        "        out = F.relu(out)\n",
        "        out = self.fc1(out)\n",
        "        out = F.relu(out)\n",
        "        out_l = F.log_softmax(self.fc21(out), dim=1)\n",
        "        \"\"\"\n",
        "        out_s1 = F.log_softmax(self.fc22(out), dim=1)\n",
        "        out_s2 = F.log_softmax(self.fc23(out), dim=1)\n",
        "        out_s3 = F.log_softmax(self.fc24(out), dim=1)\n",
        "        out_s4 = F.log_softmax(self.fc25(out), dim=1)\n",
        "        out_s5 = F.log_softmax(self.fc26(out), dim=1)\n",
        "        \"\"\"\n",
        "        \n",
        "        return out_l\n",
        "        \n",
        "        "
      ],
      "execution_count": 0,
      "outputs": []
    },
    {
      "cell_type": "markdown",
      "metadata": {
        "id": "yIYvCzhUSLpK",
        "colab_type": "text"
      },
      "source": [
        "SImple CNN"
      ]
    },
    {
      "cell_type": "code",
      "metadata": {
        "id": "ZFhkJerXSNdW",
        "colab_type": "code",
        "colab": {}
      },
      "source": [
        "class SimpleCNN(nn.Module):\n",
        "    def __init__(self):\n",
        "        super(SimpleCNN, self).__init__()\n",
        "        self.conv1 = nn.Conv2d(in_channels=1, out_channels=32, kernel_size=(5, 5), padding=0)\n",
        "        self.fc1 = nn.Linear(32 * 25**2, 128)\n",
        "        self.fc21 = nn.Linear(128, 6)\n",
        "        \n",
        "        # below are the locally connected layers which are commented as we are only training for seq length\n",
        "        \n",
        "        \"\"\"\n",
        "        self.fc22 = nn.Linear(128, 11)\n",
        "        self.fc23 = nn.Linear(128, 11)\n",
        "        self.fc24 = nn.Linear(128, 11)\n",
        "        self.fc25 = nn.Linear(128, 11)\n",
        "        self.fc26 = nn.Linear(128, 11)\n",
        "        \"\"\"\n",
        "            \n",
        "    def forward(self, x):\n",
        "        out = self.conv1(x)\n",
        "        out = F.relu(out)\n",
        "        out = F.max_pool2d(out, (2,2))\n",
        "        out = F.dropout(out, 0.2)\n",
        "        out = out.view(out.shape[0], -1)\n",
        "        out = self.fc1(out)\n",
        "        out = F.relu(out)\n",
        "        out_l = F.log_softmax(self.fc21(out), dim=1)\n",
        "        \"\"\"\n",
        "        out_s1 = F.log_softmax(self.fc22(out), dim=1)\n",
        "        out_s2 = F.log_softmax(self.fc23(out), dim=1)\n",
        "        out_s3 = F.log_softmax(self.fc24(out), dim=1)\n",
        "        out_s4 = F.log_softmax(self.fc25(out), dim=1)\n",
        "        out_s5 = F.log_softmax(self.fc26(out), dim=1)\n",
        "        \"\"\"\n",
        "        \n",
        "        return out_l"
      ],
      "execution_count": 0,
      "outputs": []
    },
    {
      "cell_type": "code",
      "metadata": {
        "id": "2sPKELDpzumY",
        "colab_type": "code",
        "outputId": "f548db60-f5cd-4556-a3ea-8f6f6a5461ef",
        "colab": {
          "base_uri": "https://localhost:8080/",
          "height": 33
        }
      },
      "source": [
        "# take one sample out from train data\n",
        "\n",
        "for data in train_loader:\n",
        "  sample = data[0].reshape((8,1,54,54))\n",
        "  label = data[1]\n",
        "  break\n",
        "  \n",
        "print(sample.shape,label.shape)"
      ],
      "execution_count": 72,
      "outputs": [
        {
          "output_type": "stream",
          "text": [
            "torch.Size([8, 1, 54, 54]) torch.Size([8, 6])\n"
          ],
          "name": "stdout"
        }
      ]
    },
    {
      "cell_type": "markdown",
      "metadata": {
        "id": "lX8_am4ylI6D",
        "colab_type": "text"
      },
      "source": [
        "When we run the sample input through our model ALL op values for the 8 elements in the batch are SAME - this should \n",
        "not be the case - please look into it"
      ]
    },
    {
      "cell_type": "code",
      "metadata": {
        "id": "6BntNBnvw6ba",
        "colab_type": "code",
        "outputId": "8f65203f-e472-4370-9026-a83e44f004bd",
        "colab": {
          "base_uri": "https://localhost:8080/",
          "height": 293
        }
      },
      "source": [
        "# build the model\n",
        "model = MainCNN()\n",
        "\n",
        "# just run the data through the model to check if all is OK\n",
        "\n",
        "with torch.no_grad():\n",
        "  output = model(sample)\n",
        "  print(output)\n",
        "  print (output.shape)\n",
        "  print (label)\n"
      ],
      "execution_count": 73,
      "outputs": [
        {
          "output_type": "stream",
          "text": [
            "tensor([[-1.7944, -1.8023, -1.7845, -1.8051, -1.7709, -1.7938],\n",
            "        [-1.7944, -1.8022, -1.7845, -1.8051, -1.7709, -1.7938],\n",
            "        [-1.7944, -1.8022, -1.7845, -1.8051, -1.7709, -1.7938],\n",
            "        [-1.7944, -1.8023, -1.7845, -1.8051, -1.7709, -1.7938],\n",
            "        [-1.7944, -1.8022, -1.7845, -1.8051, -1.7709, -1.7938],\n",
            "        [-1.7944, -1.8022, -1.7845, -1.8051, -1.7709, -1.7938],\n",
            "        [-1.7944, -1.8022, -1.7845, -1.8051, -1.7709, -1.7938],\n",
            "        [-1.7944, -1.8023, -1.7845, -1.8051, -1.7709, -1.7938]])\n",
            "torch.Size([8, 6])\n",
            "tensor([[ 2,  5,  6, 10, 10, 10],\n",
            "        [ 1,  3, 10, 10, 10, 10],\n",
            "        [ 2,  2,  5, 10, 10, 10],\n",
            "        [ 2,  1,  7, 10, 10, 10],\n",
            "        [ 2,  6,  4, 10, 10, 10],\n",
            "        [ 2,  3,  1, 10, 10, 10],\n",
            "        [ 2,  1,  6, 10, 10, 10],\n",
            "        [ 2,  8, 10, 10, 10, 10]])\n"
          ],
          "name": "stdout"
        }
      ]
    },
    {
      "cell_type": "markdown",
      "metadata": {
        "id": "dKqIJu0_lWw8",
        "colab_type": "text"
      },
      "source": [
        "We run the same sample through the simple model we had built earlier. This does not have the same prob"
      ]
    },
    {
      "cell_type": "code",
      "metadata": {
        "id": "mCPewyA-STvb",
        "colab_type": "code",
        "colab": {
          "base_uri": "https://localhost:8080/",
          "height": 293
        },
        "outputId": "c2f427d4-dfa6-45c1-a264-92d7c31cb730"
      },
      "source": [
        "# build the model\n",
        "model = SimpleCNN()\n",
        "\n",
        "# just run the data through the model to check if all is OK\n",
        "\n",
        "with torch.no_grad():\n",
        "  output = model(sample)\n",
        "  print(output)\n",
        "  print (output.shape)\n",
        "  print (label)"
      ],
      "execution_count": 74,
      "outputs": [
        {
          "output_type": "stream",
          "text": [
            "tensor([[-1.7786, -1.8693, -1.8164, -1.7568, -1.9146, -1.6385],\n",
            "        [-1.8576, -1.9094, -1.7136, -1.9179, -1.8004, -1.5924],\n",
            "        [-1.7409, -1.8841, -1.5864, -1.8721, -1.8153, -1.8877],\n",
            "        [-1.7170, -1.9494, -1.6312, -1.8976, -1.8476, -1.7442],\n",
            "        [-1.8251, -1.9659, -1.6238, -1.7582, -1.7428, -1.8693],\n",
            "        [-1.7865, -1.8085, -1.6311, -1.9276, -2.0105, -1.6428],\n",
            "        [-1.7739, -1.9364, -1.7419, -1.7287, -1.8178, -1.7659],\n",
            "        [-1.7587, -1.9309, -1.7697, -1.8075, -1.8392, -1.6642]])\n",
            "torch.Size([8, 6])\n",
            "tensor([[ 2,  5,  6, 10, 10, 10],\n",
            "        [ 1,  3, 10, 10, 10, 10],\n",
            "        [ 2,  2,  5, 10, 10, 10],\n",
            "        [ 2,  1,  7, 10, 10, 10],\n",
            "        [ 2,  6,  4, 10, 10, 10],\n",
            "        [ 2,  3,  1, 10, 10, 10],\n",
            "        [ 2,  1,  6, 10, 10, 10],\n",
            "        [ 2,  8, 10, 10, 10, 10]])\n"
          ],
          "name": "stdout"
        }
      ]
    },
    {
      "cell_type": "code",
      "metadata": {
        "id": "rnFp1Bfw3nvy",
        "colab_type": "code",
        "outputId": "3a80b4b0-bc23-41e5-ade1-721cf445c5ea",
        "colab": {
          "base_uri": "https://localhost:8080/",
          "height": 105
        }
      },
      "source": [
        "# test to see how softmax works\n",
        "\n",
        "x = torch.randn(8,11)\n",
        "\n",
        "print (\"one row:\", x[0]) # len = 11\n",
        "\n",
        "x_prob_densities = F.softmax(x, dim=1)\n",
        "\n",
        "print (\"one row:\", x_prob_densities[0])\n",
        "\n",
        "print (\"sum:\", x_prob_densities[0].sum())"
      ],
      "execution_count": 0,
      "outputs": [
        {
          "output_type": "stream",
          "text": [
            "one row: tensor([-1.0530, -0.2449, -0.4622,  1.1675,  1.1771,  0.0607, -0.4433, -0.1413,\n",
            "         0.6313, -0.1857,  1.3330])\n",
            "one row: tensor([0.0202, 0.0453, 0.0364, 0.1858, 0.1876, 0.0614, 0.0371, 0.0502, 0.1087,\n",
            "        0.0480, 0.2193])\n",
            "sum: tensor(1.0000)\n"
          ],
          "name": "stdout"
        }
      ]
    },
    {
      "cell_type": "code",
      "metadata": {
        "id": "iaHPlP8S6G9A",
        "colab_type": "code",
        "outputId": "d9fae58b-e761-4094-b8a7-79c24789acd6",
        "colab": {
          "base_uri": "https://localhost:8080/",
          "height": 34
        }
      },
      "source": [
        "# test code: not imprtant\n",
        "\n",
        "for data, label in train_loader:\n",
        "  print (data.shape, label[:,0].shape)\n",
        "  break\n",
        "  "
      ],
      "execution_count": 0,
      "outputs": [
        {
          "output_type": "stream",
          "text": [
            "torch.Size([8, 54, 54]) torch.Size([8])\n"
          ],
          "name": "stdout"
        }
      ]
    },
    {
      "cell_type": "markdown",
      "metadata": {
        "id": "4DtXxk867cOd",
        "colab_type": "text"
      },
      "source": [
        "Predict the model for JUST sq len\n",
        "\n",
        "Actually there should be 6 loss functions"
      ]
    },
    {
      "cell_type": "markdown",
      "metadata": {
        "id": "sH8LKnJa5Uj-",
        "colab_type": "text"
      },
      "source": [
        "How NLLLoss() works is if there is a 0 at index=2 that implies that log(prob) = 0 => prob = 1\n"
      ]
    },
    {
      "cell_type": "code",
      "metadata": {
        "id": "-If1qLj1AgEH",
        "colab_type": "code",
        "outputId": "d9f54ae9-ef2c-444e-aa5d-5a6b5703b50f",
        "colab": {
          "base_uri": "https://localhost:8080/",
          "height": 50
        }
      },
      "source": [
        "# code to debug how NLLLoss works\n",
        "\n",
        "# a is op of the final layer\n",
        "\n",
        "loss_function = nn.NLLLoss()\n",
        "\n",
        "a = torch.Tensor([[-1.8203, -1.5286, 0, -1.5661, -1.6726],\n",
        "        [-1.6850, 0, -1.6323, -1.6689, -1.5616],\n",
        "        [-1.7165, -1.4473, 0, -1.6150, -1.5951],\n",
        "        [-1.7558, -1.5215, 0, -1.6181, -1.7619],\n",
        "        [-1.7882, -1.6544, 0, -1.4396, -1.6582],\n",
        "        [-1.6793, -1.5983, 0, -1.5552, -1.7346],\n",
        "        [-1.8123, 0, -1.4687, -1.5695, -1.5606],\n",
        "        [-1.6865, -1.6428, -1.4178, 0, -1.6257]])\n",
        "print(a.shape)\n",
        "target = torch.LongTensor([2, 1, 2, 2, 2, 2, 1, 3])\n",
        "\n",
        "print (loss_function(a,target))"
      ],
      "execution_count": 0,
      "outputs": [
        {
          "output_type": "stream",
          "text": [
            "torch.Size([8, 5])\n",
            "tensor(0.)\n"
          ],
          "name": "stdout"
        }
      ]
    },
    {
      "cell_type": "code",
      "metadata": {
        "colab_type": "code",
        "id": "DXBdjJlC6Ex1",
        "colab": {}
      },
      "source": [
        "for i, (data, label) in enumerate(train_loader):\n",
        "  print (i, data.shape, label)\n",
        "  "
      ],
      "execution_count": 0,
      "outputs": []
    },
    {
      "cell_type": "code",
      "metadata": {
        "id": "nxcmh1nOEmZj",
        "colab_type": "code",
        "colab": {}
      },
      "source": [
        ""
      ],
      "execution_count": 0,
      "outputs": []
    },
    {
      "cell_type": "code",
      "metadata": {
        "id": "4_z2gJvyDiYI",
        "colab_type": "code",
        "outputId": "6b799aba-00af-4832-912a-c64db2e83e78",
        "colab": {
          "base_uri": "https://localhost:8080/",
          "height": 176
        }
      },
      "source": [
        "for i, (data, label) in enumerate(train_loader):\n",
        "  print (data.shape, label)\n",
        "  target_sequence_lengths = label[:,0]\n",
        "  print (target_sequence_lengths)\n",
        "  break"
      ],
      "execution_count": 0,
      "outputs": [
        {
          "output_type": "stream",
          "text": [
            "torch.Size([8, 64, 64]) tensor([[ 2,  1,  2, 10, 10, 10],\n",
            "        [ 2,  1,  3, 10, 10, 10],\n",
            "        [ 2,  1,  5, 10, 10, 10],\n",
            "        [ 2,  1,  1, 10, 10, 10],\n",
            "        [ 2,  1,  2, 10, 10, 10],\n",
            "        [ 3,  2,  9,  5, 10, 10],\n",
            "        [ 3,  1,  9,  9, 10, 10],\n",
            "        [ 2,  6,  2, 10, 10, 10]])\n",
            "tensor([2, 2, 2, 2, 2, 3, 3, 2])\n"
          ],
          "name": "stdout"
        }
      ]
    },
    {
      "cell_type": "markdown",
      "metadata": {
        "id": "fXK6Q0kX2zMA",
        "colab_type": "text"
      },
      "source": [
        "### Training the network"
      ]
    },
    {
      "cell_type": "code",
      "metadata": {
        "id": "GSol8aETM-Pw",
        "colab_type": "code",
        "colab": {}
      },
      "source": [
        "# GPU stuff and seed\n",
        "\n",
        "# fix random seed for reproducibility\n",
        "seed = 7\n",
        "torch.manual_seed(seed)\n",
        "torch.backends.cudnn.deterministic = True\n",
        "torch.backends.cudnn.benchmark = False\n",
        "import numpy as np\n",
        "np.random.seed(seed)"
      ],
      "execution_count": 0,
      "outputs": []
    },
    {
      "cell_type": "code",
      "metadata": {
        "id": "_twYOJlS5GcG",
        "colab_type": "code",
        "colab": {}
      },
      "source": [
        ""
      ],
      "execution_count": 0,
      "outputs": []
    },
    {
      "cell_type": "markdown",
      "metadata": {
        "id": "ysAZ4Dgm5Jtc",
        "colab_type": "text"
      },
      "source": [
        "#### Move model to GPU"
      ]
    },
    {
      "cell_type": "code",
      "metadata": {
        "id": "Yys32YYP5Hu8",
        "colab_type": "code",
        "outputId": "cacbbffe-f775-4754-b1df-33cfd0be9784",
        "colab": {
          "base_uri": "https://localhost:8080/",
          "height": 34
        }
      },
      "source": [
        "device = torch.device(\"cuda:0\" if torch.cuda.is_available() else \"cpu\")\n",
        "print(device)\n"
      ],
      "execution_count": 0,
      "outputs": [
        {
          "output_type": "stream",
          "text": [
            "cuda:0\n"
          ],
          "name": "stdout"
        }
      ]
    },
    {
      "cell_type": "code",
      "metadata": {
        "id": "4ivcPOq056zb",
        "colab_type": "code",
        "outputId": "1f92eb54-d398-41d9-cc19-218861cd0ebd",
        "colab": {
          "base_uri": "https://localhost:8080/",
          "height": 185
        }
      },
      "source": [
        "model.to(device)\n",
        "loss_function = nn.NLLLoss()\n",
        "optimizer = optim.Adam(model.parameters(), lr=0.001)\n",
        "\n",
        "for epoch in range(5):\n",
        "  running_loss = 0.0\n",
        "  print (\"Epoch:\", epoch)\n",
        "  for i, (data, label) in enumerate(train_loader):\n",
        "    # Step 1. Remember that PyTorch accumulates gradients.\n",
        "    # We need to clear them out before each instance\n",
        "    model.zero_grad()\n",
        "    \n",
        "    data = data.reshape((8,1,54,54)).to(device)\n",
        "    target_sequence_lengths = label[:,0].to(device)\n",
        "    \n",
        "    # Step 3. Run our forward pass.\n",
        "    log_probs = model(data).cuda()\n",
        "\n",
        "\n",
        "    target_sequence_lengths = torch.cuda.LongTensor(target_sequence_lengths).to(device)\n",
        "\n",
        "\n",
        "    # Step 4. Compute the loss, gradients, and update the parameters by\n",
        "    # calling optimizer.step()\n",
        "    loss = loss_function(log_probs, target_sequence_lengths)\n",
        "\n",
        "    loss.backward()\n",
        "    optimizer.step()\n",
        "    \n",
        "    # print statistics\n",
        "    running_loss += loss.item()\n",
        "    if i % 2000 == 1999:    # print every 2000 mini-batches\n",
        "      print('[%d, %5d] loss: %.3f' %\n",
        "            (epoch + 1, i + 1, running_loss / 2000))\n",
        "      running_loss = 0.0\n",
        "\n",
        "    \n",
        "   "
      ],
      "execution_count": 0,
      "outputs": [
        {
          "output_type": "stream",
          "text": [
            "Epoch: 0\n",
            "[1,  2000] loss: 1.162\n",
            "Epoch: 1\n",
            "[2,  2000] loss: 1.113\n",
            "Epoch: 2\n",
            "[3,  2000] loss: 1.107\n",
            "Epoch: 3\n",
            "[4,  2000] loss: 1.108\n",
            "Epoch: 4\n",
            "[5,  2000] loss: 1.103\n"
          ],
          "name": "stdout"
        }
      ]
    },
    {
      "cell_type": "code",
      "metadata": {
        "id": "FhhM7a2JLt7n",
        "colab_type": "code",
        "outputId": "0fedf360-5432-4fe1-ab73-0d4fe5f1fa67",
        "colab": {
          "base_uri": "https://localhost:8080/",
          "height": 857
        }
      },
      "source": [
        "correct = 0\n",
        "\n",
        "total = 0\n",
        "\n",
        "with torch.no_grad():\n",
        "  for i, (data, label) in enumerate(train_loader):\n",
        "    \n",
        "    data = data.reshape((8,1,54,54)).to(device)\n",
        "    target_sequence_lengths = label[:,0].to(device)\n",
        "    \n",
        "    # Step 3. Run our forward pass.\n",
        "    log_probs = model(data).cuda()\n",
        "\n",
        "    # print (data[1])\n",
        "\n",
        "    target_sequence_lengths = torch.cuda.LongTensor(target_sequence_lengths).to(device)\n",
        "    \n",
        "    #plt.imshow(data[0].cpu().numpy().reshape(54,54))\n",
        "    \n",
        "    #plt.show()\n",
        "    \n",
        "    print (log_probs)\n",
        "    \n",
        "    print (target_sequence_lengths)\n",
        "    \n",
        "    if i > 3:\n",
        "      break\n",
        "    \n",
        "    "
      ],
      "execution_count": 0,
      "outputs": [
        {
          "output_type": "stream",
          "text": [
            "tensor([[-17.0011,  -1.9214,  -0.5479,  -1.4351,  -3.2970,  -8.0345],\n",
            "        [-17.0011,  -1.9214,  -0.5479,  -1.4351,  -3.2970,  -8.0345],\n",
            "        [-17.0011,  -1.9214,  -0.5479,  -1.4351,  -3.2970,  -8.0345],\n",
            "        [-17.0011,  -1.9214,  -0.5479,  -1.4351,  -3.2970,  -8.0345],\n",
            "        [-17.0011,  -1.9214,  -0.5479,  -1.4351,  -3.2970,  -8.0345],\n",
            "        [-17.0011,  -1.9214,  -0.5479,  -1.4351,  -3.2970,  -8.0345],\n",
            "        [-17.0011,  -1.9214,  -0.5479,  -1.4351,  -3.2970,  -8.0345],\n",
            "        [-17.0011,  -1.9214,  -0.5479,  -1.4351,  -3.2970,  -8.0345]],\n",
            "       device='cuda:0')\n",
            "tensor([2, 2, 2, 3, 2, 1, 3, 2], device='cuda:0')\n",
            "tensor([[-17.0011,  -1.9214,  -0.5479,  -1.4351,  -3.2970,  -8.0345],\n",
            "        [-17.0011,  -1.9214,  -0.5479,  -1.4351,  -3.2970,  -8.0345],\n",
            "        [-17.0011,  -1.9214,  -0.5479,  -1.4351,  -3.2970,  -8.0345],\n",
            "        [-17.0011,  -1.9214,  -0.5479,  -1.4351,  -3.2970,  -8.0345],\n",
            "        [-17.0011,  -1.9214,  -0.5479,  -1.4351,  -3.2970,  -8.0345],\n",
            "        [-17.0011,  -1.9214,  -0.5479,  -1.4351,  -3.2970,  -8.0345],\n",
            "        [-17.0011,  -1.9214,  -0.5479,  -1.4351,  -3.2970,  -8.0345],\n",
            "        [-17.0011,  -1.9214,  -0.5479,  -1.4351,  -3.2970,  -8.0345]],\n",
            "       device='cuda:0')\n",
            "tensor([2, 4, 1, 1, 2, 2, 2, 3], device='cuda:0')\n",
            "tensor([[-17.0011,  -1.9214,  -0.5479,  -1.4351,  -3.2970,  -8.0345],\n",
            "        [-17.0011,  -1.9214,  -0.5479,  -1.4351,  -3.2970,  -8.0345],\n",
            "        [-17.0011,  -1.9214,  -0.5479,  -1.4351,  -3.2970,  -8.0345],\n",
            "        [-17.0011,  -1.9214,  -0.5479,  -1.4351,  -3.2970,  -8.0345],\n",
            "        [-17.0011,  -1.9214,  -0.5479,  -1.4351,  -3.2970,  -8.0345],\n",
            "        [-17.0011,  -1.9214,  -0.5479,  -1.4351,  -3.2970,  -8.0345],\n",
            "        [-17.0011,  -1.9214,  -0.5479,  -1.4351,  -3.2970,  -8.0345],\n",
            "        [-17.0011,  -1.9214,  -0.5479,  -1.4351,  -3.2970,  -8.0345]],\n",
            "       device='cuda:0')\n",
            "tensor([2, 1, 2, 1, 2, 2, 1, 3], device='cuda:0')\n",
            "tensor([[-17.0011,  -1.9214,  -0.5479,  -1.4351,  -3.2970,  -8.0345],\n",
            "        [-17.0011,  -1.9214,  -0.5479,  -1.4351,  -3.2970,  -8.0345],\n",
            "        [-17.0011,  -1.9214,  -0.5479,  -1.4351,  -3.2970,  -8.0345],\n",
            "        [-17.0011,  -1.9214,  -0.5479,  -1.4351,  -3.2970,  -8.0345],\n",
            "        [-17.0011,  -1.9214,  -0.5479,  -1.4351,  -3.2970,  -8.0345],\n",
            "        [-17.0011,  -1.9214,  -0.5479,  -1.4351,  -3.2970,  -8.0345],\n",
            "        [-17.0011,  -1.9214,  -0.5479,  -1.4351,  -3.2970,  -8.0345],\n",
            "        [-17.0011,  -1.9214,  -0.5479,  -1.4351,  -3.2970,  -8.0345]],\n",
            "       device='cuda:0')\n",
            "tensor([3, 3, 2, 4, 2, 2, 2, 3], device='cuda:0')\n",
            "tensor([[-17.0011,  -1.9214,  -0.5479,  -1.4351,  -3.2970,  -8.0345],\n",
            "        [-17.0011,  -1.9214,  -0.5479,  -1.4351,  -3.2970,  -8.0345],\n",
            "        [-17.0011,  -1.9214,  -0.5479,  -1.4351,  -3.2970,  -8.0345],\n",
            "        [-17.0011,  -1.9214,  -0.5479,  -1.4351,  -3.2970,  -8.0345],\n",
            "        [-17.0011,  -1.9214,  -0.5479,  -1.4351,  -3.2970,  -8.0345],\n",
            "        [-17.0011,  -1.9214,  -0.5479,  -1.4351,  -3.2970,  -8.0345],\n",
            "        [-17.0011,  -1.9214,  -0.5479,  -1.4351,  -3.2970,  -8.0345],\n",
            "        [-17.0011,  -1.9214,  -0.5479,  -1.4351,  -3.2970,  -8.0345]],\n",
            "       device='cuda:0')\n",
            "tensor([1, 3, 2, 3, 2, 1, 2, 2], device='cuda:0')\n"
          ],
          "name": "stdout"
        }
      ]
    },
    {
      "cell_type": "code",
      "metadata": {
        "id": "vzjA3htqMyx0",
        "colab_type": "code",
        "outputId": "6d38a648-2585-4a61-c234-4e83bc2ab241",
        "colab": {
          "base_uri": "https://localhost:8080/",
          "height": 33
        }
      },
      "source": [
        "np.log(0.9)"
      ],
      "execution_count": 76,
      "outputs": [
        {
          "output_type": "execute_result",
          "data": {
            "text/plain": [
              "-0.10536051565782628"
            ]
          },
          "metadata": {
            "tags": []
          },
          "execution_count": 76
        }
      ]
    }
  ]
}